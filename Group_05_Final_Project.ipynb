{
 "cells": [
  {
   "cell_type": "markdown",
   "id": "c6a59cb6-6aac-48da-939f-c26790578259",
   "metadata": {},
   "source": [
    "# Final Project\n",
    "Group 5: Janet Zhuang, Neel Barge, Yuxin Zhang, Zaurez Hamid, Ranchen Huang, Ming Tang, Zhangtao Ying\n",
    "\n",
    " \n",
    " \n",
    " \n",
    " \n",
    " \n"
   ]
  },
  {
   "cell_type": "markdown",
   "id": "771e64dd-3739-4748-8a19-3a40af4edc65",
   "metadata": {
    "jp-MarkdownHeadingCollapsed": true,
    "tags": []
   },
   "source": [
    "## Ask 1 - Data Collection\n",
    "Data Sources\n",
    "\n",
    "* JHU Datasets: https://coronavirus.jhu.edu/about/how-to-use-our-data\n",
    "* Cases: https://github.com/CSSEGISandData/COVID-19/tree/master/csse_covid_19_data/csse_covid_19_daily_reports_us\n",
    "* Deaths: https://github.com/govex/COVID-19/blob/master/data_tables/vaccine_data/us_data/time_series/vaccine_data_us_timeline.csv & https://raw.githubusercontent.com/govex/COVID-\n",
    "* Vaccine: https://github.com/govex/COVID-19/blob/master/data_tables/vaccine_data/us_data/time_series/vaccine_data_us_timeline.csv\n",
    "* People Vaccinated: https://raw.githubusercontent.com/govex/COVID-19/master/data_tables/vaccine_data/us_data/time_series/people_vaccinated_us_timeline.csv\n",
    "* Testing: https://raw.githubusercontent.com/govex/COVID-19/master/data_tables/testing_data/time_series_covid19_US.csv \n",
    "* Dictionary files of above data:\n",
    "https://github.com/CSSEGISandData/COVID-19/blob/master/csse_covid_19_data/README.md\n",
    "https://github.com/govex/COVID-19/blob/master/data_tables/vaccine_data/us_data/data_dictionary.csv\n",
    "https://github.com/govex/COVID-19/blob/master/data_tables/testing_data/data_dictionary.csv\n",
    "\n",
    "## Set up"
   ]
  },
  {
   "cell_type": "markdown",
   "id": "fafaec4a-149a-40c1-838a-48d973ce0333",
   "metadata": {},
   "source": [
    "### create relational database"
   ]
  },
  {
   "cell_type": "code",
   "execution_count": 1,
   "id": "078aaa4e-5320-4610-aca2-d0651a36bc55",
   "metadata": {},
   "outputs": [],
   "source": [
    "%load_ext sql"
   ]
  },
  {
   "cell_type": "code",
   "execution_count": 2,
   "id": "913b0a2c-d7da-496c-a262-8b8a3e01e9df",
   "metadata": {},
   "outputs": [],
   "source": [
    "!dropdb -U student yxz1"
   ]
  },
  {
   "cell_type": "code",
   "execution_count": 3,
   "id": "0669136b-a788-4087-947f-4c5aa36d3461",
   "metadata": {},
   "outputs": [],
   "source": [
    "!createdb -U student yxz1"
   ]
  },
  {
   "cell_type": "code",
   "execution_count": 4,
   "id": "876a156b-f1d3-4778-9ee0-a3188feaa5df",
   "metadata": {},
   "outputs": [],
   "source": [
    "%sql postgresql://student@/yxz1"
   ]
  },
  {
   "cell_type": "markdown",
   "id": "ea0fb1f5-4f0e-4f04-a656-9b321c84ebb9",
   "metadata": {
    "jp-MarkdownHeadingCollapsed": true,
    "tags": []
   },
   "source": [
    "## Ask1 Acquire data\n",
    "#### Load cases and death data from 04/12/2020 to 11/15/2021"
   ]
  },
  {
   "cell_type": "code",
   "execution_count": null,
   "id": "c089850c-0dd7-49f5-942a-a6bfc6004b6f",
   "metadata": {},
   "outputs": [],
   "source": [
    "!pwd"
   ]
  },
  {
   "cell_type": "code",
   "execution_count": null,
   "id": "4906db0d-8a4f-4492-ba74-c5e3d18003cb",
   "metadata": {
    "tags": []
   },
   "outputs": [],
   "source": [
    "!wget -i cases.csv"
   ]
  },
  {
   "cell_type": "code",
   "execution_count": null,
   "id": "5689249e-eb83-4c61-a493-6aee080559c0",
   "metadata": {},
   "outputs": [],
   "source": [
    "!rm -f cases.csv"
   ]
  },
  {
   "cell_type": "code",
   "execution_count": null,
   "id": "f3a33473-9543-4b17-85fe-e5aef9c0c312",
   "metadata": {},
   "outputs": [],
   "source": [
    "!rm -f 11-16-2021.csv"
   ]
  },
  {
   "cell_type": "code",
   "execution_count": null,
   "id": "519b2aa0-7748-4f6c-b802-6241dcb641a7",
   "metadata": {},
   "outputs": [],
   "source": [
    "!rm -f 11-2*-2021.csv"
   ]
  },
  {
   "cell_type": "code",
   "execution_count": null,
   "id": "7e8bf0d1-d9f4-4f44-8db3-115d89184b6e",
   "metadata": {},
   "outputs": [],
   "source": [
    "!rm -f 11-17-2021.csv"
   ]
  },
  {
   "cell_type": "code",
   "execution_count": null,
   "id": "c593951d-48fe-4775-9958-df10e46cb2f2",
   "metadata": {},
   "outputs": [],
   "source": [
    "!rm -f 11-18-2021.csv"
   ]
  },
  {
   "cell_type": "code",
   "execution_count": null,
   "id": "cb9cbd7f-8249-4283-8a7d-cf460b3a99af",
   "metadata": {
    "tags": []
   },
   "outputs": [],
   "source": [
    "!rm -f 11-19-2021.csv"
   ]
  },
  {
   "cell_type": "code",
   "execution_count": null,
   "id": "5dfbd644-423f-448e-9f43-7b6038cacb45",
   "metadata": {},
   "outputs": [],
   "source": [
    "!csvstack *.csv > cases_death.csv"
   ]
  },
  {
   "cell_type": "code",
   "execution_count": null,
   "id": "e3c532a9-9bcc-45c2-8e0d-b173ac86a9dc",
   "metadata": {},
   "outputs": [],
   "source": [
    "!wc -l cases_death.csv"
   ]
  },
  {
   "cell_type": "code",
   "execution_count": null,
   "id": "7d6cb99f-6a9e-4227-ba09-490945fe8149",
   "metadata": {},
   "outputs": [],
   "source": [
    "!rm -f *-2020.csv"
   ]
  },
  {
   "cell_type": "code",
   "execution_count": null,
   "id": "fa6691b9-5864-455b-a8ff-b2e0791f9434",
   "metadata": {},
   "outputs": [],
   "source": [
    "!rm -f *-2021.csv"
   ]
  },
  {
   "cell_type": "markdown",
   "id": "bf3611a2-7c86-4263-aa92-dfbbc11aae20",
   "metadata": {
    "tags": []
   },
   "source": [
    "#### Load vaccine data (12/10/2020 – 11/15/2021) and testing data"
   ]
  },
  {
   "cell_type": "markdown",
   "id": "a615ac2b-bd0e-4047-9a87-6975ea2e388f",
   "metadata": {},
   "source": [
    "#### Loading Test"
   ]
  },
  {
   "cell_type": "code",
   "execution_count": null,
   "id": "e51a46a2-9d30-4b4f-9533-38acee8d3e2b",
   "metadata": {},
   "outputs": [],
   "source": [
    "!wget https://raw.githubusercontent.com/govex/COVID-19/master/data_tables/vaccine_data/us_data/time_series/vaccine_data_us_timeline.csv"
   ]
  },
  {
   "cell_type": "code",
   "execution_count": null,
   "id": "d2ab635f-d277-42a3-90e0-66d8c313e448",
   "metadata": {},
   "outputs": [],
   "source": [
    "!wc -l vaccine_data_us_timeline.csv"
   ]
  },
  {
   "cell_type": "code",
   "execution_count": null,
   "id": "db227689-de95-4351-ae34-a4487849857c",
   "metadata": {},
   "outputs": [],
   "source": [
    "# changing name to vaccine_data\n",
    "!mv vaccine_data_us_timeline.csv vaccine_data.csv "
   ]
  },
  {
   "cell_type": "code",
   "execution_count": null,
   "id": "9d49e1c8-b86a-4c91-a17e-f26c805cbe78",
   "metadata": {},
   "outputs": [],
   "source": [
    "!wget https://raw.githubusercontent.com/govex/COVID-19/master/data_tables/testing_data/time_series_covid19_US.csv"
   ]
  },
  {
   "cell_type": "code",
   "execution_count": null,
   "id": "6cb82be5-55eb-48a4-8de0-8698388dc3dd",
   "metadata": {},
   "outputs": [],
   "source": [
    "!wc -l time_series_covid19_US.csv"
   ]
  },
  {
   "cell_type": "code",
   "execution_count": null,
   "id": "8202f701-6ebc-4d4d-8b9c-9107a514a392",
   "metadata": {},
   "outputs": [],
   "source": [
    "# changing name to test_data\n",
    "!mv time_series_covid19_US.csv test.csv "
   ]
  },
  {
   "cell_type": "markdown",
   "id": "ac07b2f7-7b3d-4cfe-b87a-3504ba719277",
   "metadata": {},
   "source": [
    "#### Load vaccine data"
   ]
  },
  {
   "cell_type": "code",
   "execution_count": null,
   "id": "3ba3204a-6156-44fe-ba20-318f550a3957",
   "metadata": {},
   "outputs": [],
   "source": [
    "!wget https://raw.githubusercontent.com/govex/COVID-19/master/data_tables/vaccine_data/us_data/time_series/people_vaccinated_us_timeline.csv"
   ]
  },
  {
   "cell_type": "code",
   "execution_count": null,
   "id": "aec2e2f7-196c-4388-838a-f3488f4a64fb",
   "metadata": {},
   "outputs": [],
   "source": [
    "!wget https://raw.githubusercontent.com/govex/COVID-19/master/data_tables/vaccine_data/us_data/time_series/vaccine_data_us_timeline.csv"
   ]
  },
  {
   "cell_type": "code",
   "execution_count": null,
   "id": "dfbf768c-3cfb-49c2-89aa-59acddee0ce9",
   "metadata": {},
   "outputs": [],
   "source": [
    "!mv people_vaccinated_us_timeline.csv ppl_vaccine_data.csv "
   ]
  },
  {
   "cell_type": "code",
   "execution_count": null,
   "id": "9a3696d8-3d7d-4bd3-ab70-af93b38a4341",
   "metadata": {},
   "outputs": [],
   "source": [
    "!wc -l ppl_vaccine_data.csv "
   ]
  },
  {
   "cell_type": "code",
   "execution_count": null,
   "id": "02c52a3d-d25a-4244-b6dd-71455f8b1419",
   "metadata": {},
   "outputs": [],
   "source": [
    "!wc -l test.csv"
   ]
  },
  {
   "cell_type": "code",
   "execution_count": null,
   "id": "e9c8cd03-0037-4ce3-bf59-2cc1be3f6231",
   "metadata": {},
   "outputs": [],
   "source": [
    "!wc -l vaccine_data.csv"
   ]
  },
  {
   "cell_type": "code",
   "execution_count": null,
   "id": "e937be1d-5285-4587-9e36-ddc91a351e00",
   "metadata": {},
   "outputs": [],
   "source": [
    "!wc -l cases_death.csv"
   ]
  },
  {
   "cell_type": "markdown",
   "id": "a697c678-1428-4657-b214-7cf8de3b3764",
   "metadata": {
    "jp-MarkdownHeadingCollapsed": true,
    "tags": []
   },
   "source": [
    "## Ask2 Surveying and Wrangling Data\n",
    "\n"
   ]
  },
  {
   "cell_type": "markdown",
   "id": "f13d09bc-c107-4e2b-819f-4b2b650036a3",
   "metadata": {},
   "source": [
    "### Table of cases and death"
   ]
  },
  {
   "cell_type": "code",
   "execution_count": null,
   "id": "8622d3c2-6691-4a59-8e43-d63cf05a680f",
   "metadata": {},
   "outputs": [],
   "source": [
    "!csvcut -n cases_death.csv"
   ]
  },
  {
   "cell_type": "code",
   "execution_count": null,
   "id": "1d6a6013-232d-433c-b611-86342d39d3e6",
   "metadata": {
    "tags": []
   },
   "outputs": [],
   "source": [
    "!head -n 10000 cases_death.csv | csvstat"
   ]
  },
  {
   "cell_type": "code",
   "execution_count": 5,
   "id": "a0ff2128-6e26-41e0-84a0-36c409497c3d",
   "metadata": {},
   "outputs": [
    {
     "name": "stdout",
     "output_type": "stream",
     "text": [
      " * postgresql://student@/yxz1\n",
      "Done.\n",
      "Done.\n"
     ]
    },
    {
     "data": {
      "text/plain": [
       "[]"
      ]
     },
     "execution_count": 5,
     "metadata": {},
     "output_type": "execute_result"
    }
   ],
   "source": [
    "%%sql\n",
    "DROP TABLE IF EXISTS casesdeath;\n",
    "\n",
    "CREATE TABLE casesdeath(\n",
    "    Province_State VARCHAR(30) NOT NULL,\n",
    "    Country_Region VARCHAR(30) NOT NULL,\n",
    "    Last_Update TIMESTAMP NULL,\n",
    "    Lat NUMERIC NULL,\n",
    "    Long_ NUMERIC NULL,\n",
    "    Confirmed INTEGER NOT NULL,\n",
    "    Deaths INTEGER NOT NULL,\n",
    "    Recovered NUMERIC NULL,\n",
    "    Active NUMERIC NULL,\n",
    "    FIPS NUMERIC NULL,\n",
    "    Incident_Rate NUMERIC NULL,\n",
    "    Total_Test_Results NUMERIC NULL,\n",
    "    People_Hospitalized NUMERIC NULL,\n",
    "    Case_Fatality_Ratio NUMERIC NULL,\n",
    "    UID NUMERIC NOT NULL,\n",
    "    ISO3 VARCHAR(3) NOT NULL,\n",
    "    Testing_Rate NUMERIC NULL,\n",
    "    Hospitalization_Rate NUMERIC NULL\n",
    ")"
   ]
  },
  {
   "cell_type": "code",
   "execution_count": null,
   "id": "2410bc6f-94dd-4ced-a792-299f2464edb7",
   "metadata": {},
   "outputs": [],
   "source": [
    "!pwd"
   ]
  },
  {
   "cell_type": "code",
   "execution_count": 6,
   "id": "fdd58c3f-0628-422c-b053-8abe7298bee0",
   "metadata": {},
   "outputs": [
    {
     "name": "stdout",
     "output_type": "stream",
     "text": [
      " * postgresql://student@/yxz1\n",
      "33832 rows affected.\n"
     ]
    },
    {
     "data": {
      "text/plain": [
       "[]"
      ]
     },
     "execution_count": 6,
     "metadata": {},
     "output_type": "execute_result"
    }
   ],
   "source": [
    "%%sql\n",
    "COPY casesdeath FROM '/home/ubuntu/1116/cases_death.csv'\n",
    "CSV\n",
    "HEADER;"
   ]
  },
  {
   "cell_type": "code",
   "execution_count": null,
   "id": "aef95e8a-7303-418a-b210-c6424d61573f",
   "metadata": {},
   "outputs": [],
   "source": [
    "%%sql\n",
    "SELECT COUNT(*) FROM casesdeath;"
   ]
  },
  {
   "cell_type": "code",
   "execution_count": null,
   "id": "b4995cc0-f07e-44e3-aa1e-820cb8b1b20b",
   "metadata": {},
   "outputs": [],
   "source": [
    "!wc -l cases_death.csv"
   ]
  },
  {
   "cell_type": "markdown",
   "id": "111ebe80-cf7b-4854-b39f-771929be4857",
   "metadata": {},
   "source": [
    "### Table of vaccine data"
   ]
  },
  {
   "cell_type": "code",
   "execution_count": null,
   "id": "b465e578-776d-416a-a3b4-a11655ddff2f",
   "metadata": {},
   "outputs": [],
   "source": [
    "!csvcut -n vaccine_data.csv"
   ]
  },
  {
   "cell_type": "code",
   "execution_count": null,
   "id": "de2ca737-52f3-4b0a-ac5b-8999f06212f7",
   "metadata": {
    "tags": []
   },
   "outputs": [],
   "source": [
    "!head -n 10000 vaccine_data.csv | csvstat\n",
    "# check null values"
   ]
  },
  {
   "cell_type": "code",
   "execution_count": 7,
   "id": "d976a888-38f0-488e-85d2-0fd87287aeaa",
   "metadata": {},
   "outputs": [
    {
     "name": "stdout",
     "output_type": "stream",
     "text": [
      " * postgresql://student@/yxz1\n",
      "Done.\n",
      "Done.\n"
     ]
    },
    {
     "data": {
      "text/plain": [
       "[]"
      ]
     },
     "execution_count": 7,
     "metadata": {},
     "output_type": "execute_result"
    }
   ],
   "source": [
    "%%sql\n",
    "DROP TABLE IF EXISTS vaccine;\n",
    "\n",
    "CREATE TABLE vaccine (\n",
    "    Province_State VARCHAR(60) NOT NULL,\n",
    "    Date TIMESTAMP NOT NULL,\n",
    "    Vaccine_Type VARCHAR(11) NOT NULL,\n",
    "    FIPS NUMERIC NULL,\n",
    "    Country_Region VARCHAR(2) NULL,\n",
    "    Lat NUMERIC NULL,\n",
    "    Long_ NUMERIC NULL,\n",
    "    Doses_alloc NUMERIC NULL,\n",
    "    Doses_shipped NUMERIC NULL,\n",
    "    Doses_admin NUMERIC NULL,\n",
    "    Stage_One_Doses NUMERIC NULL,\n",
    "    Stage_Two_Doses NUMERIC NULL,\n",
    "    Combined_Key VARCHAR(50) NOT NULL\n",
    ")"
   ]
  },
  {
   "cell_type": "code",
   "execution_count": null,
   "id": "a7a40469-3e25-4198-b550-043f33763e53",
   "metadata": {},
   "outputs": [],
   "source": [
    "!pwd"
   ]
  },
  {
   "cell_type": "code",
   "execution_count": 8,
   "id": "801ed3c0-ea46-4dc6-b410-95c4841c1644",
   "metadata": {},
   "outputs": [
    {
     "name": "stdout",
     "output_type": "stream",
     "text": [
      " * postgresql://student@/yxz1\n",
      "118444 rows affected.\n"
     ]
    },
    {
     "data": {
      "text/plain": [
       "[]"
      ]
     },
     "execution_count": 8,
     "metadata": {},
     "output_type": "execute_result"
    }
   ],
   "source": [
    "%%sql\n",
    "COPY vaccine FROM '/home/ubuntu/1116/vaccine_data.csv'\n",
    "CSV\n",
    "HEADER;"
   ]
  },
  {
   "cell_type": "code",
   "execution_count": null,
   "id": "a69666d8-a02f-4876-a5fa-26e7a5dead30",
   "metadata": {},
   "outputs": [],
   "source": [
    "%%sql\n",
    "SELECT COUNT(*) FROM vaccine;"
   ]
  },
  {
   "cell_type": "code",
   "execution_count": null,
   "id": "d894d08d-bbed-457e-9e62-a0791790be86",
   "metadata": {},
   "outputs": [],
   "source": [
    "!wc -l vaccine_data.csv"
   ]
  },
  {
   "cell_type": "markdown",
   "id": "44a6c042-f7d5-4da5-ba32-fd1174ce3065",
   "metadata": {
    "tags": []
   },
   "source": [
    "### Table of testing data"
   ]
  },
  {
   "cell_type": "code",
   "execution_count": null,
   "id": "77c6f06c-26e7-4d92-bb3b-2b3c7b5c92f7",
   "metadata": {},
   "outputs": [],
   "source": [
    "!csvcut -n test.csv"
   ]
  },
  {
   "cell_type": "code",
   "execution_count": null,
   "id": "7350a911-cc14-4db6-96e6-a30fbadeee51",
   "metadata": {
    "tags": []
   },
   "outputs": [],
   "source": [
    "!head -n 10000 test.csv | csvstat"
   ]
  },
  {
   "cell_type": "code",
   "execution_count": 9,
   "id": "df0e704a-8823-40bd-bbb3-40859da51fcc",
   "metadata": {},
   "outputs": [
    {
     "name": "stdout",
     "output_type": "stream",
     "text": [
      " * postgresql://student@/yxz1\n",
      "Done.\n",
      "Done.\n"
     ]
    },
    {
     "data": {
      "text/plain": [
       "[]"
      ]
     },
     "execution_count": 9,
     "metadata": {},
     "output_type": "execute_result"
    }
   ],
   "source": [
    "%%sql\n",
    "DROP TABLE IF EXISTS test;\n",
    "\n",
    "CREATE TABLE test(\n",
    "    date TIMESTAMP NOT NULL,\n",
    "    state VARCHAR(2) NOT NULL,\n",
    "    cases_conf_probable INTEGER NULL,\n",
    "    cases_confirmed INTEGER NULL,\n",
    "    cases_probable INTEGER NULL,\n",
    "    tests_viral_positive INTEGER NULL,\n",
    "    tests_viral_negative INTEGER NULL,\n",
    "    tests_viral_total INTEGER NULL,\n",
    "    tests_antigen_positive INTEGER NULL,\n",
    "    tests_antigen_total INTEGER NULL,\n",
    "    people_viral_positive INTEGER NULL,\n",
    "    people_viral_total INTEGER NULL,\n",
    "    people_antigen_positive INTEGER NULL,\n",
    "    people_antigen_total INTEGER NULL,\n",
    "    encounters_viral_total INTEGER NULL,\n",
    "    tests_combined_total INTEGER NULL\n",
    ")"
   ]
  },
  {
   "cell_type": "code",
   "execution_count": null,
   "id": "30b164bc-3ec0-488a-8d4e-9018c3fecc82",
   "metadata": {},
   "outputs": [],
   "source": [
    "!pwd"
   ]
  },
  {
   "cell_type": "code",
   "execution_count": 10,
   "id": "b4075e4c-53cc-45a3-b7c4-688c03cd55bb",
   "metadata": {},
   "outputs": [
    {
     "name": "stdout",
     "output_type": "stream",
     "text": [
      " * postgresql://student@/yxz1\n",
      "35900 rows affected.\n"
     ]
    },
    {
     "data": {
      "text/plain": [
       "[]"
      ]
     },
     "execution_count": 10,
     "metadata": {},
     "output_type": "execute_result"
    }
   ],
   "source": [
    "%%sql\n",
    "COPY test FROM '/home/ubuntu/1116/test.csv'\n",
    "CSV\n",
    "HEADER;"
   ]
  },
  {
   "cell_type": "code",
   "execution_count": null,
   "id": "e54e90c8-30be-4a86-b077-3d7a3b947bfb",
   "metadata": {},
   "outputs": [],
   "source": [
    "%%sql\n",
    "select count(*) from test"
   ]
  },
  {
   "cell_type": "code",
   "execution_count": null,
   "id": "d3b4b403-e048-436d-8101-62a839cb25e5",
   "metadata": {},
   "outputs": [],
   "source": [
    "!wc -l test.csv"
   ]
  },
  {
   "cell_type": "markdown",
   "id": "3666d64b-29b6-48a5-a9ef-d44e2186ecc4",
   "metadata": {},
   "source": [
    "### Table of People_vaccine_data"
   ]
  },
  {
   "cell_type": "code",
   "execution_count": null,
   "id": "537e5059-f299-474d-b4ab-8877e5227fc3",
   "metadata": {},
   "outputs": [],
   "source": [
    "!csvcut -n ppl_vaccine_data.csv"
   ]
  },
  {
   "cell_type": "code",
   "execution_count": null,
   "id": "907026e3-b83b-424f-9f20-0c4b6f2fe11d",
   "metadata": {
    "tags": []
   },
   "outputs": [],
   "source": [
    "!head -n 10000 ppl_vaccine_data.csv | csvstat"
   ]
  },
  {
   "cell_type": "code",
   "execution_count": 11,
   "id": "a2863916-f51b-40f8-be9d-82c0d4af6ade",
   "metadata": {},
   "outputs": [
    {
     "name": "stdout",
     "output_type": "stream",
     "text": [
      " * postgresql://student@/yxz1\n",
      "Done.\n",
      "Done.\n"
     ]
    },
    {
     "data": {
      "text/plain": [
       "[]"
      ]
     },
     "execution_count": 11,
     "metadata": {},
     "output_type": "execute_result"
    }
   ],
   "source": [
    "%%sql\n",
    "DROP TABLE IF EXISTS ppl_vaccine;\n",
    "\n",
    "CREATE TABLE ppl_vaccine (\n",
    "    FIPS NUMERIC NULL,\n",
    "    Province_State VARCHAR(60) NOT NULL,\n",
    "    Country_Region VARCHAR(2) NULL,\n",
    "    Date TIMESTAMP NOT NULL,\n",
    "    Lat NUMERIC NULL,\n",
    "    Long_ NUMERIC NULL,\n",
    "    Combined_Key  VARCHAR(50) NOT NULL,\n",
    "    People_Fully_Vaccinated NUMERIC NULL,\n",
    "    People_Partially_Vaccinated NUMERIC NULL\n",
    ")"
   ]
  },
  {
   "cell_type": "code",
   "execution_count": 12,
   "id": "4d6038ab-f6c7-407b-8b33-3da54d3d52ed",
   "metadata": {},
   "outputs": [
    {
     "name": "stdout",
     "output_type": "stream",
     "text": [
      " * postgresql://student@/yxz1\n",
      "21792 rows affected.\n"
     ]
    },
    {
     "data": {
      "text/plain": [
       "[]"
      ]
     },
     "execution_count": 12,
     "metadata": {},
     "output_type": "execute_result"
    }
   ],
   "source": [
    "%%sql\n",
    "COPY ppl_vaccine FROM '/home/ubuntu/1116/ppl_vaccine_data.csv'\n",
    "CSV\n",
    "HEADER;"
   ]
  },
  {
   "cell_type": "code",
   "execution_count": null,
   "id": "c0dfcdc9-53a4-4d4b-a8bb-55939e792b0f",
   "metadata": {},
   "outputs": [],
   "source": [
    "%%sql\n",
    "select count(*) from ppl_vaccine"
   ]
  },
  {
   "cell_type": "code",
   "execution_count": null,
   "id": "ce90ef66-8a8e-4376-91a2-1c42b2cb4c9f",
   "metadata": {},
   "outputs": [],
   "source": [
    "!wc -l ppl_vaccine_data.csv"
   ]
  },
  {
   "cell_type": "markdown",
   "id": "6c8f86d1-19c5-4a32-866d-c0fb276d9289",
   "metadata": {
    "tags": []
   },
   "source": [
    "### Breif check on tables"
   ]
  },
  {
   "cell_type": "code",
   "execution_count": null,
   "id": "0227579a-0098-4524-87cd-b3d5c2fc8e5e",
   "metadata": {},
   "outputs": [],
   "source": []
  },
  {
   "cell_type": "code",
   "execution_count": 13,
   "id": "6cadc5f5-a2c9-4f5f-b651-ac48af7a03e2",
   "metadata": {},
   "outputs": [
    {
     "name": "stdout",
     "output_type": "stream",
     "text": [
      " * postgresql://student@/yxz1\n",
      "5 rows affected.\n"
     ]
    },
    {
     "data": {
      "text/html": [
       "<table>\n",
       "    <thead>\n",
       "        <tr>\n",
       "            <th>province_state</th>\n",
       "            <th>date</th>\n",
       "            <th>vaccine_type</th>\n",
       "            <th>fips</th>\n",
       "            <th>country_region</th>\n",
       "            <th>lat</th>\n",
       "            <th>long_</th>\n",
       "            <th>doses_alloc</th>\n",
       "            <th>doses_shipped</th>\n",
       "            <th>doses_admin</th>\n",
       "            <th>stage_one_doses</th>\n",
       "            <th>stage_two_doses</th>\n",
       "            <th>combined_key</th>\n",
       "        </tr>\n",
       "    </thead>\n",
       "    <tbody>\n",
       "        <tr>\n",
       "            <td>Alabama</td>\n",
       "            <td>2020-12-10 00:00:00</td>\n",
       "            <td>All</td>\n",
       "            <td>1</td>\n",
       "            <td>US</td>\n",
       "            <td>32.3182</td>\n",
       "            <td>-86.9023</td>\n",
       "            <td>None</td>\n",
       "            <td>None</td>\n",
       "            <td>None</td>\n",
       "            <td>None</td>\n",
       "            <td>None</td>\n",
       "            <td>Alabama, US</td>\n",
       "        </tr>\n",
       "        <tr>\n",
       "            <td>Alabama</td>\n",
       "            <td>2020-12-10 00:00:00</td>\n",
       "            <td>Moderna</td>\n",
       "            <td>1</td>\n",
       "            <td>US</td>\n",
       "            <td>32.3182</td>\n",
       "            <td>-86.9023</td>\n",
       "            <td>None</td>\n",
       "            <td>None</td>\n",
       "            <td>None</td>\n",
       "            <td>None</td>\n",
       "            <td>None</td>\n",
       "            <td>Alabama, US</td>\n",
       "        </tr>\n",
       "        <tr>\n",
       "            <td>Alabama</td>\n",
       "            <td>2020-12-10 00:00:00</td>\n",
       "            <td>Pfizer</td>\n",
       "            <td>1</td>\n",
       "            <td>US</td>\n",
       "            <td>32.3182</td>\n",
       "            <td>-86.9023</td>\n",
       "            <td>None</td>\n",
       "            <td>None</td>\n",
       "            <td>None</td>\n",
       "            <td>None</td>\n",
       "            <td>None</td>\n",
       "            <td>Alabama, US</td>\n",
       "        </tr>\n",
       "        <tr>\n",
       "            <td>Alabama</td>\n",
       "            <td>2020-12-11 00:00:00</td>\n",
       "            <td>All</td>\n",
       "            <td>1</td>\n",
       "            <td>US</td>\n",
       "            <td>32.3182</td>\n",
       "            <td>-86.9023</td>\n",
       "            <td>None</td>\n",
       "            <td>None</td>\n",
       "            <td>None</td>\n",
       "            <td>None</td>\n",
       "            <td>None</td>\n",
       "            <td>Alabama, US</td>\n",
       "        </tr>\n",
       "        <tr>\n",
       "            <td>Alabama</td>\n",
       "            <td>2020-12-11 00:00:00</td>\n",
       "            <td>Moderna</td>\n",
       "            <td>1</td>\n",
       "            <td>US</td>\n",
       "            <td>32.3182</td>\n",
       "            <td>-86.9023</td>\n",
       "            <td>None</td>\n",
       "            <td>None</td>\n",
       "            <td>None</td>\n",
       "            <td>None</td>\n",
       "            <td>None</td>\n",
       "            <td>Alabama, US</td>\n",
       "        </tr>\n",
       "    </tbody>\n",
       "</table>"
      ],
      "text/plain": [
       "[('Alabama', datetime.datetime(2020, 12, 10, 0, 0), 'All', Decimal('1'), 'US', Decimal('32.3182'), Decimal('-86.9023'), None, None, None, None, None, 'Alabama, US'),\n",
       " ('Alabama', datetime.datetime(2020, 12, 10, 0, 0), 'Moderna', Decimal('1'), 'US', Decimal('32.3182'), Decimal('-86.9023'), None, None, None, None, None, 'Alabama, US'),\n",
       " ('Alabama', datetime.datetime(2020, 12, 10, 0, 0), 'Pfizer', Decimal('1'), 'US', Decimal('32.3182'), Decimal('-86.9023'), None, None, None, None, None, 'Alabama, US'),\n",
       " ('Alabama', datetime.datetime(2020, 12, 11, 0, 0), 'All', Decimal('1'), 'US', Decimal('32.3182'), Decimal('-86.9023'), None, None, None, None, None, 'Alabama, US'),\n",
       " ('Alabama', datetime.datetime(2020, 12, 11, 0, 0), 'Moderna', Decimal('1'), 'US', Decimal('32.3182'), Decimal('-86.9023'), None, None, None, None, None, 'Alabama, US')]"
      ]
     },
     "execution_count": 13,
     "metadata": {},
     "output_type": "execute_result"
    }
   ],
   "source": [
    "%%sql\n",
    "select * from vaccine\n",
    "limit 5"
   ]
  },
  {
   "cell_type": "code",
   "execution_count": 14,
   "id": "6abed3df-a36c-4149-9703-c9c2a6370fd8",
   "metadata": {},
   "outputs": [
    {
     "name": "stdout",
     "output_type": "stream",
     "text": [
      " * postgresql://student@/yxz1\n",
      "5 rows affected.\n"
     ]
    },
    {
     "data": {
      "text/html": [
       "<table>\n",
       "    <thead>\n",
       "        <tr>\n",
       "            <th>date</th>\n",
       "            <th>state</th>\n",
       "            <th>cases_conf_probable</th>\n",
       "            <th>cases_confirmed</th>\n",
       "            <th>cases_probable</th>\n",
       "            <th>tests_viral_positive</th>\n",
       "            <th>tests_viral_negative</th>\n",
       "            <th>tests_viral_total</th>\n",
       "            <th>tests_antigen_positive</th>\n",
       "            <th>tests_antigen_total</th>\n",
       "            <th>people_viral_positive</th>\n",
       "            <th>people_viral_total</th>\n",
       "            <th>people_antigen_positive</th>\n",
       "            <th>people_antigen_total</th>\n",
       "            <th>encounters_viral_total</th>\n",
       "            <th>tests_combined_total</th>\n",
       "        </tr>\n",
       "    </thead>\n",
       "    <tbody>\n",
       "        <tr>\n",
       "            <td>2020-03-06 00:00:00</td>\n",
       "            <td>AK</td>\n",
       "            <td>None</td>\n",
       "            <td>None</td>\n",
       "            <td>None</td>\n",
       "            <td>None</td>\n",
       "            <td>None</td>\n",
       "            <td>8</td>\n",
       "            <td>None</td>\n",
       "            <td>None</td>\n",
       "            <td>None</td>\n",
       "            <td>None</td>\n",
       "            <td>None</td>\n",
       "            <td>None</td>\n",
       "            <td>None</td>\n",
       "            <td>8</td>\n",
       "        </tr>\n",
       "        <tr>\n",
       "            <td>2020-03-07 00:00:00</td>\n",
       "            <td>AK</td>\n",
       "            <td>None</td>\n",
       "            <td>None</td>\n",
       "            <td>None</td>\n",
       "            <td>None</td>\n",
       "            <td>None</td>\n",
       "            <td>12</td>\n",
       "            <td>None</td>\n",
       "            <td>None</td>\n",
       "            <td>None</td>\n",
       "            <td>None</td>\n",
       "            <td>None</td>\n",
       "            <td>None</td>\n",
       "            <td>None</td>\n",
       "            <td>12</td>\n",
       "        </tr>\n",
       "        <tr>\n",
       "            <td>2020-03-08 00:00:00</td>\n",
       "            <td>AK</td>\n",
       "            <td>None</td>\n",
       "            <td>None</td>\n",
       "            <td>None</td>\n",
       "            <td>None</td>\n",
       "            <td>None</td>\n",
       "            <td>14</td>\n",
       "            <td>None</td>\n",
       "            <td>None</td>\n",
       "            <td>None</td>\n",
       "            <td>None</td>\n",
       "            <td>None</td>\n",
       "            <td>None</td>\n",
       "            <td>None</td>\n",
       "            <td>14</td>\n",
       "        </tr>\n",
       "        <tr>\n",
       "            <td>2020-03-09 00:00:00</td>\n",
       "            <td>AK</td>\n",
       "            <td>None</td>\n",
       "            <td>None</td>\n",
       "            <td>None</td>\n",
       "            <td>None</td>\n",
       "            <td>None</td>\n",
       "            <td>23</td>\n",
       "            <td>None</td>\n",
       "            <td>None</td>\n",
       "            <td>None</td>\n",
       "            <td>None</td>\n",
       "            <td>None</td>\n",
       "            <td>None</td>\n",
       "            <td>None</td>\n",
       "            <td>23</td>\n",
       "        </tr>\n",
       "        <tr>\n",
       "            <td>2020-03-10 00:00:00</td>\n",
       "            <td>AK</td>\n",
       "            <td>None</td>\n",
       "            <td>None</td>\n",
       "            <td>None</td>\n",
       "            <td>None</td>\n",
       "            <td>None</td>\n",
       "            <td>23</td>\n",
       "            <td>None</td>\n",
       "            <td>None</td>\n",
       "            <td>None</td>\n",
       "            <td>None</td>\n",
       "            <td>None</td>\n",
       "            <td>None</td>\n",
       "            <td>None</td>\n",
       "            <td>23</td>\n",
       "        </tr>\n",
       "    </tbody>\n",
       "</table>"
      ],
      "text/plain": [
       "[(datetime.datetime(2020, 3, 6, 0, 0), 'AK', None, None, None, None, None, 8, None, None, None, None, None, None, None, 8),\n",
       " (datetime.datetime(2020, 3, 7, 0, 0), 'AK', None, None, None, None, None, 12, None, None, None, None, None, None, None, 12),\n",
       " (datetime.datetime(2020, 3, 8, 0, 0), 'AK', None, None, None, None, None, 14, None, None, None, None, None, None, None, 14),\n",
       " (datetime.datetime(2020, 3, 9, 0, 0), 'AK', None, None, None, None, None, 23, None, None, None, None, None, None, None, 23),\n",
       " (datetime.datetime(2020, 3, 10, 0, 0), 'AK', None, None, None, None, None, 23, None, None, None, None, None, None, None, 23)]"
      ]
     },
     "execution_count": 14,
     "metadata": {},
     "output_type": "execute_result"
    }
   ],
   "source": [
    "%%sql \n",
    "select * from test\n",
    "limit 5"
   ]
  },
  {
   "cell_type": "code",
   "execution_count": 15,
   "id": "9d003609-4f7c-41da-9c23-4e4ba030528c",
   "metadata": {},
   "outputs": [
    {
     "name": "stdout",
     "output_type": "stream",
     "text": [
      " * postgresql://student@/yxz1\n",
      "5 rows affected.\n"
     ]
    },
    {
     "data": {
      "text/html": [
       "<table>\n",
       "    <thead>\n",
       "        <tr>\n",
       "            <th>fips</th>\n",
       "            <th>province_state</th>\n",
       "            <th>country_region</th>\n",
       "            <th>date</th>\n",
       "            <th>lat</th>\n",
       "            <th>long_</th>\n",
       "            <th>combined_key</th>\n",
       "            <th>people_fully_vaccinated</th>\n",
       "            <th>people_partially_vaccinated</th>\n",
       "        </tr>\n",
       "    </thead>\n",
       "    <tbody>\n",
       "        <tr>\n",
       "            <td>1</td>\n",
       "            <td>Alabama</td>\n",
       "            <td>US</td>\n",
       "            <td>2020-12-10 00:00:00</td>\n",
       "            <td>32.3182</td>\n",
       "            <td>-86.9023</td>\n",
       "            <td>Alabama, US</td>\n",
       "            <td>None</td>\n",
       "            <td>None</td>\n",
       "        </tr>\n",
       "        <tr>\n",
       "            <td>1</td>\n",
       "            <td>Alabama</td>\n",
       "            <td>US</td>\n",
       "            <td>2020-12-11 00:00:00</td>\n",
       "            <td>32.3182</td>\n",
       "            <td>-86.9023</td>\n",
       "            <td>Alabama, US</td>\n",
       "            <td>None</td>\n",
       "            <td>None</td>\n",
       "        </tr>\n",
       "        <tr>\n",
       "            <td>1</td>\n",
       "            <td>Alabama</td>\n",
       "            <td>US</td>\n",
       "            <td>2020-12-12 00:00:00</td>\n",
       "            <td>32.3182</td>\n",
       "            <td>-86.9023</td>\n",
       "            <td>Alabama, US</td>\n",
       "            <td>None</td>\n",
       "            <td>None</td>\n",
       "        </tr>\n",
       "        <tr>\n",
       "            <td>1</td>\n",
       "            <td>Alabama</td>\n",
       "            <td>US</td>\n",
       "            <td>2020-12-13 00:00:00</td>\n",
       "            <td>32.3182</td>\n",
       "            <td>-86.9023</td>\n",
       "            <td>Alabama, US</td>\n",
       "            <td>None</td>\n",
       "            <td>None</td>\n",
       "        </tr>\n",
       "        <tr>\n",
       "            <td>1</td>\n",
       "            <td>Alabama</td>\n",
       "            <td>US</td>\n",
       "            <td>2020-12-14 00:00:00</td>\n",
       "            <td>32.3182</td>\n",
       "            <td>-86.9023</td>\n",
       "            <td>Alabama, US</td>\n",
       "            <td>None</td>\n",
       "            <td>None</td>\n",
       "        </tr>\n",
       "    </tbody>\n",
       "</table>"
      ],
      "text/plain": [
       "[(Decimal('1'), 'Alabama', 'US', datetime.datetime(2020, 12, 10, 0, 0), Decimal('32.3182'), Decimal('-86.9023'), 'Alabama, US', None, None),\n",
       " (Decimal('1'), 'Alabama', 'US', datetime.datetime(2020, 12, 11, 0, 0), Decimal('32.3182'), Decimal('-86.9023'), 'Alabama, US', None, None),\n",
       " (Decimal('1'), 'Alabama', 'US', datetime.datetime(2020, 12, 12, 0, 0), Decimal('32.3182'), Decimal('-86.9023'), 'Alabama, US', None, None),\n",
       " (Decimal('1'), 'Alabama', 'US', datetime.datetime(2020, 12, 13, 0, 0), Decimal('32.3182'), Decimal('-86.9023'), 'Alabama, US', None, None),\n",
       " (Decimal('1'), 'Alabama', 'US', datetime.datetime(2020, 12, 14, 0, 0), Decimal('32.3182'), Decimal('-86.9023'), 'Alabama, US', None, None)]"
      ]
     },
     "execution_count": 15,
     "metadata": {},
     "output_type": "execute_result"
    }
   ],
   "source": [
    "%%sql\n",
    "select * from ppl_vaccine\n",
    "limit 5"
   ]
  },
  {
   "cell_type": "code",
   "execution_count": 16,
   "id": "04b6a9f5-2522-481e-b6bf-b91e7a17a02f",
   "metadata": {},
   "outputs": [
    {
     "name": "stdout",
     "output_type": "stream",
     "text": [
      " * postgresql://student@/yxz1\n",
      "5 rows affected.\n"
     ]
    },
    {
     "data": {
      "text/html": [
       "<table>\n",
       "    <thead>\n",
       "        <tr>\n",
       "            <th>province_state</th>\n",
       "            <th>country_region</th>\n",
       "            <th>last_update</th>\n",
       "            <th>lat</th>\n",
       "            <th>long_</th>\n",
       "            <th>confirmed</th>\n",
       "            <th>deaths</th>\n",
       "            <th>recovered</th>\n",
       "            <th>active</th>\n",
       "            <th>fips</th>\n",
       "            <th>incident_rate</th>\n",
       "            <th>total_test_results</th>\n",
       "            <th>people_hospitalized</th>\n",
       "            <th>case_fatality_ratio</th>\n",
       "            <th>uid</th>\n",
       "            <th>iso3</th>\n",
       "            <th>testing_rate</th>\n",
       "            <th>hospitalization_rate</th>\n",
       "        </tr>\n",
       "    </thead>\n",
       "    <tbody>\n",
       "        <tr>\n",
       "            <td>Alabama</td>\n",
       "            <td>US</td>\n",
       "            <td>2021-01-02 05:30:44</td>\n",
       "            <td>32.3182</td>\n",
       "            <td>-86.9023</td>\n",
       "            <td>365747</td>\n",
       "            <td>4872</td>\n",
       "            <td>202137.0</td>\n",
       "            <td>158738.0</td>\n",
       "            <td>1.0</td>\n",
       "            <td>7459.375895463867</td>\n",
       "            <td>3275341.0</td>\n",
       "            <td>None</td>\n",
       "            <td>1.3320683423240656</td>\n",
       "            <td>84000001.0</td>\n",
       "            <td>USA</td>\n",
       "            <td>66800.27369964625</td>\n",
       "            <td>None</td>\n",
       "        </tr>\n",
       "        <tr>\n",
       "            <td>Alaska</td>\n",
       "            <td>US</td>\n",
       "            <td>2021-01-02 05:30:44</td>\n",
       "            <td>61.3707</td>\n",
       "            <td>-152.4044</td>\n",
       "            <td>47019</td>\n",
       "            <td>206</td>\n",
       "            <td>7165.0</td>\n",
       "            <td>39615.0</td>\n",
       "            <td>2.0</td>\n",
       "            <td>6422.844801071706</td>\n",
       "            <td>1275750.0</td>\n",
       "            <td>None</td>\n",
       "            <td>0.4384284680543141</td>\n",
       "            <td>84000002.0</td>\n",
       "            <td>USA</td>\n",
       "            <td>174391.1857780451</td>\n",
       "            <td>None</td>\n",
       "        </tr>\n",
       "        <tr>\n",
       "            <td>American Samoa</td>\n",
       "            <td>US</td>\n",
       "            <td>2021-01-02 05:30:44</td>\n",
       "            <td>-14.271</td>\n",
       "            <td>-170.132</td>\n",
       "            <td>0</td>\n",
       "            <td>0</td>\n",
       "            <td>None</td>\n",
       "            <td>0.0</td>\n",
       "            <td>60.0</td>\n",
       "            <td>0.0</td>\n",
       "            <td>2140.0</td>\n",
       "            <td>None</td>\n",
       "            <td>None</td>\n",
       "            <td>16.0</td>\n",
       "            <td>ASM</td>\n",
       "            <td>3846.084721698028</td>\n",
       "            <td>None</td>\n",
       "        </tr>\n",
       "        <tr>\n",
       "            <td>Arizona</td>\n",
       "            <td>US</td>\n",
       "            <td>2021-01-02 05:30:44</td>\n",
       "            <td>33.7298</td>\n",
       "            <td>-111.4312</td>\n",
       "            <td>530267</td>\n",
       "            <td>9015</td>\n",
       "            <td>76934.0</td>\n",
       "            <td>444318.0</td>\n",
       "            <td>4.0</td>\n",
       "            <td>7285.171274003372</td>\n",
       "            <td>5155330.0</td>\n",
       "            <td>None</td>\n",
       "            <td>1.7000869373353424</td>\n",
       "            <td>84000004.0</td>\n",
       "            <td>USA</td>\n",
       "            <td>39551.860582022906</td>\n",
       "            <td>None</td>\n",
       "        </tr>\n",
       "        <tr>\n",
       "            <td>Arkansas</td>\n",
       "            <td>US</td>\n",
       "            <td>2021-01-02 05:30:44</td>\n",
       "            <td>34.9697</td>\n",
       "            <td>-92.3731</td>\n",
       "            <td>229442</td>\n",
       "            <td>3711</td>\n",
       "            <td>199247.0</td>\n",
       "            <td>26484.0</td>\n",
       "            <td>5.0</td>\n",
       "            <td>7602.945718144717</td>\n",
       "            <td>2051488.0</td>\n",
       "            <td>None</td>\n",
       "            <td>1.6174022192972517</td>\n",
       "            <td>84000005.0</td>\n",
       "            <td>USA</td>\n",
       "            <td>67979.49767446793</td>\n",
       "            <td>None</td>\n",
       "        </tr>\n",
       "    </tbody>\n",
       "</table>"
      ],
      "text/plain": [
       "[('Alabama', 'US', datetime.datetime(2021, 1, 2, 5, 30, 44), Decimal('32.3182'), Decimal('-86.9023'), 365747, 4872, Decimal('202137.0'), Decimal('158738.0'), Decimal('1.0'), Decimal('7459.375895463867'), Decimal('3275341.0'), None, Decimal('1.3320683423240656'), Decimal('84000001.0'), 'USA', Decimal('66800.27369964625'), None),\n",
       " ('Alaska', 'US', datetime.datetime(2021, 1, 2, 5, 30, 44), Decimal('61.3707'), Decimal('-152.4044'), 47019, 206, Decimal('7165.0'), Decimal('39615.0'), Decimal('2.0'), Decimal('6422.844801071706'), Decimal('1275750.0'), None, Decimal('0.4384284680543141'), Decimal('84000002.0'), 'USA', Decimal('174391.1857780451'), None),\n",
       " ('American Samoa', 'US', datetime.datetime(2021, 1, 2, 5, 30, 44), Decimal('-14.271'), Decimal('-170.132'), 0, 0, None, Decimal('0.0'), Decimal('60.0'), Decimal('0.0'), Decimal('2140.0'), None, None, Decimal('16.0'), 'ASM', Decimal('3846.084721698028'), None),\n",
       " ('Arizona', 'US', datetime.datetime(2021, 1, 2, 5, 30, 44), Decimal('33.7298'), Decimal('-111.4312'), 530267, 9015, Decimal('76934.0'), Decimal('444318.0'), Decimal('4.0'), Decimal('7285.171274003372'), Decimal('5155330.0'), None, Decimal('1.7000869373353424'), Decimal('84000004.0'), 'USA', Decimal('39551.860582022906'), None),\n",
       " ('Arkansas', 'US', datetime.datetime(2021, 1, 2, 5, 30, 44), Decimal('34.9697'), Decimal('-92.3731'), 229442, 3711, Decimal('199247.0'), Decimal('26484.0'), Decimal('5.0'), Decimal('7602.945718144717'), Decimal('2051488.0'), None, Decimal('1.6174022192972517'), Decimal('84000005.0'), 'USA', Decimal('67979.49767446793'), None)]"
      ]
     },
     "execution_count": 16,
     "metadata": {},
     "output_type": "execute_result"
    }
   ],
   "source": [
    "%%sql\n",
    "select * from casesdeath\n",
    "limit 5"
   ]
  },
  {
   "cell_type": "markdown",
   "id": "7b7a08c1-4d22-4062-a0a5-f9d252ff32d7",
   "metadata": {},
   "source": [
    "### Do sample analysis of the dataset"
   ]
  },
  {
   "cell_type": "code",
   "execution_count": null,
   "id": "2589ae02-7228-4970-8c8b-cd7fdfb64074",
   "metadata": {},
   "outputs": [],
   "source": [
    "## What is the most popular state that people who do vanccined\n",
    "!csvcut -c2 ppl_vaccine_data.csv|sort| uniq -c | sort -rn | head -10"
   ]
  },
  {
   "cell_type": "code",
   "execution_count": null,
   "id": "35ea2eca-6d3f-4d22-bbd5-2b47a1eb9c28",
   "metadata": {},
   "outputs": [],
   "source": [
    "## What is the most popular vaccine type in vaccine_data?\n",
    "!csvcut -c3 vaccine_data.csv|sort| uniq -c | sort -rn | head -10"
   ]
  },
  {
   "cell_type": "markdown",
   "id": "c1304727-f08a-42f1-bb66-2a8c55217818",
   "metadata": {
    "tags": []
   },
   "source": [
    "# Ask 5 Dimension database"
   ]
  },
  {
   "cell_type": "markdown",
   "id": "c05b2b12-0db1-4200-a8a1-5f95787713bb",
   "metadata": {},
   "source": [
    "#### Star Schema"
   ]
  },
  {
   "cell_type": "code",
   "execution_count": 6,
   "id": "cd793048-acda-4442-aff2-ca9a2a2bed95",
   "metadata": {},
   "outputs": [
    {
     "data": {
      "text/html": [
       "<img src=\"https://raw.githubusercontent.com/yqz5514/6305/main/star_schema.jpg\"/>"
      ],
      "text/plain": [
       "<IPython.core.display.Image object>"
      ]
     },
     "execution_count": 6,
     "metadata": {},
     "output_type": "execute_result"
    }
   ],
   "source": [
    "from IPython.display import Image\n",
    "Image(url= \"https://raw.githubusercontent.com/yqz5514/6305/main/star_schema.jpg\")"
   ]
  },
  {
   "cell_type": "markdown",
   "id": "1baf920c-7308-4632-96e8-bf3a27145332",
   "metadata": {},
   "source": [
    "#### Based on what analytial questions we are going to answer, we have included only necessary columns from relational database. For example, we excluded UID, FIPs from location becasue the state also could be a good natural key for location table. We did same thing on time table, we excluded hours, mins, seconds, etc becasue we wont use it for analysis. And in location table, state is natural key. For date table, full_time is natural key of that table. For vaccine type table, vaccine type is natural key. For surrogate key, we insert it for each diension table. And we added fk to each tables feom relational database, and merge them together and drop dimension columns as a facts table. But the facts table is very large, we always have loading problems.  "
   ]
  },
  {
   "cell_type": "markdown",
   "id": "f8cf7e7d-a5a0-48d7-9c18-dd28b67865a0",
   "metadata": {},
   "source": [
    "### location table"
   ]
  },
  {
   "cell_type": "code",
   "execution_count": null,
   "id": "f8b30e42-a9e0-4e39-8482-7def829fa3f1",
   "metadata": {},
   "outputs": [],
   "source": []
  },
  {
   "cell_type": "code",
   "execution_count": 14,
   "id": "7e15dcd6-d6b3-490a-b4d6-355768164080",
   "metadata": {},
   "outputs": [
    {
     "name": "stdout",
     "output_type": "stream",
     "text": [
      " * postgresql://student@/yxz1\n",
      "Done.\n",
      "Done.\n"
     ]
    },
    {
     "data": {
      "text/plain": [
       "[]"
      ]
     },
     "execution_count": 14,
     "metadata": {},
     "output_type": "execute_result"
    }
   ],
   "source": [
    "%%sql\n",
    "DROP TABLE IF EXISTS location;\n",
    "\n",
    "CREATE TABLE location(\n",
    "    key SERIAL PRIMARY KEY,\n",
    "    state VARCHAR(64)\n",
    ");"
   ]
  },
  {
   "cell_type": "code",
   "execution_count": 15,
   "id": "f29a2fa5-d203-406b-9079-cdaf9ff23a18",
   "metadata": {},
   "outputs": [
    {
     "name": "stdout",
     "output_type": "stream",
     "text": [
      " * postgresql://student@/yxz1\n",
      "124 rows affected.\n"
     ]
    },
    {
     "data": {
      "text/plain": [
       "[]"
      ]
     },
     "execution_count": 15,
     "metadata": {},
     "output_type": "execute_result"
    }
   ],
   "source": [
    "%%sql\n",
    "insert into location(state)\n",
    "\n",
    "select distinct Province_State as state\n",
    "from casesdeath\n",
    "union\n",
    "select distinct Province_State as state\n",
    "from vaccine\n",
    "union\n",
    "select distinct Province_State as state\n",
    "from ppl_vaccine\n",
    "union\n",
    "select distinct state as state\n",
    "from test"
   ]
  },
  {
   "cell_type": "code",
   "execution_count": 16,
   "id": "42ff2421-0c02-4cfd-ae44-c3ae4dbf84c8",
   "metadata": {},
   "outputs": [
    {
     "name": "stdout",
     "output_type": "stream",
     "text": [
      " * postgresql://student@/yxz1\n",
      "5 rows affected.\n"
     ]
    },
    {
     "data": {
      "text/html": [
       "<table>\n",
       "    <thead>\n",
       "        <tr>\n",
       "            <th>key</th>\n",
       "            <th>state</th>\n",
       "        </tr>\n",
       "    </thead>\n",
       "    <tbody>\n",
       "        <tr>\n",
       "            <td>1</td>\n",
       "            <td>Arkansas</td>\n",
       "        </tr>\n",
       "        <tr>\n",
       "            <td>2</td>\n",
       "            <td>New Mexico</td>\n",
       "        </tr>\n",
       "        <tr>\n",
       "            <td>3</td>\n",
       "            <td>WV</td>\n",
       "        </tr>\n",
       "        <tr>\n",
       "            <td>4</td>\n",
       "            <td>Washington</td>\n",
       "        </tr>\n",
       "        <tr>\n",
       "            <td>5</td>\n",
       "            <td>MI</td>\n",
       "        </tr>\n",
       "    </tbody>\n",
       "</table>"
      ],
      "text/plain": [
       "[(1, 'Arkansas'), (2, 'New Mexico'), (3, 'WV'), (4, 'Washington'), (5, 'MI')]"
      ]
     },
     "execution_count": 16,
     "metadata": {},
     "output_type": "execute_result"
    }
   ],
   "source": [
    "%%sql\n",
    "select * from location\n",
    "limit 5"
   ]
  },
  {
   "cell_type": "code",
   "execution_count": 17,
   "id": "018211bd-9f61-4442-8f33-892c4e6dbc9a",
   "metadata": {},
   "outputs": [
    {
     "name": "stdout",
     "output_type": "stream",
     "text": [
      " * postgresql://student@/yxz1\n",
      "Done.\n"
     ]
    },
    {
     "data": {
      "text/plain": [
       "[]"
      ]
     },
     "execution_count": 17,
     "metadata": {},
     "output_type": "execute_result"
    }
   ],
   "source": [
    "%%sql\n",
    "ALTER TABLE casesdeath\n",
    "ADD COLUMN loc_key INTEGER,\n",
    "ADD CONSTRAINT fk_key\n",
    "    FOREIGN KEY (loc_key)\n",
    "    REFERENCES location (key);"
   ]
  },
  {
   "cell_type": "code",
   "execution_count": 18,
   "id": "f28301e3-0a94-493d-9f83-7666d4d05373",
   "metadata": {},
   "outputs": [
    {
     "name": "stdout",
     "output_type": "stream",
     "text": [
      " * postgresql://student@/yxz1\n",
      "5 rows affected.\n"
     ]
    },
    {
     "data": {
      "text/html": [
       "<table>\n",
       "    <thead>\n",
       "        <tr>\n",
       "            <th>province_state</th>\n",
       "            <th>country_region</th>\n",
       "            <th>last_update</th>\n",
       "            <th>lat</th>\n",
       "            <th>long_</th>\n",
       "            <th>confirmed</th>\n",
       "            <th>deaths</th>\n",
       "            <th>recovered</th>\n",
       "            <th>active</th>\n",
       "            <th>fips</th>\n",
       "            <th>incident_rate</th>\n",
       "            <th>total_test_results</th>\n",
       "            <th>people_hospitalized</th>\n",
       "            <th>case_fatality_ratio</th>\n",
       "            <th>uid</th>\n",
       "            <th>iso3</th>\n",
       "            <th>testing_rate</th>\n",
       "            <th>hospitalization_rate</th>\n",
       "            <th>loc_key</th>\n",
       "        </tr>\n",
       "    </thead>\n",
       "    <tbody>\n",
       "        <tr>\n",
       "            <td>Alabama</td>\n",
       "            <td>US</td>\n",
       "            <td>2021-01-02 05:30:44</td>\n",
       "            <td>32.3182</td>\n",
       "            <td>-86.9023</td>\n",
       "            <td>365747</td>\n",
       "            <td>4872</td>\n",
       "            <td>202137.0</td>\n",
       "            <td>158738.0</td>\n",
       "            <td>1.0</td>\n",
       "            <td>7459.375895463867</td>\n",
       "            <td>3275341.0</td>\n",
       "            <td>None</td>\n",
       "            <td>1.3320683423240656</td>\n",
       "            <td>84000001.0</td>\n",
       "            <td>USA</td>\n",
       "            <td>66800.27369964625</td>\n",
       "            <td>None</td>\n",
       "            <td>None</td>\n",
       "        </tr>\n",
       "        <tr>\n",
       "            <td>Alaska</td>\n",
       "            <td>US</td>\n",
       "            <td>2021-01-02 05:30:44</td>\n",
       "            <td>61.3707</td>\n",
       "            <td>-152.4044</td>\n",
       "            <td>47019</td>\n",
       "            <td>206</td>\n",
       "            <td>7165.0</td>\n",
       "            <td>39615.0</td>\n",
       "            <td>2.0</td>\n",
       "            <td>6422.844801071706</td>\n",
       "            <td>1275750.0</td>\n",
       "            <td>None</td>\n",
       "            <td>0.4384284680543141</td>\n",
       "            <td>84000002.0</td>\n",
       "            <td>USA</td>\n",
       "            <td>174391.1857780451</td>\n",
       "            <td>None</td>\n",
       "            <td>None</td>\n",
       "        </tr>\n",
       "        <tr>\n",
       "            <td>American Samoa</td>\n",
       "            <td>US</td>\n",
       "            <td>2021-01-02 05:30:44</td>\n",
       "            <td>-14.271</td>\n",
       "            <td>-170.132</td>\n",
       "            <td>0</td>\n",
       "            <td>0</td>\n",
       "            <td>None</td>\n",
       "            <td>0.0</td>\n",
       "            <td>60.0</td>\n",
       "            <td>0.0</td>\n",
       "            <td>2140.0</td>\n",
       "            <td>None</td>\n",
       "            <td>None</td>\n",
       "            <td>16.0</td>\n",
       "            <td>ASM</td>\n",
       "            <td>3846.084721698028</td>\n",
       "            <td>None</td>\n",
       "            <td>None</td>\n",
       "        </tr>\n",
       "        <tr>\n",
       "            <td>Arizona</td>\n",
       "            <td>US</td>\n",
       "            <td>2021-01-02 05:30:44</td>\n",
       "            <td>33.7298</td>\n",
       "            <td>-111.4312</td>\n",
       "            <td>530267</td>\n",
       "            <td>9015</td>\n",
       "            <td>76934.0</td>\n",
       "            <td>444318.0</td>\n",
       "            <td>4.0</td>\n",
       "            <td>7285.171274003372</td>\n",
       "            <td>5155330.0</td>\n",
       "            <td>None</td>\n",
       "            <td>1.7000869373353424</td>\n",
       "            <td>84000004.0</td>\n",
       "            <td>USA</td>\n",
       "            <td>39551.860582022906</td>\n",
       "            <td>None</td>\n",
       "            <td>None</td>\n",
       "        </tr>\n",
       "        <tr>\n",
       "            <td>Arkansas</td>\n",
       "            <td>US</td>\n",
       "            <td>2021-01-02 05:30:44</td>\n",
       "            <td>34.9697</td>\n",
       "            <td>-92.3731</td>\n",
       "            <td>229442</td>\n",
       "            <td>3711</td>\n",
       "            <td>199247.0</td>\n",
       "            <td>26484.0</td>\n",
       "            <td>5.0</td>\n",
       "            <td>7602.945718144717</td>\n",
       "            <td>2051488.0</td>\n",
       "            <td>None</td>\n",
       "            <td>1.6174022192972517</td>\n",
       "            <td>84000005.0</td>\n",
       "            <td>USA</td>\n",
       "            <td>67979.49767446793</td>\n",
       "            <td>None</td>\n",
       "            <td>None</td>\n",
       "        </tr>\n",
       "    </tbody>\n",
       "</table>"
      ],
      "text/plain": [
       "[('Alabama', 'US', datetime.datetime(2021, 1, 2, 5, 30, 44), Decimal('32.3182'), Decimal('-86.9023'), 365747, 4872, Decimal('202137.0'), Decimal('158738.0'), Decimal('1.0'), Decimal('7459.375895463867'), Decimal('3275341.0'), None, Decimal('1.3320683423240656'), Decimal('84000001.0'), 'USA', Decimal('66800.27369964625'), None, None),\n",
       " ('Alaska', 'US', datetime.datetime(2021, 1, 2, 5, 30, 44), Decimal('61.3707'), Decimal('-152.4044'), 47019, 206, Decimal('7165.0'), Decimal('39615.0'), Decimal('2.0'), Decimal('6422.844801071706'), Decimal('1275750.0'), None, Decimal('0.4384284680543141'), Decimal('84000002.0'), 'USA', Decimal('174391.1857780451'), None, None),\n",
       " ('American Samoa', 'US', datetime.datetime(2021, 1, 2, 5, 30, 44), Decimal('-14.271'), Decimal('-170.132'), 0, 0, None, Decimal('0.0'), Decimal('60.0'), Decimal('0.0'), Decimal('2140.0'), None, None, Decimal('16.0'), 'ASM', Decimal('3846.084721698028'), None, None),\n",
       " ('Arizona', 'US', datetime.datetime(2021, 1, 2, 5, 30, 44), Decimal('33.7298'), Decimal('-111.4312'), 530267, 9015, Decimal('76934.0'), Decimal('444318.0'), Decimal('4.0'), Decimal('7285.171274003372'), Decimal('5155330.0'), None, Decimal('1.7000869373353424'), Decimal('84000004.0'), 'USA', Decimal('39551.860582022906'), None, None),\n",
       " ('Arkansas', 'US', datetime.datetime(2021, 1, 2, 5, 30, 44), Decimal('34.9697'), Decimal('-92.3731'), 229442, 3711, Decimal('199247.0'), Decimal('26484.0'), Decimal('5.0'), Decimal('7602.945718144717'), Decimal('2051488.0'), None, Decimal('1.6174022192972517'), Decimal('84000005.0'), 'USA', Decimal('67979.49767446793'), None, None)]"
      ]
     },
     "execution_count": 18,
     "metadata": {},
     "output_type": "execute_result"
    }
   ],
   "source": [
    "%%sql\n",
    "select * from casesdeath\n",
    "limit 5"
   ]
  },
  {
   "cell_type": "code",
   "execution_count": 19,
   "id": "ed84c8eb-2d8f-4421-9617-b54b94a5a5d6",
   "metadata": {},
   "outputs": [
    {
     "name": "stdout",
     "output_type": "stream",
     "text": [
      " * postgresql://student@/yxz1\n",
      "33832 rows affected.\n"
     ]
    },
    {
     "data": {
      "text/plain": [
       "[]"
      ]
     },
     "execution_count": 19,
     "metadata": {},
     "output_type": "execute_result"
    }
   ],
   "source": [
    "%%sql\n",
    "UPDATE casesdeath\n",
    "SET loc_key = location.key\n",
    "FROM location\n",
    "WHERE casesdeath.province_state=location.state;"
   ]
  },
  {
   "cell_type": "code",
   "execution_count": 20,
   "id": "3cffe23a-2ec1-4ee1-846e-eaf64332cddf",
   "metadata": {},
   "outputs": [
    {
     "name": "stdout",
     "output_type": "stream",
     "text": [
      " * postgresql://student@/yxz1\n",
      "5 rows affected.\n"
     ]
    },
    {
     "data": {
      "text/html": [
       "<table>\n",
       "    <thead>\n",
       "        <tr>\n",
       "            <th>province_state</th>\n",
       "            <th>country_region</th>\n",
       "            <th>last_update</th>\n",
       "            <th>lat</th>\n",
       "            <th>long_</th>\n",
       "            <th>confirmed</th>\n",
       "            <th>deaths</th>\n",
       "            <th>recovered</th>\n",
       "            <th>active</th>\n",
       "            <th>fips</th>\n",
       "            <th>incident_rate</th>\n",
       "            <th>total_test_results</th>\n",
       "            <th>people_hospitalized</th>\n",
       "            <th>case_fatality_ratio</th>\n",
       "            <th>uid</th>\n",
       "            <th>iso3</th>\n",
       "            <th>testing_rate</th>\n",
       "            <th>hospitalization_rate</th>\n",
       "            <th>loc_key</th>\n",
       "        </tr>\n",
       "    </thead>\n",
       "    <tbody>\n",
       "        <tr>\n",
       "            <td>Diamond Princess</td>\n",
       "            <td>US</td>\n",
       "            <td>2021-01-12 05:30:28</td>\n",
       "            <td>None</td>\n",
       "            <td>None</td>\n",
       "            <td>49</td>\n",
       "            <td>0</td>\n",
       "            <td>None</td>\n",
       "            <td>49.0</td>\n",
       "            <td>88888.0</td>\n",
       "            <td>None</td>\n",
       "            <td>None</td>\n",
       "            <td>None</td>\n",
       "            <td>0.0</td>\n",
       "            <td>84088888.0</td>\n",
       "            <td>USA</td>\n",
       "            <td>None</td>\n",
       "            <td>None</td>\n",
       "            <td>23</td>\n",
       "        </tr>\n",
       "        <tr>\n",
       "            <td>Diamond Princess</td>\n",
       "            <td>US</td>\n",
       "            <td>2021-02-24 05:31:21</td>\n",
       "            <td>None</td>\n",
       "            <td>None</td>\n",
       "            <td>49</td>\n",
       "            <td>0</td>\n",
       "            <td>None</td>\n",
       "            <td>49.0</td>\n",
       "            <td>88888.0</td>\n",
       "            <td>None</td>\n",
       "            <td>None</td>\n",
       "            <td>None</td>\n",
       "            <td>0.0</td>\n",
       "            <td>84088888.0</td>\n",
       "            <td>USA</td>\n",
       "            <td>None</td>\n",
       "            <td>None</td>\n",
       "            <td>23</td>\n",
       "        </tr>\n",
       "        <tr>\n",
       "            <td>Diamond Princess</td>\n",
       "            <td>US</td>\n",
       "            <td>2021-02-25 05:31:00</td>\n",
       "            <td>None</td>\n",
       "            <td>None</td>\n",
       "            <td>49</td>\n",
       "            <td>0</td>\n",
       "            <td>None</td>\n",
       "            <td>49.0</td>\n",
       "            <td>88888.0</td>\n",
       "            <td>None</td>\n",
       "            <td>None</td>\n",
       "            <td>None</td>\n",
       "            <td>0.0</td>\n",
       "            <td>84088888.0</td>\n",
       "            <td>USA</td>\n",
       "            <td>None</td>\n",
       "            <td>None</td>\n",
       "            <td>23</td>\n",
       "        </tr>\n",
       "        <tr>\n",
       "            <td>Diamond Princess</td>\n",
       "            <td>US</td>\n",
       "            <td>2021-03-01 05:30:39</td>\n",
       "            <td>None</td>\n",
       "            <td>None</td>\n",
       "            <td>49</td>\n",
       "            <td>0</td>\n",
       "            <td>None</td>\n",
       "            <td>49.0</td>\n",
       "            <td>88888.0</td>\n",
       "            <td>None</td>\n",
       "            <td>None</td>\n",
       "            <td>None</td>\n",
       "            <td>0.0</td>\n",
       "            <td>84088888.0</td>\n",
       "            <td>USA</td>\n",
       "            <td>None</td>\n",
       "            <td>None</td>\n",
       "            <td>23</td>\n",
       "        </tr>\n",
       "        <tr>\n",
       "            <td>Diamond Princess</td>\n",
       "            <td>US</td>\n",
       "            <td>2021-03-04 05:30:41</td>\n",
       "            <td>None</td>\n",
       "            <td>None</td>\n",
       "            <td>49</td>\n",
       "            <td>0</td>\n",
       "            <td>None</td>\n",
       "            <td>49.0</td>\n",
       "            <td>88888.0</td>\n",
       "            <td>None</td>\n",
       "            <td>None</td>\n",
       "            <td>None</td>\n",
       "            <td>0.0</td>\n",
       "            <td>84088888.0</td>\n",
       "            <td>USA</td>\n",
       "            <td>None</td>\n",
       "            <td>None</td>\n",
       "            <td>23</td>\n",
       "        </tr>\n",
       "    </tbody>\n",
       "</table>"
      ],
      "text/plain": [
       "[('Diamond Princess', 'US', datetime.datetime(2021, 1, 12, 5, 30, 28), None, None, 49, 0, None, Decimal('49.0'), Decimal('88888.0'), None, None, None, Decimal('0.0'), Decimal('84088888.0'), 'USA', None, None, 23),\n",
       " ('Diamond Princess', 'US', datetime.datetime(2021, 2, 24, 5, 31, 21), None, None, 49, 0, None, Decimal('49.0'), Decimal('88888.0'), None, None, None, Decimal('0.0'), Decimal('84088888.0'), 'USA', None, None, 23),\n",
       " ('Diamond Princess', 'US', datetime.datetime(2021, 2, 25, 5, 31), None, None, 49, 0, None, Decimal('49.0'), Decimal('88888.0'), None, None, None, Decimal('0.0'), Decimal('84088888.0'), 'USA', None, None, 23),\n",
       " ('Diamond Princess', 'US', datetime.datetime(2021, 3, 1, 5, 30, 39), None, None, 49, 0, None, Decimal('49.0'), Decimal('88888.0'), None, None, None, Decimal('0.0'), Decimal('84088888.0'), 'USA', None, None, 23),\n",
       " ('Diamond Princess', 'US', datetime.datetime(2021, 3, 4, 5, 30, 41), None, None, 49, 0, None, Decimal('49.0'), Decimal('88888.0'), None, None, None, Decimal('0.0'), Decimal('84088888.0'), 'USA', None, None, 23)]"
      ]
     },
     "execution_count": 20,
     "metadata": {},
     "output_type": "execute_result"
    }
   ],
   "source": [
    "%%sql\n",
    "select * from casesdeath\n",
    "limit 5"
   ]
  },
  {
   "cell_type": "code",
   "execution_count": 21,
   "id": "76a8625f-7b00-4225-8173-a805d7f43fa9",
   "metadata": {},
   "outputs": [
    {
     "name": "stdout",
     "output_type": "stream",
     "text": [
      " * postgresql://student@/yxz1\n",
      "Done.\n"
     ]
    },
    {
     "data": {
      "text/plain": [
       "[]"
      ]
     },
     "execution_count": 21,
     "metadata": {},
     "output_type": "execute_result"
    }
   ],
   "source": [
    "%%sql\n",
    "ALTER TABLE test\n",
    "ADD COLUMN loc_key INTEGER,\n",
    "ADD CONSTRAINT fk_key\n",
    "    FOREIGN KEY (loc_key)\n",
    "    REFERENCES location (key);"
   ]
  },
  {
   "cell_type": "code",
   "execution_count": 22,
   "id": "77375d4a-1360-4ad6-bbaa-fdbc4fa4fad2",
   "metadata": {},
   "outputs": [
    {
     "name": "stdout",
     "output_type": "stream",
     "text": [
      " * postgresql://student@/yxz1\n",
      "2 rows affected.\n"
     ]
    },
    {
     "data": {
      "text/html": [
       "<table>\n",
       "    <thead>\n",
       "        <tr>\n",
       "            <th>date</th>\n",
       "            <th>state</th>\n",
       "            <th>cases_conf_probable</th>\n",
       "            <th>cases_confirmed</th>\n",
       "            <th>cases_probable</th>\n",
       "            <th>tests_viral_positive</th>\n",
       "            <th>tests_viral_negative</th>\n",
       "            <th>tests_viral_total</th>\n",
       "            <th>tests_antigen_positive</th>\n",
       "            <th>tests_antigen_total</th>\n",
       "            <th>people_viral_positive</th>\n",
       "            <th>people_viral_total</th>\n",
       "            <th>people_antigen_positive</th>\n",
       "            <th>people_antigen_total</th>\n",
       "            <th>encounters_viral_total</th>\n",
       "            <th>tests_combined_total</th>\n",
       "            <th>loc_key</th>\n",
       "        </tr>\n",
       "    </thead>\n",
       "    <tbody>\n",
       "        <tr>\n",
       "            <td>2020-03-06 00:00:00</td>\n",
       "            <td>AK</td>\n",
       "            <td>None</td>\n",
       "            <td>None</td>\n",
       "            <td>None</td>\n",
       "            <td>None</td>\n",
       "            <td>None</td>\n",
       "            <td>8</td>\n",
       "            <td>None</td>\n",
       "            <td>None</td>\n",
       "            <td>None</td>\n",
       "            <td>None</td>\n",
       "            <td>None</td>\n",
       "            <td>None</td>\n",
       "            <td>None</td>\n",
       "            <td>8</td>\n",
       "            <td>None</td>\n",
       "        </tr>\n",
       "        <tr>\n",
       "            <td>2020-03-07 00:00:00</td>\n",
       "            <td>AK</td>\n",
       "            <td>None</td>\n",
       "            <td>None</td>\n",
       "            <td>None</td>\n",
       "            <td>None</td>\n",
       "            <td>None</td>\n",
       "            <td>12</td>\n",
       "            <td>None</td>\n",
       "            <td>None</td>\n",
       "            <td>None</td>\n",
       "            <td>None</td>\n",
       "            <td>None</td>\n",
       "            <td>None</td>\n",
       "            <td>None</td>\n",
       "            <td>12</td>\n",
       "            <td>None</td>\n",
       "        </tr>\n",
       "    </tbody>\n",
       "</table>"
      ],
      "text/plain": [
       "[(datetime.datetime(2020, 3, 6, 0, 0), 'AK', None, None, None, None, None, 8, None, None, None, None, None, None, None, 8, None),\n",
       " (datetime.datetime(2020, 3, 7, 0, 0), 'AK', None, None, None, None, None, 12, None, None, None, None, None, None, None, 12, None)]"
      ]
     },
     "execution_count": 22,
     "metadata": {},
     "output_type": "execute_result"
    }
   ],
   "source": [
    "%%sql\n",
    "select * from test\n",
    "limit 2"
   ]
  },
  {
   "cell_type": "code",
   "execution_count": 23,
   "id": "2a30f1af-8622-4711-bcfa-9b1391d5d0fa",
   "metadata": {},
   "outputs": [
    {
     "name": "stdout",
     "output_type": "stream",
     "text": [
      " * postgresql://student@/yxz1\n",
      "35900 rows affected.\n"
     ]
    },
    {
     "data": {
      "text/plain": [
       "[]"
      ]
     },
     "execution_count": 23,
     "metadata": {},
     "output_type": "execute_result"
    }
   ],
   "source": [
    "%%sql\n",
    "UPDATE test\n",
    "SET loc_key = location.key\n",
    "FROM location\n",
    "WHERE test.state=location.state;"
   ]
  },
  {
   "cell_type": "code",
   "execution_count": 24,
   "id": "4c55a95c-afac-4b16-ade1-28b9f2b349e3",
   "metadata": {
    "tags": []
   },
   "outputs": [
    {
     "name": "stdout",
     "output_type": "stream",
     "text": [
      " * postgresql://student@/yxz1\n",
      "5 rows affected.\n"
     ]
    },
    {
     "data": {
      "text/html": [
       "<table>\n",
       "    <thead>\n",
       "        <tr>\n",
       "            <th>date</th>\n",
       "            <th>state</th>\n",
       "            <th>cases_conf_probable</th>\n",
       "            <th>cases_confirmed</th>\n",
       "            <th>cases_probable</th>\n",
       "            <th>tests_viral_positive</th>\n",
       "            <th>tests_viral_negative</th>\n",
       "            <th>tests_viral_total</th>\n",
       "            <th>tests_antigen_positive</th>\n",
       "            <th>tests_antigen_total</th>\n",
       "            <th>people_viral_positive</th>\n",
       "            <th>people_viral_total</th>\n",
       "            <th>people_antigen_positive</th>\n",
       "            <th>people_antigen_total</th>\n",
       "            <th>encounters_viral_total</th>\n",
       "            <th>tests_combined_total</th>\n",
       "            <th>loc_key</th>\n",
       "        </tr>\n",
       "    </thead>\n",
       "    <tbody>\n",
       "        <tr>\n",
       "            <td>2020-03-04 00:00:00</td>\n",
       "            <td>IL</td>\n",
       "            <td>4</td>\n",
       "            <td>None</td>\n",
       "            <td>None</td>\n",
       "            <td>None</td>\n",
       "            <td>None</td>\n",
       "            <td>None</td>\n",
       "            <td>None</td>\n",
       "            <td>None</td>\n",
       "            <td>4</td>\n",
       "            <td>None</td>\n",
       "            <td>None</td>\n",
       "            <td>None</td>\n",
       "            <td>None</td>\n",
       "            <td>None</td>\n",
       "            <td>25</td>\n",
       "        </tr>\n",
       "        <tr>\n",
       "            <td>2020-03-07 00:00:00</td>\n",
       "            <td>ND</td>\n",
       "            <td>None</td>\n",
       "            <td>None</td>\n",
       "            <td>None</td>\n",
       "            <td>None</td>\n",
       "            <td>None</td>\n",
       "            <td>None</td>\n",
       "            <td>None</td>\n",
       "            <td>None</td>\n",
       "            <td>None</td>\n",
       "            <td>None</td>\n",
       "            <td>None</td>\n",
       "            <td>None</td>\n",
       "            <td>None</td>\n",
       "            <td>None</td>\n",
       "            <td>108</td>\n",
       "        </tr>\n",
       "        <tr>\n",
       "            <td>2020-03-05 00:00:00</td>\n",
       "            <td>NM</td>\n",
       "            <td>0</td>\n",
       "            <td>None</td>\n",
       "            <td>None</td>\n",
       "            <td>None</td>\n",
       "            <td>None</td>\n",
       "            <td>None</td>\n",
       "            <td>None</td>\n",
       "            <td>None</td>\n",
       "            <td>0</td>\n",
       "            <td>None</td>\n",
       "            <td>None</td>\n",
       "            <td>None</td>\n",
       "            <td>None</td>\n",
       "            <td>None</td>\n",
       "            <td>19</td>\n",
       "        </tr>\n",
       "        <tr>\n",
       "            <td>2020-03-04 00:00:00</td>\n",
       "            <td>OR</td>\n",
       "            <td>None</td>\n",
       "            <td>None</td>\n",
       "            <td>None</td>\n",
       "            <td>None</td>\n",
       "            <td>None</td>\n",
       "            <td>None</td>\n",
       "            <td>None</td>\n",
       "            <td>None</td>\n",
       "            <td>None</td>\n",
       "            <td>None</td>\n",
       "            <td>None</td>\n",
       "            <td>None</td>\n",
       "            <td>None</td>\n",
       "            <td>None</td>\n",
       "            <td>35</td>\n",
       "        </tr>\n",
       "        <tr>\n",
       "            <td>2020-03-14 00:00:00</td>\n",
       "            <td>OR</td>\n",
       "            <td>30</td>\n",
       "            <td>None</td>\n",
       "            <td>None</td>\n",
       "            <td>None</td>\n",
       "            <td>None</td>\n",
       "            <td>None</td>\n",
       "            <td>None</td>\n",
       "            <td>None</td>\n",
       "            <td>30</td>\n",
       "            <td>None</td>\n",
       "            <td>None</td>\n",
       "            <td>None</td>\n",
       "            <td>None</td>\n",
       "            <td>None</td>\n",
       "            <td>35</td>\n",
       "        </tr>\n",
       "    </tbody>\n",
       "</table>"
      ],
      "text/plain": [
       "[(datetime.datetime(2020, 3, 4, 0, 0), 'IL', 4, None, None, None, None, None, None, None, 4, None, None, None, None, None, 25),\n",
       " (datetime.datetime(2020, 3, 7, 0, 0), 'ND', None, None, None, None, None, None, None, None, None, None, None, None, None, None, 108),\n",
       " (datetime.datetime(2020, 3, 5, 0, 0), 'NM', 0, None, None, None, None, None, None, None, 0, None, None, None, None, None, 19),\n",
       " (datetime.datetime(2020, 3, 4, 0, 0), 'OR', None, None, None, None, None, None, None, None, None, None, None, None, None, None, 35),\n",
       " (datetime.datetime(2020, 3, 14, 0, 0), 'OR', 30, None, None, None, None, None, None, None, 30, None, None, None, None, None, 35)]"
      ]
     },
     "execution_count": 24,
     "metadata": {},
     "output_type": "execute_result"
    }
   ],
   "source": [
    "%%sql\n",
    "select * from test\n",
    "limit 5"
   ]
  },
  {
   "cell_type": "code",
   "execution_count": 25,
   "id": "1eeb3014-c21d-4001-b09f-9198233e5c05",
   "metadata": {},
   "outputs": [
    {
     "name": "stdout",
     "output_type": "stream",
     "text": [
      " * postgresql://student@/yxz1\n",
      "Done.\n"
     ]
    },
    {
     "data": {
      "text/plain": [
       "[]"
      ]
     },
     "execution_count": 25,
     "metadata": {},
     "output_type": "execute_result"
    }
   ],
   "source": [
    "%%sql\n",
    "ALTER TABLE vaccine\n",
    "ADD COLUMN loc_key INTEGER,\n",
    "ADD CONSTRAINT fk_key\n",
    "    FOREIGN KEY (loc_key)\n",
    "    REFERENCES location (key);"
   ]
  },
  {
   "cell_type": "code",
   "execution_count": 26,
   "id": "332a5de5-55b7-43be-8922-fccbc69a674f",
   "metadata": {},
   "outputs": [
    {
     "name": "stdout",
     "output_type": "stream",
     "text": [
      " * postgresql://student@/yxz1\n",
      "118444 rows affected.\n"
     ]
    },
    {
     "data": {
      "text/plain": [
       "[]"
      ]
     },
     "execution_count": 26,
     "metadata": {},
     "output_type": "execute_result"
    }
   ],
   "source": [
    "%%sql\n",
    "UPDATE vaccine\n",
    "SET loc_key = location.key\n",
    "FROM location\n",
    "WHERE vaccine.province_state=location.state;"
   ]
  },
  {
   "cell_type": "code",
   "execution_count": 60,
   "id": "1e8fb86a-ac99-4b0d-a1f0-c967e2879e25",
   "metadata": {
    "collapsed": true,
    "jupyter": {
     "outputs_hidden": true
    },
    "tags": []
   },
   "outputs": [
    {
     "name": "stdout",
     "output_type": "stream",
     "text": [
      " * postgresql://student@/yxz1\n",
      "5 rows affected.\n"
     ]
    },
    {
     "data": {
      "text/html": [
       "<table>\n",
       "    <thead>\n",
       "        <tr>\n",
       "            <th>province_state</th>\n",
       "            <th>date</th>\n",
       "            <th>vaccine_type</th>\n",
       "            <th>fips</th>\n",
       "            <th>country_region</th>\n",
       "            <th>lat</th>\n",
       "            <th>long_</th>\n",
       "            <th>doses_alloc</th>\n",
       "            <th>doses_shipped</th>\n",
       "            <th>doses_admin</th>\n",
       "            <th>stage_one_doses</th>\n",
       "            <th>stage_two_doses</th>\n",
       "            <th>combined_key</th>\n",
       "            <th>loc_key</th>\n",
       "        </tr>\n",
       "    </thead>\n",
       "    <tbody>\n",
       "        <tr>\n",
       "            <td>Iowa</td>\n",
       "            <td>2020-12-10 00:00:00</td>\n",
       "            <td>All</td>\n",
       "            <td>19</td>\n",
       "            <td>US</td>\n",
       "            <td>42.0115</td>\n",
       "            <td>-93.2105</td>\n",
       "            <td>None</td>\n",
       "            <td>None</td>\n",
       "            <td>None</td>\n",
       "            <td>None</td>\n",
       "            <td>None</td>\n",
       "            <td>Iowa, US</td>\n",
       "            <td>113</td>\n",
       "        </tr>\n",
       "        <tr>\n",
       "            <td>Arizona</td>\n",
       "            <td>2021-03-25 00:00:00</td>\n",
       "            <td>Unknown</td>\n",
       "            <td>4</td>\n",
       "            <td>US</td>\n",
       "            <td>33.7298</td>\n",
       "            <td>-111.4312</td>\n",
       "            <td>None</td>\n",
       "            <td>None</td>\n",
       "            <td>None</td>\n",
       "            <td>None</td>\n",
       "            <td>None</td>\n",
       "            <td>Arizona, US</td>\n",
       "            <td>97</td>\n",
       "        </tr>\n",
       "        <tr>\n",
       "            <td>Indiana</td>\n",
       "            <td>2020-12-27 00:00:00</td>\n",
       "            <td>Pfizer</td>\n",
       "            <td>18</td>\n",
       "            <td>US</td>\n",
       "            <td>39.8494</td>\n",
       "            <td>-86.2583</td>\n",
       "            <td>None</td>\n",
       "            <td>None</td>\n",
       "            <td>None</td>\n",
       "            <td>None</td>\n",
       "            <td>None</td>\n",
       "            <td>Indiana, US</td>\n",
       "            <td>19</td>\n",
       "        </tr>\n",
       "        <tr>\n",
       "            <td>Indiana</td>\n",
       "            <td>2020-12-28 00:00:00</td>\n",
       "            <td>All</td>\n",
       "            <td>18</td>\n",
       "            <td>US</td>\n",
       "            <td>39.8494</td>\n",
       "            <td>-86.2583</td>\n",
       "            <td>None</td>\n",
       "            <td>None</td>\n",
       "            <td>None</td>\n",
       "            <td>None</td>\n",
       "            <td>None</td>\n",
       "            <td>Indiana, US</td>\n",
       "            <td>19</td>\n",
       "        </tr>\n",
       "        <tr>\n",
       "            <td>Indiana</td>\n",
       "            <td>2020-12-28 00:00:00</td>\n",
       "            <td>Moderna</td>\n",
       "            <td>18</td>\n",
       "            <td>US</td>\n",
       "            <td>39.8494</td>\n",
       "            <td>-86.2583</td>\n",
       "            <td>None</td>\n",
       "            <td>None</td>\n",
       "            <td>None</td>\n",
       "            <td>None</td>\n",
       "            <td>None</td>\n",
       "            <td>Indiana, US</td>\n",
       "            <td>19</td>\n",
       "        </tr>\n",
       "    </tbody>\n",
       "</table>"
      ],
      "text/plain": [
       "[('Iowa', datetime.datetime(2020, 12, 10, 0, 0), 'All', Decimal('19'), 'US', Decimal('42.0115'), Decimal('-93.2105'), None, None, None, None, None, 'Iowa, US', 113),\n",
       " ('Arizona', datetime.datetime(2021, 3, 25, 0, 0), 'Unknown', Decimal('4'), 'US', Decimal('33.7298'), Decimal('-111.4312'), None, None, None, None, None, 'Arizona, US', 97),\n",
       " ('Indiana', datetime.datetime(2020, 12, 27, 0, 0), 'Pfizer', Decimal('18'), 'US', Decimal('39.8494'), Decimal('-86.2583'), None, None, None, None, None, 'Indiana, US', 19),\n",
       " ('Indiana', datetime.datetime(2020, 12, 28, 0, 0), 'All', Decimal('18'), 'US', Decimal('39.8494'), Decimal('-86.2583'), None, None, None, None, None, 'Indiana, US', 19),\n",
       " ('Indiana', datetime.datetime(2020, 12, 28, 0, 0), 'Moderna', Decimal('18'), 'US', Decimal('39.8494'), Decimal('-86.2583'), None, None, None, None, None, 'Indiana, US', 19)]"
      ]
     },
     "execution_count": 60,
     "metadata": {},
     "output_type": "execute_result"
    }
   ],
   "source": [
    "%%sql\n",
    "select * from vaccine\n",
    "limit 5"
   ]
  },
  {
   "cell_type": "code",
   "execution_count": 27,
   "id": "446f5a02-27c9-459f-aef3-d86acb3d03d8",
   "metadata": {},
   "outputs": [
    {
     "name": "stdout",
     "output_type": "stream",
     "text": [
      " * postgresql://student@/yxz1\n",
      "Done.\n"
     ]
    },
    {
     "data": {
      "text/plain": [
       "[]"
      ]
     },
     "execution_count": 27,
     "metadata": {},
     "output_type": "execute_result"
    }
   ],
   "source": [
    "%%sql\n",
    "ALTER TABLE ppl_vaccine\n",
    "ADD COLUMN loc_key INTEGER,\n",
    "ADD CONSTRAINT fk_key\n",
    "    FOREIGN KEY (loc_key)\n",
    "    REFERENCES location (key);"
   ]
  },
  {
   "cell_type": "code",
   "execution_count": 28,
   "id": "bc81b83a-8ffd-426e-92da-ce786b7139cd",
   "metadata": {},
   "outputs": [
    {
     "name": "stdout",
     "output_type": "stream",
     "text": [
      " * postgresql://student@/yxz1\n",
      "21792 rows affected.\n"
     ]
    },
    {
     "data": {
      "text/plain": [
       "[]"
      ]
     },
     "execution_count": 28,
     "metadata": {},
     "output_type": "execute_result"
    }
   ],
   "source": [
    "%%sql\n",
    "UPDATE ppl_vaccine\n",
    "SET loc_key = location.key\n",
    "FROM location\n",
    "WHERE ppl_vaccine.province_state=location.state;"
   ]
  },
  {
   "cell_type": "code",
   "execution_count": 29,
   "id": "45a5602d-0c9e-43bd-93c6-219c9bd98b2c",
   "metadata": {},
   "outputs": [
    {
     "name": "stdout",
     "output_type": "stream",
     "text": [
      " * postgresql://student@/yxz1\n",
      "3 rows affected.\n"
     ]
    },
    {
     "data": {
      "text/html": [
       "<table>\n",
       "    <thead>\n",
       "        <tr>\n",
       "            <th>fips</th>\n",
       "            <th>province_state</th>\n",
       "            <th>country_region</th>\n",
       "            <th>date</th>\n",
       "            <th>lat</th>\n",
       "            <th>long_</th>\n",
       "            <th>combined_key</th>\n",
       "            <th>people_fully_vaccinated</th>\n",
       "            <th>people_partially_vaccinated</th>\n",
       "            <th>loc_key</th>\n",
       "        </tr>\n",
       "    </thead>\n",
       "    <tbody>\n",
       "        <tr>\n",
       "            <td>1</td>\n",
       "            <td>Alabama</td>\n",
       "            <td>US</td>\n",
       "            <td>2020-12-10 00:00:00</td>\n",
       "            <td>32.3182</td>\n",
       "            <td>-86.9023</td>\n",
       "            <td>Alabama, US</td>\n",
       "            <td>None</td>\n",
       "            <td>None</td>\n",
       "            <td>67</td>\n",
       "        </tr>\n",
       "        <tr>\n",
       "            <td>1</td>\n",
       "            <td>Alabama</td>\n",
       "            <td>US</td>\n",
       "            <td>2020-12-11 00:00:00</td>\n",
       "            <td>32.3182</td>\n",
       "            <td>-86.9023</td>\n",
       "            <td>Alabama, US</td>\n",
       "            <td>None</td>\n",
       "            <td>None</td>\n",
       "            <td>67</td>\n",
       "        </tr>\n",
       "        <tr>\n",
       "            <td>1</td>\n",
       "            <td>Alabama</td>\n",
       "            <td>US</td>\n",
       "            <td>2020-12-12 00:00:00</td>\n",
       "            <td>32.3182</td>\n",
       "            <td>-86.9023</td>\n",
       "            <td>Alabama, US</td>\n",
       "            <td>None</td>\n",
       "            <td>None</td>\n",
       "            <td>67</td>\n",
       "        </tr>\n",
       "    </tbody>\n",
       "</table>"
      ],
      "text/plain": [
       "[(Decimal('1'), 'Alabama', 'US', datetime.datetime(2020, 12, 10, 0, 0), Decimal('32.3182'), Decimal('-86.9023'), 'Alabama, US', None, None, 67),\n",
       " (Decimal('1'), 'Alabama', 'US', datetime.datetime(2020, 12, 11, 0, 0), Decimal('32.3182'), Decimal('-86.9023'), 'Alabama, US', None, None, 67),\n",
       " (Decimal('1'), 'Alabama', 'US', datetime.datetime(2020, 12, 12, 0, 0), Decimal('32.3182'), Decimal('-86.9023'), 'Alabama, US', None, None, 67)]"
      ]
     },
     "execution_count": 29,
     "metadata": {},
     "output_type": "execute_result"
    }
   ],
   "source": [
    "%%sql\n",
    "select * from ppl_vaccine\n",
    "limit 3"
   ]
  },
  {
   "cell_type": "code",
   "execution_count": 63,
   "id": "e7619599-38f6-49a9-a191-ff45663f35f4",
   "metadata": {},
   "outputs": [
    {
     "name": "stdout",
     "output_type": "stream",
     "text": [
      "21793 ppl_vaccine_data.csv\n"
     ]
    }
   ],
   "source": [
    "!wc -l ppl_vaccine_data.csv"
   ]
  },
  {
   "cell_type": "markdown",
   "id": "a21cd4af-e0b5-46ef-9305-f45e78797427",
   "metadata": {},
   "source": [
    "### date dimension table"
   ]
  },
  {
   "cell_type": "code",
   "execution_count": 30,
   "id": "898d3121-8c2a-4a6b-8547-6b2c2e9eda4c",
   "metadata": {},
   "outputs": [
    {
     "name": "stdout",
     "output_type": "stream",
     "text": [
      " * postgresql://student@/yxz1\n",
      "Done.\n",
      "Done.\n"
     ]
    },
    {
     "data": {
      "text/plain": [
       "[]"
      ]
     },
     "execution_count": 30,
     "metadata": {},
     "output_type": "execute_result"
    }
   ],
   "source": [
    "%%sql\n",
    "DROP TABLE if exists date;\n",
    "\n",
    "CREATE TABLE date(\n",
    "    key SERIAL PRIMARY KEY,\n",
    "    full_time CHAR(19),\n",
    "    full_date CHAR(10),\n",
    "    year INTEGER,\n",
    "    month INTEGER,\n",
    "    day INTEGER\n",
    "\n",
    ")"
   ]
  },
  {
   "cell_type": "code",
   "execution_count": 31,
   "id": "e7e328ea-da91-4875-8bc0-5b852c8084f8",
   "metadata": {},
   "outputs": [
    {
     "name": "stdout",
     "output_type": "stream",
     "text": [
      " * postgresql://student@/yxz1\n",
      "1441 rows affected.\n"
     ]
    },
    {
     "data": {
      "text/plain": [
       "[]"
      ]
     },
     "execution_count": 31,
     "metadata": {},
     "output_type": "execute_result"
    }
   ],
   "source": [
    "%%sql\n",
    "INSERT INTO date (full_time,full_date, year,month, day)\n",
    "SELECT DISTINCT TO_CHAR(last_update, 'YYYY-MM-DD HH24:00:00') AS full_time,\n",
    "    TO_CHAR(last_update, 'YYYY-MM-DD') AS full_date, \n",
    "    CAST(TO_CHAR(last_update, 'YYYY') AS INTEGER) AS year,\n",
    "    CAST(TO_CHAR(last_update, 'MM') AS INTEGER) AS year,\n",
    "    CAST(TO_CHAR(last_update, 'DD') AS INTEGER) AS day\n",
    "FROM casesdeath\n",
    "union\n",
    "SELECT DISTINCT \n",
    "    TO_CHAR(Date, 'YYYY-MM-DD HH24:00:00') AS full_time,\n",
    "    TO_CHAR(Date, 'YYYY-MM-DD') AS full_date, \n",
    "    CAST(TO_CHAR(Date, 'YYYY') AS INTEGER) AS year,\n",
    "    CAST(TO_CHAR(Date, 'MM') AS INTEGER) AS month,\n",
    "    CAST(TO_CHAR(Date, 'DD') AS INTEGER) AS day\n",
    "FROM vaccine\n",
    "union\n",
    "SELECT DISTINCT\n",
    "    TO_CHAR(Date, 'YYYY-MM-DD HH24:00:00') AS full_time,\n",
    "    TO_CHAR(Date, 'YYYY-MM-DD') AS full_date, \n",
    "    CAST(TO_CHAR(Date, 'YYYY') AS INTEGER) AS year,\n",
    "    CAST(TO_CHAR(Date, 'MM') AS INTEGER) AS month,\n",
    "    CAST(TO_CHAR(Date, 'DD') AS INTEGER) AS day\n",
    "FROM ppl_vaccine\n",
    "union\n",
    "SELECT DISTINCT\n",
    "    TO_CHAR(date, 'YYYY-MM-DD HH24:00:00') AS full_time,\n",
    "    TO_CHAR(date, 'YYYY-MM-DD') AS full_date, \n",
    "    CAST(TO_CHAR(date, 'YYYY') AS INTEGER) AS year,\n",
    "    CAST(TO_CHAR(date, 'MM') AS INTEGER) AS month,\n",
    "    CAST(TO_CHAR(date, 'DD') AS INTEGER) AS day\n",
    "FROM test"
   ]
  },
  {
   "cell_type": "code",
   "execution_count": 32,
   "id": "2fccafd3-8fce-4249-85af-328b2ee17d8f",
   "metadata": {},
   "outputs": [
    {
     "name": "stdout",
     "output_type": "stream",
     "text": [
      " * postgresql://student@/yxz1\n",
      "5 rows affected.\n"
     ]
    },
    {
     "data": {
      "text/html": [
       "<table>\n",
       "    <thead>\n",
       "        <tr>\n",
       "            <th>key</th>\n",
       "            <th>full_time</th>\n",
       "            <th>full_date</th>\n",
       "            <th>year</th>\n",
       "            <th>month</th>\n",
       "            <th>day</th>\n",
       "        </tr>\n",
       "    </thead>\n",
       "    <tbody>\n",
       "        <tr>\n",
       "            <td>1</td>\n",
       "            <td>2021-07-24 04:00:00</td>\n",
       "            <td>2021-07-24</td>\n",
       "            <td>2021</td>\n",
       "            <td>7</td>\n",
       "            <td>24</td>\n",
       "        </tr>\n",
       "        <tr>\n",
       "            <td>2</td>\n",
       "            <td>None</td>\n",
       "            <td>None</td>\n",
       "            <td>None</td>\n",
       "            <td>None</td>\n",
       "            <td>None</td>\n",
       "        </tr>\n",
       "        <tr>\n",
       "            <td>3</td>\n",
       "            <td>2020-09-10 04:00:00</td>\n",
       "            <td>2020-09-10</td>\n",
       "            <td>2020</td>\n",
       "            <td>9</td>\n",
       "            <td>10</td>\n",
       "        </tr>\n",
       "        <tr>\n",
       "            <td>4</td>\n",
       "            <td>2021-04-21 07:00:00</td>\n",
       "            <td>2021-04-21</td>\n",
       "            <td>2021</td>\n",
       "            <td>4</td>\n",
       "            <td>21</td>\n",
       "        </tr>\n",
       "        <tr>\n",
       "            <td>5</td>\n",
       "            <td>2021-01-31 00:00:00</td>\n",
       "            <td>2021-01-31</td>\n",
       "            <td>2021</td>\n",
       "            <td>1</td>\n",
       "            <td>31</td>\n",
       "        </tr>\n",
       "    </tbody>\n",
       "</table>"
      ],
      "text/plain": [
       "[(1, '2021-07-24 04:00:00', '2021-07-24', 2021, 7, 24),\n",
       " (2, None, None, None, None, None),\n",
       " (3, '2020-09-10 04:00:00', '2020-09-10', 2020, 9, 10),\n",
       " (4, '2021-04-21 07:00:00', '2021-04-21', 2021, 4, 21),\n",
       " (5, '2021-01-31 00:00:00', '2021-01-31', 2021, 1, 31)]"
      ]
     },
     "execution_count": 32,
     "metadata": {},
     "output_type": "execute_result"
    }
   ],
   "source": [
    "%%sql\n",
    "select * from date\n",
    "limit 5"
   ]
  },
  {
   "cell_type": "code",
   "execution_count": 33,
   "id": "c99f6c40-51c4-4a62-bc94-d5cbc818913f",
   "metadata": {},
   "outputs": [
    {
     "name": "stdout",
     "output_type": "stream",
     "text": [
      " * postgresql://student@/yxz1\n",
      "Done.\n"
     ]
    },
    {
     "data": {
      "text/plain": [
       "[]"
      ]
     },
     "execution_count": 33,
     "metadata": {},
     "output_type": "execute_result"
    }
   ],
   "source": [
    "%%sql\n",
    "ALTER TABLE  casesdeath\n",
    "ADD COLUMN date_key INTEGER,\n",
    "ADD CONSTRAINT fk_date\n",
    "    FOREIGN KEY (date_key)\n",
    "    REFERENCES date (key);"
   ]
  },
  {
   "cell_type": "code",
   "execution_count": 34,
   "id": "2971d35e-49be-4a0f-9a9e-8bdfedebb4a9",
   "metadata": {},
   "outputs": [
    {
     "name": "stdout",
     "output_type": "stream",
     "text": [
      " * postgresql://student@/yxz1\n",
      "33813 rows affected.\n"
     ]
    },
    {
     "data": {
      "text/plain": [
       "[]"
      ]
     },
     "execution_count": 34,
     "metadata": {},
     "output_type": "execute_result"
    }
   ],
   "source": [
    "%%sql\n",
    "UPDATE casesdeath\n",
    "SET date_key = date.key\n",
    "FROM date\n",
    "WHERE TO_CHAR(casesdeath.last_update, 'YYYY-MM-DD HH24:00:00')=date.full_time;"
   ]
  },
  {
   "cell_type": "code",
   "execution_count": 89,
   "id": "45288db2-0dac-45b8-bb1c-4d1acb67a2be",
   "metadata": {},
   "outputs": [
    {
     "name": "stdout",
     "output_type": "stream",
     "text": [
      " * postgresql://student@/yxz1\n",
      "5 rows affected.\n"
     ]
    },
    {
     "data": {
      "text/html": [
       "<table>\n",
       "    <thead>\n",
       "        <tr>\n",
       "            <th>province_state</th>\n",
       "            <th>country_region</th>\n",
       "            <th>last_update</th>\n",
       "            <th>lat</th>\n",
       "            <th>long_</th>\n",
       "            <th>confirmed</th>\n",
       "            <th>deaths</th>\n",
       "            <th>recovered</th>\n",
       "            <th>active</th>\n",
       "            <th>fips</th>\n",
       "            <th>incident_rate</th>\n",
       "            <th>total_test_results</th>\n",
       "            <th>people_hospitalized</th>\n",
       "            <th>case_fatality_ratio</th>\n",
       "            <th>uid</th>\n",
       "            <th>iso3</th>\n",
       "            <th>testing_rate</th>\n",
       "            <th>hospitalization_rate</th>\n",
       "            <th>loc_key</th>\n",
       "            <th>date_key</th>\n",
       "        </tr>\n",
       "    </thead>\n",
       "    <tbody>\n",
       "        <tr>\n",
       "            <td>Minnesota</td>\n",
       "            <td>US</td>\n",
       "            <td>2020-04-12 23:18:15</td>\n",
       "            <td>45.6945</td>\n",
       "            <td>-93.9002</td>\n",
       "            <td>1621</td>\n",
       "            <td>70</td>\n",
       "            <td>842</td>\n",
       "            <td>1551</td>\n",
       "            <td>27</td>\n",
       "            <td>32.77100367</td>\n",
       "            <td>37421</td>\n",
       "            <td>361</td>\n",
       "            <td>4.318322023</td>\n",
       "            <td>84000027</td>\n",
       "            <td>USA</td>\n",
       "            <td>756.5229662</td>\n",
       "            <td>22.27020358</td>\n",
       "            <td>35</td>\n",
       "            <td>200</td>\n",
       "        </tr>\n",
       "        <tr>\n",
       "            <td>Mississippi</td>\n",
       "            <td>US</td>\n",
       "            <td>2020-04-12 23:18:15</td>\n",
       "            <td>32.7416</td>\n",
       "            <td>-89.6787</td>\n",
       "            <td>2781</td>\n",
       "            <td>96</td>\n",
       "            <td>None</td>\n",
       "            <td>2685</td>\n",
       "            <td>28</td>\n",
       "            <td>96.05534114</td>\n",
       "            <td>21413</td>\n",
       "            <td>548</td>\n",
       "            <td>3.451995685</td>\n",
       "            <td>84000028</td>\n",
       "            <td>USA</td>\n",
       "            <td>739.6019489</td>\n",
       "            <td>19.70514204</td>\n",
       "            <td>74</td>\n",
       "            <td>200</td>\n",
       "        </tr>\n",
       "        <tr>\n",
       "            <td>Missouri</td>\n",
       "            <td>US</td>\n",
       "            <td>2020-04-12 23:18:15</td>\n",
       "            <td>38.4561</td>\n",
       "            <td>-92.2884</td>\n",
       "            <td>4352</td>\n",
       "            <td>120</td>\n",
       "            <td>None</td>\n",
       "            <td>4151</td>\n",
       "            <td>29</td>\n",
       "            <td>72.85659283</td>\n",
       "            <td>45200</td>\n",
       "            <td>988</td>\n",
       "            <td>2.764113375</td>\n",
       "            <td>84000029</td>\n",
       "            <td>USA</td>\n",
       "            <td>771.4026695</td>\n",
       "            <td>23.14359335</td>\n",
       "            <td>93</td>\n",
       "            <td>200</td>\n",
       "        </tr>\n",
       "        <tr>\n",
       "            <td>Guam</td>\n",
       "            <td>US</td>\n",
       "            <td>2020-04-12 23:18:15</td>\n",
       "            <td>13.4443</td>\n",
       "            <td>144.7937</td>\n",
       "            <td>133</td>\n",
       "            <td>5</td>\n",
       "            <td>58</td>\n",
       "            <td>128</td>\n",
       "            <td>66</td>\n",
       "            <td>80.98447899</td>\n",
       "            <td>826</td>\n",
       "            <td>13</td>\n",
       "            <td>3.759398496</td>\n",
       "            <td>316</td>\n",
       "            <td>GUM</td>\n",
       "            <td>502.9562379</td>\n",
       "            <td>9.77443609</td>\n",
       "            <td>17</td>\n",
       "            <td>200</td>\n",
       "        </tr>\n",
       "        <tr>\n",
       "            <td>Grand Princess</td>\n",
       "            <td>US</td>\n",
       "            <td>2020-04-12 23:18:15</td>\n",
       "            <td>None</td>\n",
       "            <td>None</td>\n",
       "            <td>103</td>\n",
       "            <td>0</td>\n",
       "            <td>0</td>\n",
       "            <td>103</td>\n",
       "            <td>999</td>\n",
       "            <td>None</td>\n",
       "            <td>None</td>\n",
       "            <td>None</td>\n",
       "            <td>0.0</td>\n",
       "            <td>84099999</td>\n",
       "            <td>USA</td>\n",
       "            <td>None</td>\n",
       "            <td>None</td>\n",
       "            <td>16</td>\n",
       "            <td>200</td>\n",
       "        </tr>\n",
       "    </tbody>\n",
       "</table>"
      ],
      "text/plain": [
       "[('Minnesota', 'US', datetime.datetime(2020, 4, 12, 23, 18, 15), Decimal('45.6945'), Decimal('-93.9002'), 1621, 70, Decimal('842'), Decimal('1551'), Decimal('27'), Decimal('32.77100367'), Decimal('37421'), Decimal('361'), Decimal('4.318322023'), Decimal('84000027'), 'USA', Decimal('756.5229662'), Decimal('22.27020358'), 35, 200),\n",
       " ('Mississippi', 'US', datetime.datetime(2020, 4, 12, 23, 18, 15), Decimal('32.7416'), Decimal('-89.6787'), 2781, 96, None, Decimal('2685'), Decimal('28'), Decimal('96.05534114'), Decimal('21413'), Decimal('548'), Decimal('3.451995685'), Decimal('84000028'), 'USA', Decimal('739.6019489'), Decimal('19.70514204'), 74, 200),\n",
       " ('Missouri', 'US', datetime.datetime(2020, 4, 12, 23, 18, 15), Decimal('38.4561'), Decimal('-92.2884'), 4352, 120, None, Decimal('4151'), Decimal('29'), Decimal('72.85659283'), Decimal('45200'), Decimal('988'), Decimal('2.764113375'), Decimal('84000029'), 'USA', Decimal('771.4026695'), Decimal('23.14359335'), 93, 200),\n",
       " ('Guam', 'US', datetime.datetime(2020, 4, 12, 23, 18, 15), Decimal('13.4443'), Decimal('144.7937'), 133, 5, Decimal('58'), Decimal('128'), Decimal('66'), Decimal('80.98447899'), Decimal('826'), Decimal('13'), Decimal('3.759398496'), Decimal('316'), 'GUM', Decimal('502.9562379'), Decimal('9.77443609'), 17, 200),\n",
       " ('Grand Princess', 'US', datetime.datetime(2020, 4, 12, 23, 18, 15), None, None, 103, 0, Decimal('0'), Decimal('103'), Decimal('999'), None, None, None, Decimal('0.0'), Decimal('84099999'), 'USA', None, None, 16, 200)]"
      ]
     },
     "execution_count": 89,
     "metadata": {},
     "output_type": "execute_result"
    }
   ],
   "source": [
    "%%sql\n",
    "select * from casedeath\n",
    "limit 5"
   ]
  },
  {
   "cell_type": "code",
   "execution_count": 35,
   "id": "9f51b260-eaf5-425b-9968-4fe2389270a2",
   "metadata": {},
   "outputs": [
    {
     "name": "stdout",
     "output_type": "stream",
     "text": [
      " * postgresql://student@/yxz1\n",
      "Done.\n"
     ]
    },
    {
     "data": {
      "text/plain": [
       "[]"
      ]
     },
     "execution_count": 35,
     "metadata": {},
     "output_type": "execute_result"
    }
   ],
   "source": [
    "%%sql\n",
    "ALTER TABLE  vaccine\n",
    "ADD COLUMN date_key INTEGER,\n",
    "ADD CONSTRAINT fk_date\n",
    "    FOREIGN KEY (date_key)\n",
    "    REFERENCES date (key);"
   ]
  },
  {
   "cell_type": "code",
   "execution_count": 36,
   "id": "212ccd36-b382-40d6-9cfa-a5800694d960",
   "metadata": {},
   "outputs": [
    {
     "name": "stdout",
     "output_type": "stream",
     "text": [
      " * postgresql://student@/yxz1\n",
      "118444 rows affected.\n"
     ]
    },
    {
     "data": {
      "text/plain": [
       "[]"
      ]
     },
     "execution_count": 36,
     "metadata": {},
     "output_type": "execute_result"
    }
   ],
   "source": [
    "%%sql\n",
    "UPDATE vaccine\n",
    "SET date_key = date.key\n",
    "FROM date\n",
    "WHERE TO_CHAR(vaccine.Date, 'YYYY-MM-DD HH24:00:00')=date.full_time;"
   ]
  },
  {
   "cell_type": "code",
   "execution_count": 92,
   "id": "b6361435-aa59-4e11-9255-02c5427bbcd1",
   "metadata": {},
   "outputs": [
    {
     "name": "stdout",
     "output_type": "stream",
     "text": [
      " * postgresql://student@/yxz1\n",
      "5 rows affected.\n"
     ]
    },
    {
     "data": {
      "text/html": [
       "<table>\n",
       "    <thead>\n",
       "        <tr>\n",
       "            <th>province_state</th>\n",
       "            <th>date</th>\n",
       "            <th>vaccine_type</th>\n",
       "            <th>fips</th>\n",
       "            <th>country_region</th>\n",
       "            <th>lat</th>\n",
       "            <th>long_</th>\n",
       "            <th>doses_alloc</th>\n",
       "            <th>doses_shipped</th>\n",
       "            <th>doses_admin</th>\n",
       "            <th>stage_one_doses</th>\n",
       "            <th>stage_two_doses</th>\n",
       "            <th>combined_key</th>\n",
       "            <th>loc_key</th>\n",
       "            <th>date_key</th>\n",
       "        </tr>\n",
       "    </thead>\n",
       "    <tbody>\n",
       "        <tr>\n",
       "            <td>Arkansas</td>\n",
       "            <td>2020-12-10 00:00:00</td>\n",
       "            <td>All</td>\n",
       "            <td>5</td>\n",
       "            <td>US</td>\n",
       "            <td>34.9697</td>\n",
       "            <td>-92.3731</td>\n",
       "            <td>None</td>\n",
       "            <td>None</td>\n",
       "            <td>None</td>\n",
       "            <td>None</td>\n",
       "            <td>None</td>\n",
       "            <td>Arkansas, US</td>\n",
       "            <td>2</td>\n",
       "            <td>754</td>\n",
       "        </tr>\n",
       "        <tr>\n",
       "            <td>Arkansas</td>\n",
       "            <td>2020-12-10 00:00:00</td>\n",
       "            <td>Moderna</td>\n",
       "            <td>5</td>\n",
       "            <td>US</td>\n",
       "            <td>34.9697</td>\n",
       "            <td>-92.3731</td>\n",
       "            <td>None</td>\n",
       "            <td>None</td>\n",
       "            <td>None</td>\n",
       "            <td>None</td>\n",
       "            <td>None</td>\n",
       "            <td>Arkansas, US</td>\n",
       "            <td>2</td>\n",
       "            <td>754</td>\n",
       "        </tr>\n",
       "        <tr>\n",
       "            <td>Colorado</td>\n",
       "            <td>2020-12-10 00:00:00</td>\n",
       "            <td>Pfizer</td>\n",
       "            <td>8</td>\n",
       "            <td>US</td>\n",
       "            <td>39.0598</td>\n",
       "            <td>-105.3111</td>\n",
       "            <td>None</td>\n",
       "            <td>None</td>\n",
       "            <td>None</td>\n",
       "            <td>None</td>\n",
       "            <td>None</td>\n",
       "            <td>Colorado, US</td>\n",
       "            <td>73</td>\n",
       "            <td>754</td>\n",
       "        </tr>\n",
       "        <tr>\n",
       "            <td>Colorado</td>\n",
       "            <td>2020-12-10 00:00:00</td>\n",
       "            <td>Moderna</td>\n",
       "            <td>8</td>\n",
       "            <td>US</td>\n",
       "            <td>39.0598</td>\n",
       "            <td>-105.3111</td>\n",
       "            <td>None</td>\n",
       "            <td>None</td>\n",
       "            <td>None</td>\n",
       "            <td>None</td>\n",
       "            <td>None</td>\n",
       "            <td>Colorado, US</td>\n",
       "            <td>73</td>\n",
       "            <td>754</td>\n",
       "        </tr>\n",
       "        <tr>\n",
       "            <td>Arkansas</td>\n",
       "            <td>2020-12-10 00:00:00</td>\n",
       "            <td>Pfizer</td>\n",
       "            <td>5</td>\n",
       "            <td>US</td>\n",
       "            <td>34.9697</td>\n",
       "            <td>-92.3731</td>\n",
       "            <td>None</td>\n",
       "            <td>None</td>\n",
       "            <td>None</td>\n",
       "            <td>None</td>\n",
       "            <td>None</td>\n",
       "            <td>Arkansas, US</td>\n",
       "            <td>2</td>\n",
       "            <td>754</td>\n",
       "        </tr>\n",
       "    </tbody>\n",
       "</table>"
      ],
      "text/plain": [
       "[('Arkansas', datetime.datetime(2020, 12, 10, 0, 0), 'All', Decimal('5'), 'US', Decimal('34.9697'), Decimal('-92.3731'), None, None, None, None, None, 'Arkansas, US', 2, 754),\n",
       " ('Arkansas', datetime.datetime(2020, 12, 10, 0, 0), 'Moderna', Decimal('5'), 'US', Decimal('34.9697'), Decimal('-92.3731'), None, None, None, None, None, 'Arkansas, US', 2, 754),\n",
       " ('Colorado', datetime.datetime(2020, 12, 10, 0, 0), 'Pfizer', Decimal('8'), 'US', Decimal('39.0598'), Decimal('-105.3111'), None, None, None, None, None, 'Colorado, US', 73, 754),\n",
       " ('Colorado', datetime.datetime(2020, 12, 10, 0, 0), 'Moderna', Decimal('8'), 'US', Decimal('39.0598'), Decimal('-105.3111'), None, None, None, None, None, 'Colorado, US', 73, 754),\n",
       " ('Arkansas', datetime.datetime(2020, 12, 10, 0, 0), 'Pfizer', Decimal('5'), 'US', Decimal('34.9697'), Decimal('-92.3731'), None, None, None, None, None, 'Arkansas, US', 2, 754)]"
      ]
     },
     "execution_count": 92,
     "metadata": {},
     "output_type": "execute_result"
    }
   ],
   "source": [
    "%%sql\n",
    "select * from vaccine\n",
    "limit 5"
   ]
  },
  {
   "cell_type": "code",
   "execution_count": 37,
   "id": "066730e2-e1ce-419a-b302-61733282a1d4",
   "metadata": {},
   "outputs": [
    {
     "name": "stdout",
     "output_type": "stream",
     "text": [
      " * postgresql://student@/yxz1\n",
      "Done.\n"
     ]
    },
    {
     "data": {
      "text/plain": [
       "[]"
      ]
     },
     "execution_count": 37,
     "metadata": {},
     "output_type": "execute_result"
    }
   ],
   "source": [
    "%%sql\n",
    "ALTER TABLE  ppl_vaccine\n",
    "ADD COLUMN date_key INTEGER,\n",
    "ADD CONSTRAINT fk_date\n",
    "    FOREIGN KEY (date_key)\n",
    "    REFERENCES date (key);"
   ]
  },
  {
   "cell_type": "code",
   "execution_count": 38,
   "id": "8f8af190-bc33-4669-91b9-3b3472bf73e9",
   "metadata": {},
   "outputs": [
    {
     "name": "stdout",
     "output_type": "stream",
     "text": [
      " * postgresql://student@/yxz1\n",
      "21792 rows affected.\n"
     ]
    },
    {
     "data": {
      "text/plain": [
       "[]"
      ]
     },
     "execution_count": 38,
     "metadata": {},
     "output_type": "execute_result"
    }
   ],
   "source": [
    "%%sql\n",
    "UPDATE ppl_vaccine\n",
    "SET date_key = date.key\n",
    "FROM date\n",
    "WHERE TO_CHAR(ppl_vaccine.Date, 'YYYY-MM-DD HH24:00:00')=date.full_time;"
   ]
  },
  {
   "cell_type": "code",
   "execution_count": 96,
   "id": "4f31115e-5964-4179-88a0-9e2dd3747727",
   "metadata": {
    "collapsed": true,
    "jupyter": {
     "outputs_hidden": true
    },
    "tags": []
   },
   "outputs": [
    {
     "name": "stdout",
     "output_type": "stream",
     "text": [
      " * postgresql://student@/yxz1\n",
      "5 rows affected.\n"
     ]
    },
    {
     "data": {
      "text/html": [
       "<table>\n",
       "    <thead>\n",
       "        <tr>\n",
       "            <th>fips</th>\n",
       "            <th>province_state</th>\n",
       "            <th>country_region</th>\n",
       "            <th>date</th>\n",
       "            <th>lat</th>\n",
       "            <th>long_</th>\n",
       "            <th>combined_key</th>\n",
       "            <th>people_fully_vaccinated</th>\n",
       "            <th>people_partially_vaccinated</th>\n",
       "            <th>loc_key</th>\n",
       "            <th>date_key</th>\n",
       "        </tr>\n",
       "    </thead>\n",
       "    <tbody>\n",
       "        <tr>\n",
       "            <td>32</td>\n",
       "            <td>Nevada</td>\n",
       "            <td>US</td>\n",
       "            <td>2020-12-10 00:00:00</td>\n",
       "            <td>38.3135</td>\n",
       "            <td>-117.0554</td>\n",
       "            <td>Nevada, US</td>\n",
       "            <td>None</td>\n",
       "            <td>None</td>\n",
       "            <td>1</td>\n",
       "            <td>754</td>\n",
       "        </tr>\n",
       "        <tr>\n",
       "            <td>42</td>\n",
       "            <td>Pennsylvania</td>\n",
       "            <td>US</td>\n",
       "            <td>2020-12-10 00:00:00</td>\n",
       "            <td>40.5908</td>\n",
       "            <td>-77.2098</td>\n",
       "            <td>Pennsylvania, US</td>\n",
       "            <td>None</td>\n",
       "            <td>None</td>\n",
       "            <td>48</td>\n",
       "            <td>754</td>\n",
       "        </tr>\n",
       "        <tr>\n",
       "            <td>17</td>\n",
       "            <td>Illinois</td>\n",
       "            <td>US</td>\n",
       "            <td>2020-12-10 00:00:00</td>\n",
       "            <td>40.3495</td>\n",
       "            <td>-88.9861</td>\n",
       "            <td>Illinois, US</td>\n",
       "            <td>None</td>\n",
       "            <td>None</td>\n",
       "            <td>53</td>\n",
       "            <td>754</td>\n",
       "        </tr>\n",
       "        <tr>\n",
       "            <td>33</td>\n",
       "            <td>New Hampshire</td>\n",
       "            <td>US</td>\n",
       "            <td>2020-12-10 00:00:00</td>\n",
       "            <td>43.4525</td>\n",
       "            <td>-71.5639</td>\n",
       "            <td>New Hampshire, US</td>\n",
       "            <td>None</td>\n",
       "            <td>None</td>\n",
       "            <td>38</td>\n",
       "            <td>754</td>\n",
       "        </tr>\n",
       "        <tr>\n",
       "            <td>30</td>\n",
       "            <td>Montana</td>\n",
       "            <td>US</td>\n",
       "            <td>2020-12-10 00:00:00</td>\n",
       "            <td>46.9219</td>\n",
       "            <td>-110.4544</td>\n",
       "            <td>Montana, US</td>\n",
       "            <td>None</td>\n",
       "            <td>None</td>\n",
       "            <td>49</td>\n",
       "            <td>754</td>\n",
       "        </tr>\n",
       "    </tbody>\n",
       "</table>"
      ],
      "text/plain": [
       "[(Decimal('32'), 'Nevada', 'US', datetime.datetime(2020, 12, 10, 0, 0), Decimal('38.3135'), Decimal('-117.0554'), 'Nevada, US', None, None, 1, 754),\n",
       " (Decimal('42'), 'Pennsylvania', 'US', datetime.datetime(2020, 12, 10, 0, 0), Decimal('40.5908'), Decimal('-77.2098'), 'Pennsylvania, US', None, None, 48, 754),\n",
       " (Decimal('17'), 'Illinois', 'US', datetime.datetime(2020, 12, 10, 0, 0), Decimal('40.3495'), Decimal('-88.9861'), 'Illinois, US', None, None, 53, 754),\n",
       " (Decimal('33'), 'New Hampshire', 'US', datetime.datetime(2020, 12, 10, 0, 0), Decimal('43.4525'), Decimal('-71.5639'), 'New Hampshire, US', None, None, 38, 754),\n",
       " (Decimal('30'), 'Montana', 'US', datetime.datetime(2020, 12, 10, 0, 0), Decimal('46.9219'), Decimal('-110.4544'), 'Montana, US', None, None, 49, 754)]"
      ]
     },
     "execution_count": 96,
     "metadata": {},
     "output_type": "execute_result"
    }
   ],
   "source": [
    "%%sql\n",
    "select * from ppl_vaccine\n",
    "limit 5"
   ]
  },
  {
   "cell_type": "code",
   "execution_count": 39,
   "id": "8c028aba-dcca-46ed-a60b-80ebb24b71b4",
   "metadata": {},
   "outputs": [
    {
     "name": "stdout",
     "output_type": "stream",
     "text": [
      " * postgresql://student@/yxz1\n",
      "Done.\n"
     ]
    },
    {
     "data": {
      "text/plain": [
       "[]"
      ]
     },
     "execution_count": 39,
     "metadata": {},
     "output_type": "execute_result"
    }
   ],
   "source": [
    "%%sql\n",
    "ALTER TABLE  test\n",
    "ADD COLUMN date_key INTEGER,\n",
    "ADD CONSTRAINT fk_date\n",
    "    FOREIGN KEY (date_key)\n",
    "    REFERENCES date (key);"
   ]
  },
  {
   "cell_type": "code",
   "execution_count": 40,
   "id": "8e229dd5-ee59-447e-a3e9-a149eeee9ba2",
   "metadata": {},
   "outputs": [
    {
     "name": "stdout",
     "output_type": "stream",
     "text": [
      " * postgresql://student@/yxz1\n",
      "35900 rows affected.\n"
     ]
    },
    {
     "data": {
      "text/plain": [
       "[]"
      ]
     },
     "execution_count": 40,
     "metadata": {},
     "output_type": "execute_result"
    }
   ],
   "source": [
    "%%sql\n",
    "UPDATE test\n",
    "SET date_key = date.key\n",
    "FROM date\n",
    "WHERE TO_CHAR(test.date, 'YYYY-MM-DD HH24:00:00')=date.full_time;"
   ]
  },
  {
   "cell_type": "code",
   "execution_count": 99,
   "id": "9f9a5c61-47ee-4faf-bb8a-fc0140ea28c0",
   "metadata": {},
   "outputs": [
    {
     "name": "stdout",
     "output_type": "stream",
     "text": [
      " * postgresql://student@/yxz1\n",
      "5 rows affected.\n"
     ]
    },
    {
     "data": {
      "text/html": [
       "<table>\n",
       "    <thead>\n",
       "        <tr>\n",
       "            <th>date</th>\n",
       "            <th>state</th>\n",
       "            <th>cases_conf_probable</th>\n",
       "            <th>cases_confirmed</th>\n",
       "            <th>cases_probable</th>\n",
       "            <th>tests_viral_positive</th>\n",
       "            <th>tests_viral_negative</th>\n",
       "            <th>tests_viral_total</th>\n",
       "            <th>tests_antigen_positive</th>\n",
       "            <th>tests_antigen_total</th>\n",
       "            <th>people_viral_positive</th>\n",
       "            <th>people_viral_total</th>\n",
       "            <th>people_antigen_positive</th>\n",
       "            <th>people_antigen_total</th>\n",
       "            <th>encounters_viral_total</th>\n",
       "            <th>tests_combined_total</th>\n",
       "            <th>loc_key</th>\n",
       "            <th>date_key</th>\n",
       "        </tr>\n",
       "    </thead>\n",
       "    <tbody>\n",
       "        <tr>\n",
       "            <td>2020-01-13 00:00:00</td>\n",
       "            <td>WA</td>\n",
       "            <td>None</td>\n",
       "            <td>None</td>\n",
       "            <td>None</td>\n",
       "            <td>None</td>\n",
       "            <td>None</td>\n",
       "            <td>None</td>\n",
       "            <td>None</td>\n",
       "            <td>None</td>\n",
       "            <td>None</td>\n",
       "            <td>None</td>\n",
       "            <td>None</td>\n",
       "            <td>None</td>\n",
       "            <td>None</td>\n",
       "            <td>None</td>\n",
       "            <td>84</td>\n",
       "            <td>26</td>\n",
       "        </tr>\n",
       "        <tr>\n",
       "            <td>2020-01-14 00:00:00</td>\n",
       "            <td>WA</td>\n",
       "            <td>0</td>\n",
       "            <td>None</td>\n",
       "            <td>None</td>\n",
       "            <td>None</td>\n",
       "            <td>None</td>\n",
       "            <td>None</td>\n",
       "            <td>None</td>\n",
       "            <td>None</td>\n",
       "            <td>0</td>\n",
       "            <td>None</td>\n",
       "            <td>None</td>\n",
       "            <td>None</td>\n",
       "            <td>None</td>\n",
       "            <td>None</td>\n",
       "            <td>84</td>\n",
       "            <td>133</td>\n",
       "        </tr>\n",
       "        <tr>\n",
       "            <td>2020-01-15 00:00:00</td>\n",
       "            <td>WA</td>\n",
       "            <td>0</td>\n",
       "            <td>None</td>\n",
       "            <td>None</td>\n",
       "            <td>None</td>\n",
       "            <td>None</td>\n",
       "            <td>None</td>\n",
       "            <td>None</td>\n",
       "            <td>None</td>\n",
       "            <td>0</td>\n",
       "            <td>None</td>\n",
       "            <td>None</td>\n",
       "            <td>None</td>\n",
       "            <td>None</td>\n",
       "            <td>None</td>\n",
       "            <td>84</td>\n",
       "            <td>1117</td>\n",
       "        </tr>\n",
       "        <tr>\n",
       "            <td>2020-01-16 00:00:00</td>\n",
       "            <td>WA</td>\n",
       "            <td>0</td>\n",
       "            <td>None</td>\n",
       "            <td>None</td>\n",
       "            <td>None</td>\n",
       "            <td>None</td>\n",
       "            <td>None</td>\n",
       "            <td>None</td>\n",
       "            <td>None</td>\n",
       "            <td>0</td>\n",
       "            <td>None</td>\n",
       "            <td>None</td>\n",
       "            <td>None</td>\n",
       "            <td>None</td>\n",
       "            <td>None</td>\n",
       "            <td>84</td>\n",
       "            <td>1311</td>\n",
       "        </tr>\n",
       "        <tr>\n",
       "            <td>2020-01-17 00:00:00</td>\n",
       "            <td>WA</td>\n",
       "            <td>0</td>\n",
       "            <td>None</td>\n",
       "            <td>None</td>\n",
       "            <td>None</td>\n",
       "            <td>None</td>\n",
       "            <td>None</td>\n",
       "            <td>None</td>\n",
       "            <td>None</td>\n",
       "            <td>0</td>\n",
       "            <td>None</td>\n",
       "            <td>None</td>\n",
       "            <td>None</td>\n",
       "            <td>None</td>\n",
       "            <td>None</td>\n",
       "            <td>84</td>\n",
       "            <td>589</td>\n",
       "        </tr>\n",
       "    </tbody>\n",
       "</table>"
      ],
      "text/plain": [
       "[(datetime.datetime(2020, 1, 13, 0, 0), 'WA', None, None, None, None, None, None, None, None, None, None, None, None, None, None, 84, 26),\n",
       " (datetime.datetime(2020, 1, 14, 0, 0), 'WA', 0, None, None, None, None, None, None, None, 0, None, None, None, None, None, 84, 133),\n",
       " (datetime.datetime(2020, 1, 15, 0, 0), 'WA', 0, None, None, None, None, None, None, None, 0, None, None, None, None, None, 84, 1117),\n",
       " (datetime.datetime(2020, 1, 16, 0, 0), 'WA', 0, None, None, None, None, None, None, None, 0, None, None, None, None, None, 84, 1311),\n",
       " (datetime.datetime(2020, 1, 17, 0, 0), 'WA', 0, None, None, None, None, None, None, None, 0, None, None, None, None, None, 84, 589)]"
      ]
     },
     "execution_count": 99,
     "metadata": {},
     "output_type": "execute_result"
    }
   ],
   "source": [
    "%%sql\n",
    "select * from test\n",
    "limit 5"
   ]
  },
  {
   "cell_type": "markdown",
   "id": "875868be-2184-477c-823c-9ec09dfe3bb2",
   "metadata": {},
   "source": [
    "### vaccine type"
   ]
  },
  {
   "cell_type": "code",
   "execution_count": 41,
   "id": "647a0c04-aa1b-444c-807f-283d153393d4",
   "metadata": {},
   "outputs": [
    {
     "name": "stdout",
     "output_type": "stream",
     "text": [
      " * postgresql://student@/yxz1\n",
      "Done.\n",
      "Done.\n"
     ]
    },
    {
     "data": {
      "text/plain": [
       "[]"
      ]
     },
     "execution_count": 41,
     "metadata": {},
     "output_type": "execute_result"
    }
   ],
   "source": [
    "%%sql\n",
    "DROP TABLE IF EXISTS vaccine_type;\n",
    "\n",
    "CREATE TABLE vaccine_type(\n",
    "    key SERIAL PRIMARY KEY,\n",
    "    type VARCHAR(30)\n",
    ");"
   ]
  },
  {
   "cell_type": "code",
   "execution_count": 42,
   "id": "dcf0e53a-0bdc-4a92-ad15-10aaee16e99b",
   "metadata": {},
   "outputs": [
    {
     "name": "stdout",
     "output_type": "stream",
     "text": [
      " * postgresql://student@/yxz1\n",
      "7 rows affected.\n"
     ]
    },
    {
     "data": {
      "text/plain": [
       "[]"
      ]
     },
     "execution_count": 42,
     "metadata": {},
     "output_type": "execute_result"
    }
   ],
   "source": [
    "%%sql\n",
    "INSERT INTO vaccine_type (type)\n",
    "select distinct Vaccine_type as type\n",
    "from vaccine"
   ]
  },
  {
   "cell_type": "code",
   "execution_count": 43,
   "id": "20ba71d9-059e-4c36-8053-5374be98b789",
   "metadata": {},
   "outputs": [
    {
     "name": "stdout",
     "output_type": "stream",
     "text": [
      " * postgresql://student@/yxz1\n",
      "5 rows affected.\n"
     ]
    },
    {
     "data": {
      "text/html": [
       "<table>\n",
       "    <thead>\n",
       "        <tr>\n",
       "            <th>key</th>\n",
       "            <th>type</th>\n",
       "        </tr>\n",
       "    </thead>\n",
       "    <tbody>\n",
       "        <tr>\n",
       "            <td>1</td>\n",
       "            <td>Unknown</td>\n",
       "        </tr>\n",
       "        <tr>\n",
       "            <td>2</td>\n",
       "            <td>Janssen</td>\n",
       "        </tr>\n",
       "        <tr>\n",
       "            <td>3</td>\n",
       "            <td>Pfizer</td>\n",
       "        </tr>\n",
       "        <tr>\n",
       "            <td>4</td>\n",
       "            <td>Unassigned</td>\n",
       "        </tr>\n",
       "        <tr>\n",
       "            <td>5</td>\n",
       "            <td>Moderna</td>\n",
       "        </tr>\n",
       "    </tbody>\n",
       "</table>"
      ],
      "text/plain": [
       "[(1, 'Unknown'),\n",
       " (2, 'Janssen'),\n",
       " (3, 'Pfizer'),\n",
       " (4, 'Unassigned'),\n",
       " (5, 'Moderna')]"
      ]
     },
     "execution_count": 43,
     "metadata": {},
     "output_type": "execute_result"
    }
   ],
   "source": [
    "%%sql\n",
    "select * from vaccine_type\n",
    "limit 5"
   ]
  },
  {
   "cell_type": "code",
   "execution_count": 44,
   "id": "405ea958-f855-4127-972e-6e101ae9a4fa",
   "metadata": {},
   "outputs": [
    {
     "name": "stdout",
     "output_type": "stream",
     "text": [
      " * postgresql://student@/yxz1\n",
      "Done.\n"
     ]
    },
    {
     "data": {
      "text/plain": [
       "[]"
      ]
     },
     "execution_count": 44,
     "metadata": {},
     "output_type": "execute_result"
    }
   ],
   "source": [
    "%%sql\n",
    "ALTER TABLE vaccine\n",
    "ADD COLUMN type_key INTEGER,\n",
    "ADD CONSTRAINT fk_vaccine_type\n",
    "    FOREIGN KEY (type_key)\n",
    "    REFERENCES vaccine_type (key);"
   ]
  },
  {
   "cell_type": "code",
   "execution_count": 45,
   "id": "be1c20e6-4166-4381-b150-d838f0885633",
   "metadata": {},
   "outputs": [
    {
     "name": "stdout",
     "output_type": "stream",
     "text": [
      " * postgresql://student@/yxz1\n",
      "118444 rows affected.\n"
     ]
    },
    {
     "data": {
      "text/plain": [
       "[]"
      ]
     },
     "execution_count": 45,
     "metadata": {},
     "output_type": "execute_result"
    }
   ],
   "source": [
    "%%sql\n",
    "UPDATE vaccine\n",
    "SET type_key = vaccine_type.key\n",
    "FROM vaccine_type\n",
    "WHERE vaccine.vaccine_type=vaccine_type.type"
   ]
  },
  {
   "cell_type": "code",
   "execution_count": 105,
   "id": "7c709a63-0a4c-4c81-a0b7-6daec81231b0",
   "metadata": {},
   "outputs": [
    {
     "name": "stdout",
     "output_type": "stream",
     "text": [
      " * postgresql://student@/yxz1\n",
      "5 rows affected.\n"
     ]
    },
    {
     "data": {
      "text/html": [
       "<table>\n",
       "    <thead>\n",
       "        <tr>\n",
       "            <th>province_state</th>\n",
       "            <th>date</th>\n",
       "            <th>vaccine_type</th>\n",
       "            <th>fips</th>\n",
       "            <th>country_region</th>\n",
       "            <th>lat</th>\n",
       "            <th>long_</th>\n",
       "            <th>doses_alloc</th>\n",
       "            <th>doses_shipped</th>\n",
       "            <th>doses_admin</th>\n",
       "            <th>stage_one_doses</th>\n",
       "            <th>stage_two_doses</th>\n",
       "            <th>combined_key</th>\n",
       "            <th>loc_key</th>\n",
       "            <th>date_key</th>\n",
       "            <th>type_key</th>\n",
       "        </tr>\n",
       "    </thead>\n",
       "    <tbody>\n",
       "        <tr>\n",
       "            <td>Guam</td>\n",
       "            <td>2020-12-11 00:00:00</td>\n",
       "            <td>All</td>\n",
       "            <td>66</td>\n",
       "            <td>US</td>\n",
       "            <td>13.4443</td>\n",
       "            <td>144.7937</td>\n",
       "            <td>None</td>\n",
       "            <td>None</td>\n",
       "            <td>None</td>\n",
       "            <td>None</td>\n",
       "            <td>None</td>\n",
       "            <td>Guam, US</td>\n",
       "            <td>17</td>\n",
       "            <td>1259</td>\n",
       "            <td>7</td>\n",
       "        </tr>\n",
       "        <tr>\n",
       "            <td>Georgia</td>\n",
       "            <td>2020-12-12 00:00:00</td>\n",
       "            <td>All</td>\n",
       "            <td>13</td>\n",
       "            <td>US</td>\n",
       "            <td>33.0406</td>\n",
       "            <td>-83.6431</td>\n",
       "            <td>None</td>\n",
       "            <td>None</td>\n",
       "            <td>None</td>\n",
       "            <td>None</td>\n",
       "            <td>None</td>\n",
       "            <td>Georgia, US</td>\n",
       "            <td>20</td>\n",
       "            <td>543</td>\n",
       "            <td>7</td>\n",
       "        </tr>\n",
       "        <tr>\n",
       "            <td>Maryland</td>\n",
       "            <td>2020-12-16 00:00:00</td>\n",
       "            <td>Pfizer</td>\n",
       "            <td>24</td>\n",
       "            <td>US</td>\n",
       "            <td>39.0639</td>\n",
       "            <td>-76.8021</td>\n",
       "            <td>None</td>\n",
       "            <td>None</td>\n",
       "            <td>None</td>\n",
       "            <td>None</td>\n",
       "            <td>None</td>\n",
       "            <td>Maryland, US</td>\n",
       "            <td>98</td>\n",
       "            <td>416</td>\n",
       "            <td>3</td>\n",
       "        </tr>\n",
       "        <tr>\n",
       "            <td>Maine</td>\n",
       "            <td>2020-12-17 00:00:00</td>\n",
       "            <td>All</td>\n",
       "            <td>23</td>\n",
       "            <td>US</td>\n",
       "            <td>44.6939</td>\n",
       "            <td>-69.3819</td>\n",
       "            <td>110775</td>\n",
       "            <td>None</td>\n",
       "            <td>None</td>\n",
       "            <td>None</td>\n",
       "            <td>None</td>\n",
       "            <td>Maine, US</td>\n",
       "            <td>22</td>\n",
       "            <td>1292</td>\n",
       "            <td>7</td>\n",
       "        </tr>\n",
       "        <tr>\n",
       "            <td>Michigan</td>\n",
       "            <td>2020-12-17 00:00:00</td>\n",
       "            <td>Moderna</td>\n",
       "            <td>26</td>\n",
       "            <td>US</td>\n",
       "            <td>43.3266</td>\n",
       "            <td>-84.5361</td>\n",
       "            <td>173600</td>\n",
       "            <td>None</td>\n",
       "            <td>None</td>\n",
       "            <td>None</td>\n",
       "            <td>None</td>\n",
       "            <td>Michigan, US</td>\n",
       "            <td>83</td>\n",
       "            <td>1292</td>\n",
       "            <td>5</td>\n",
       "        </tr>\n",
       "    </tbody>\n",
       "</table>"
      ],
      "text/plain": [
       "[('Guam', datetime.datetime(2020, 12, 11, 0, 0), 'All', Decimal('66'), 'US', Decimal('13.4443'), Decimal('144.7937'), None, None, None, None, None, 'Guam, US', 17, 1259, 7),\n",
       " ('Georgia', datetime.datetime(2020, 12, 12, 0, 0), 'All', Decimal('13'), 'US', Decimal('33.0406'), Decimal('-83.6431'), None, None, None, None, None, 'Georgia, US', 20, 543, 7),\n",
       " ('Maryland', datetime.datetime(2020, 12, 16, 0, 0), 'Pfizer', Decimal('24'), 'US', Decimal('39.0639'), Decimal('-76.8021'), None, None, None, None, None, 'Maryland, US', 98, 416, 3),\n",
       " ('Maine', datetime.datetime(2020, 12, 17, 0, 0), 'All', Decimal('23'), 'US', Decimal('44.6939'), Decimal('-69.3819'), Decimal('110775'), None, None, None, None, 'Maine, US', 22, 1292, 7),\n",
       " ('Michigan', datetime.datetime(2020, 12, 17, 0, 0), 'Moderna', Decimal('26'), 'US', Decimal('43.3266'), Decimal('-84.5361'), Decimal('173600'), None, None, None, None, 'Michigan, US', 83, 1292, 5)]"
      ]
     },
     "execution_count": 105,
     "metadata": {},
     "output_type": "execute_result"
    }
   ],
   "source": [
    "%%sql\n",
    "select * from vaccine\n",
    "limit 5"
   ]
  },
  {
   "cell_type": "markdown",
   "id": "80f8fa1c-f8d5-44e1-a908-6b394a97d5f7",
   "metadata": {},
   "source": [
    "### facts table\n"
   ]
  },
  {
   "cell_type": "code",
   "execution_count": 46,
   "id": "c6198c5a-b9ee-4ac3-9673-76ab14809cd6",
   "metadata": {},
   "outputs": [
    {
     "name": "stdout",
     "output_type": "stream",
     "text": [
      " * postgresql://student@/yxz1\n",
      "Done.\n",
      "5753216 rows affected.\n"
     ]
    },
    {
     "data": {
      "text/plain": [
       "[]"
      ]
     },
     "execution_count": 46,
     "metadata": {},
     "output_type": "execute_result"
    }
   ],
   "source": [
    "%%sql\n",
    "DROP TABLE IF EXISTS facts;\n",
    "\n",
    "create table facts as (select c.*,v.Date, v.Vaccine_Type, v.Doses_alloc, \n",
    "                         v.Doses_shipped, v.Doses_admin, v.Stage_One_Doses,v.type_key,v.Stage_Two_Doses, v.Combined_Key, p.people_fully_vaccinated\n",
    ",p.people_partially_vaccinated,t.state\n",
    ",t.cases_conf_probable,t.cases_confirmed,t.cases_probable,t.tests_viral_positive\n",
    ",t.tests_viral_negative,t.tests_viral_total,t.tests_antigen_positive,\n",
    "t.tests_antigen_total,t.people_viral_positive,t.people_viral_total,t.people_antigen_positive,\n",
    "t.people_antigen_total,t.encounters_viral_total,t.tests_combined_total\n",
    "from casesdeath c,vaccine v,ppl_vaccine p,test t\n",
    "where to_char(c.last_update,'YYYY-MM-DD')=to_char(v.Date,'YYYY-MM-DD')\n",
    "and c.province_state=v.province_state and to_char(c.last_update,'YYYY-MM-DD')=to_char(t.date,'YYYY-MM-DD')\n",
    "and p.fips=v.fips and to_char(p.date,'YYYY-MM-DD')=to_char(v.Date,'YYYY-MM-DD'))"
   ]
  },
  {
   "cell_type": "code",
   "execution_count": 47,
   "id": "39abd185-8fd3-45a7-8b7e-f997ed2fb8c0",
   "metadata": {},
   "outputs": [
    {
     "name": "stdout",
     "output_type": "stream",
     "text": [
      " * postgresql://student@/yxz1\n",
      "Done.\n"
     ]
    },
    {
     "data": {
      "text/plain": [
       "[]"
      ]
     },
     "execution_count": 47,
     "metadata": {},
     "output_type": "execute_result"
    }
   ],
   "source": [
    "%%sql\n",
    "ALTER table facts\n",
    "drop column province_state, \n",
    "drop column country_region, \n",
    "drop column last_update, \n",
    "drop column lat, \n",
    "drop column long_, \n",
    "drop column FIPS, \n",
    "drop column uid, \n",
    "drop column iso3,\n",
    "drop column date, \n",
    "drop column state,\n",
    "drop column vaccine_type"
   ]
  },
  {
   "cell_type": "code",
   "execution_count": 48,
   "id": "2d9feea8-dbe6-402c-8bd4-5e8bf26fa351",
   "metadata": {},
   "outputs": [
    {
     "name": "stdout",
     "output_type": "stream",
     "text": [
      " * postgresql://student@/yxz1\n",
      "5 rows affected.\n"
     ]
    },
    {
     "data": {
      "text/html": [
       "<table>\n",
       "    <thead>\n",
       "        <tr>\n",
       "            <th>confirmed</th>\n",
       "            <th>deaths</th>\n",
       "            <th>recovered</th>\n",
       "            <th>active</th>\n",
       "            <th>incident_rate</th>\n",
       "            <th>total_test_results</th>\n",
       "            <th>people_hospitalized</th>\n",
       "            <th>case_fatality_ratio</th>\n",
       "            <th>testing_rate</th>\n",
       "            <th>hospitalization_rate</th>\n",
       "            <th>loc_key</th>\n",
       "            <th>date_key</th>\n",
       "            <th>doses_alloc</th>\n",
       "            <th>doses_shipped</th>\n",
       "            <th>doses_admin</th>\n",
       "            <th>stage_one_doses</th>\n",
       "            <th>type_key</th>\n",
       "            <th>stage_two_doses</th>\n",
       "            <th>combined_key</th>\n",
       "            <th>people_fully_vaccinated</th>\n",
       "            <th>people_partially_vaccinated</th>\n",
       "            <th>cases_conf_probable</th>\n",
       "            <th>cases_confirmed</th>\n",
       "            <th>cases_probable</th>\n",
       "            <th>tests_viral_positive</th>\n",
       "            <th>tests_viral_negative</th>\n",
       "            <th>tests_viral_total</th>\n",
       "            <th>tests_antigen_positive</th>\n",
       "            <th>tests_antigen_total</th>\n",
       "            <th>people_viral_positive</th>\n",
       "            <th>people_viral_total</th>\n",
       "            <th>people_antigen_positive</th>\n",
       "            <th>people_antigen_total</th>\n",
       "            <th>encounters_viral_total</th>\n",
       "            <th>tests_combined_total</th>\n",
       "        </tr>\n",
       "    </thead>\n",
       "    <tbody>\n",
       "        <tr>\n",
       "            <td>280187</td>\n",
       "            <td>3985</td>\n",
       "            <td>174805.0</td>\n",
       "            <td>101397.0</td>\n",
       "            <td>5714.387688818594</td>\n",
       "            <td>2860384.0</td>\n",
       "            <td>None</td>\n",
       "            <td>1.4222644162648517</td>\n",
       "            <td>58337.264451575866</td>\n",
       "            <td>None</td>\n",
       "            <td>67</td>\n",
       "            <td>1253</td>\n",
       "            <td>None</td>\n",
       "            <td>None</td>\n",
       "            <td>None</td>\n",
       "            <td>None</td>\n",
       "            <td>7</td>\n",
       "            <td>None</td>\n",
       "            <td>Alabama, US</td>\n",
       "            <td>None</td>\n",
       "            <td>None</td>\n",
       "            <td>428973</td>\n",
       "            <td>None</td>\n",
       "            <td>None</td>\n",
       "            <td>457528</td>\n",
       "            <td>4346546</td>\n",
       "            <td>4804074</td>\n",
       "            <td>39718</td>\n",
       "            <td>392041</td>\n",
       "            <td>391133</td>\n",
       "            <td>None</td>\n",
       "            <td>None</td>\n",
       "            <td>None</td>\n",
       "            <td>None</td>\n",
       "            <td>4804074</td>\n",
       "        </tr>\n",
       "        <tr>\n",
       "            <td>280187</td>\n",
       "            <td>3985</td>\n",
       "            <td>174805.0</td>\n",
       "            <td>101397.0</td>\n",
       "            <td>5714.387688818594</td>\n",
       "            <td>2860384.0</td>\n",
       "            <td>None</td>\n",
       "            <td>1.4222644162648517</td>\n",
       "            <td>58337.264451575866</td>\n",
       "            <td>None</td>\n",
       "            <td>67</td>\n",
       "            <td>1253</td>\n",
       "            <td>None</td>\n",
       "            <td>None</td>\n",
       "            <td>None</td>\n",
       "            <td>None</td>\n",
       "            <td>3</td>\n",
       "            <td>None</td>\n",
       "            <td>Alabama, US</td>\n",
       "            <td>None</td>\n",
       "            <td>None</td>\n",
       "            <td>428973</td>\n",
       "            <td>None</td>\n",
       "            <td>None</td>\n",
       "            <td>457528</td>\n",
       "            <td>4346546</td>\n",
       "            <td>4804074</td>\n",
       "            <td>39718</td>\n",
       "            <td>392041</td>\n",
       "            <td>391133</td>\n",
       "            <td>None</td>\n",
       "            <td>None</td>\n",
       "            <td>None</td>\n",
       "            <td>None</td>\n",
       "            <td>4804074</td>\n",
       "        </tr>\n",
       "        <tr>\n",
       "            <td>280187</td>\n",
       "            <td>3985</td>\n",
       "            <td>174805.0</td>\n",
       "            <td>101397.0</td>\n",
       "            <td>5714.387688818594</td>\n",
       "            <td>2860384.0</td>\n",
       "            <td>None</td>\n",
       "            <td>1.4222644162648517</td>\n",
       "            <td>58337.264451575866</td>\n",
       "            <td>None</td>\n",
       "            <td>67</td>\n",
       "            <td>1253</td>\n",
       "            <td>None</td>\n",
       "            <td>None</td>\n",
       "            <td>None</td>\n",
       "            <td>None</td>\n",
       "            <td>5</td>\n",
       "            <td>None</td>\n",
       "            <td>Alabama, US</td>\n",
       "            <td>None</td>\n",
       "            <td>None</td>\n",
       "            <td>428973</td>\n",
       "            <td>None</td>\n",
       "            <td>None</td>\n",
       "            <td>457528</td>\n",
       "            <td>4346546</td>\n",
       "            <td>4804074</td>\n",
       "            <td>39718</td>\n",
       "            <td>392041</td>\n",
       "            <td>391133</td>\n",
       "            <td>None</td>\n",
       "            <td>None</td>\n",
       "            <td>None</td>\n",
       "            <td>None</td>\n",
       "            <td>4804074</td>\n",
       "        </tr>\n",
       "        <tr>\n",
       "            <td>38736</td>\n",
       "            <td>150</td>\n",
       "            <td>7165.0</td>\n",
       "            <td>31392.0</td>\n",
       "            <td>5291.130415763897</td>\n",
       "            <td>1099555.0</td>\n",
       "            <td>None</td>\n",
       "            <td>0.3875268039372724</td>\n",
       "            <td>150305.85951650277</td>\n",
       "            <td>None</td>\n",
       "            <td>74</td>\n",
       "            <td>1253</td>\n",
       "            <td>None</td>\n",
       "            <td>None</td>\n",
       "            <td>None</td>\n",
       "            <td>None</td>\n",
       "            <td>3</td>\n",
       "            <td>None</td>\n",
       "            <td>Alaska, US</td>\n",
       "            <td>None</td>\n",
       "            <td>None</td>\n",
       "            <td>428973</td>\n",
       "            <td>None</td>\n",
       "            <td>None</td>\n",
       "            <td>457528</td>\n",
       "            <td>4346546</td>\n",
       "            <td>4804074</td>\n",
       "            <td>39718</td>\n",
       "            <td>392041</td>\n",
       "            <td>391133</td>\n",
       "            <td>None</td>\n",
       "            <td>None</td>\n",
       "            <td>None</td>\n",
       "            <td>None</td>\n",
       "            <td>4804074</td>\n",
       "        </tr>\n",
       "        <tr>\n",
       "            <td>38736</td>\n",
       "            <td>150</td>\n",
       "            <td>7165.0</td>\n",
       "            <td>31392.0</td>\n",
       "            <td>5291.130415763897</td>\n",
       "            <td>1099555.0</td>\n",
       "            <td>None</td>\n",
       "            <td>0.3875268039372724</td>\n",
       "            <td>150305.85951650277</td>\n",
       "            <td>None</td>\n",
       "            <td>74</td>\n",
       "            <td>1253</td>\n",
       "            <td>None</td>\n",
       "            <td>None</td>\n",
       "            <td>None</td>\n",
       "            <td>None</td>\n",
       "            <td>7</td>\n",
       "            <td>None</td>\n",
       "            <td>Alaska, US</td>\n",
       "            <td>None</td>\n",
       "            <td>None</td>\n",
       "            <td>428973</td>\n",
       "            <td>None</td>\n",
       "            <td>None</td>\n",
       "            <td>457528</td>\n",
       "            <td>4346546</td>\n",
       "            <td>4804074</td>\n",
       "            <td>39718</td>\n",
       "            <td>392041</td>\n",
       "            <td>391133</td>\n",
       "            <td>None</td>\n",
       "            <td>None</td>\n",
       "            <td>None</td>\n",
       "            <td>None</td>\n",
       "            <td>4804074</td>\n",
       "        </tr>\n",
       "    </tbody>\n",
       "</table>"
      ],
      "text/plain": [
       "[(280187, 3985, Decimal('174805.0'), Decimal('101397.0'), Decimal('5714.387688818594'), Decimal('2860384.0'), None, Decimal('1.4222644162648517'), Decimal('58337.264451575866'), None, 67, 1253, None, None, None, None, 7, None, 'Alabama, US', None, None, 428973, None, None, 457528, 4346546, 4804074, 39718, 392041, 391133, None, None, None, None, 4804074),\n",
       " (280187, 3985, Decimal('174805.0'), Decimal('101397.0'), Decimal('5714.387688818594'), Decimal('2860384.0'), None, Decimal('1.4222644162648517'), Decimal('58337.264451575866'), None, 67, 1253, None, None, None, None, 3, None, 'Alabama, US', None, None, 428973, None, None, 457528, 4346546, 4804074, 39718, 392041, 391133, None, None, None, None, 4804074),\n",
       " (280187, 3985, Decimal('174805.0'), Decimal('101397.0'), Decimal('5714.387688818594'), Decimal('2860384.0'), None, Decimal('1.4222644162648517'), Decimal('58337.264451575866'), None, 67, 1253, None, None, None, None, 5, None, 'Alabama, US', None, None, 428973, None, None, 457528, 4346546, 4804074, 39718, 392041, 391133, None, None, None, None, 4804074),\n",
       " (38736, 150, Decimal('7165.0'), Decimal('31392.0'), Decimal('5291.130415763897'), Decimal('1099555.0'), None, Decimal('0.3875268039372724'), Decimal('150305.85951650277'), None, 74, 1253, None, None, None, None, 3, None, 'Alaska, US', None, None, 428973, None, None, 457528, 4346546, 4804074, 39718, 392041, 391133, None, None, None, None, 4804074),\n",
       " (38736, 150, Decimal('7165.0'), Decimal('31392.0'), Decimal('5291.130415763897'), Decimal('1099555.0'), None, Decimal('0.3875268039372724'), Decimal('150305.85951650277'), None, 74, 1253, None, None, None, None, 7, None, 'Alaska, US', None, None, 428973, None, None, 457528, 4346546, 4804074, 39718, 392041, 391133, None, None, None, None, 4804074)]"
      ]
     },
     "execution_count": 48,
     "metadata": {},
     "output_type": "execute_result"
    }
   ],
   "source": [
    "%%sql\n",
    "select * from facts\n",
    "limit 5"
   ]
  },
  {
   "cell_type": "markdown",
   "id": "6a683705-8c41-4b60-8322-94756278e07e",
   "metadata": {},
   "source": [
    "## data wrangling of dimension table and facts table."
   ]
  },
  {
   "cell_type": "code",
   "execution_count": 49,
   "id": "29b911b8-3224-4ab1-b6fc-ab49b1c2ca6f",
   "metadata": {},
   "outputs": [
    {
     "name": "stdout",
     "output_type": "stream",
     "text": [
      " * postgresql://student@/yxz1\n",
      "5 rows affected.\n"
     ]
    },
    {
     "data": {
      "text/html": [
       "<table>\n",
       "    <thead>\n",
       "        <tr>\n",
       "            <th>key</th>\n",
       "            <th>full_time</th>\n",
       "            <th>full_date</th>\n",
       "            <th>year</th>\n",
       "            <th>month</th>\n",
       "            <th>day</th>\n",
       "        </tr>\n",
       "    </thead>\n",
       "    <tbody>\n",
       "        <tr>\n",
       "            <td>1</td>\n",
       "            <td>2021-07-24 04:00:00</td>\n",
       "            <td>2021-07-24</td>\n",
       "            <td>2021</td>\n",
       "            <td>7</td>\n",
       "            <td>24</td>\n",
       "        </tr>\n",
       "        <tr>\n",
       "            <td>2</td>\n",
       "            <td>None</td>\n",
       "            <td>None</td>\n",
       "            <td>None</td>\n",
       "            <td>None</td>\n",
       "            <td>None</td>\n",
       "        </tr>\n",
       "        <tr>\n",
       "            <td>3</td>\n",
       "            <td>2020-09-10 04:00:00</td>\n",
       "            <td>2020-09-10</td>\n",
       "            <td>2020</td>\n",
       "            <td>9</td>\n",
       "            <td>10</td>\n",
       "        </tr>\n",
       "        <tr>\n",
       "            <td>4</td>\n",
       "            <td>2021-04-21 07:00:00</td>\n",
       "            <td>2021-04-21</td>\n",
       "            <td>2021</td>\n",
       "            <td>4</td>\n",
       "            <td>21</td>\n",
       "        </tr>\n",
       "        <tr>\n",
       "            <td>5</td>\n",
       "            <td>2021-01-31 00:00:00</td>\n",
       "            <td>2021-01-31</td>\n",
       "            <td>2021</td>\n",
       "            <td>1</td>\n",
       "            <td>31</td>\n",
       "        </tr>\n",
       "    </tbody>\n",
       "</table>"
      ],
      "text/plain": [
       "[(1, '2021-07-24 04:00:00', '2021-07-24', 2021, 7, 24),\n",
       " (2, None, None, None, None, None),\n",
       " (3, '2020-09-10 04:00:00', '2020-09-10', 2020, 9, 10),\n",
       " (4, '2021-04-21 07:00:00', '2021-04-21', 2021, 4, 21),\n",
       " (5, '2021-01-31 00:00:00', '2021-01-31', 2021, 1, 31)]"
      ]
     },
     "execution_count": 49,
     "metadata": {},
     "output_type": "execute_result"
    }
   ],
   "source": [
    "%%sql\n",
    "select * from date\n",
    "limit 5"
   ]
  },
  {
   "cell_type": "code",
   "execution_count": 50,
   "id": "cda188ca-720e-4d53-b278-5bb922d815de",
   "metadata": {},
   "outputs": [
    {
     "name": "stdout",
     "output_type": "stream",
     "text": [
      " * postgresql://student@/yxz1\n",
      "1 rows affected.\n"
     ]
    },
    {
     "data": {
      "text/plain": [
       "[]"
      ]
     },
     "execution_count": 50,
     "metadata": {},
     "output_type": "execute_result"
    }
   ],
   "source": [
    "%%sql\n",
    "DELETE FROM date WHERE full_time IS NULL"
   ]
  },
  {
   "cell_type": "code",
   "execution_count": 22,
   "id": "32cc7b24-419b-4876-9366-f9a3c3d5b671",
   "metadata": {},
   "outputs": [
    {
     "name": "stdout",
     "output_type": "stream",
     "text": [
      " * postgresql://student@/yxz1\n",
      "5 rows affected.\n"
     ]
    },
    {
     "data": {
      "text/html": [
       "<table>\n",
       "    <thead>\n",
       "        <tr>\n",
       "            <th>key</th>\n",
       "            <th>state</th>\n",
       "        </tr>\n",
       "    </thead>\n",
       "    <tbody>\n",
       "        <tr>\n",
       "            <td>1</td>\n",
       "            <td>Nevada</td>\n",
       "        </tr>\n",
       "        <tr>\n",
       "            <td>2</td>\n",
       "            <td>Arkansas</td>\n",
       "        </tr>\n",
       "        <tr>\n",
       "            <td>3</td>\n",
       "            <td>New Mexico</td>\n",
       "        </tr>\n",
       "        <tr>\n",
       "            <td>4</td>\n",
       "            <td>NY</td>\n",
       "        </tr>\n",
       "        <tr>\n",
       "            <td>5</td>\n",
       "            <td>South Dakota</td>\n",
       "        </tr>\n",
       "    </tbody>\n",
       "</table>"
      ],
      "text/plain": [
       "[(1, 'Nevada'),\n",
       " (2, 'Arkansas'),\n",
       " (3, 'New Mexico'),\n",
       " (4, 'NY'),\n",
       " (5, 'South Dakota')]"
      ]
     },
     "execution_count": 22,
     "metadata": {},
     "output_type": "execute_result"
    }
   ],
   "source": [
    "%%sql\n",
    "select * from location\n",
    "limit 5"
   ]
  },
  {
   "cell_type": "code",
   "execution_count": 26,
   "id": "6b2647e3-74a7-4df8-b00f-35621db00916",
   "metadata": {},
   "outputs": [
    {
     "name": "stdout",
     "output_type": "stream",
     "text": [
      " * postgresql://student@/yxz1\n",
      "0 rows affected.\n"
     ]
    },
    {
     "data": {
      "text/plain": [
       "[]"
      ]
     },
     "execution_count": 26,
     "metadata": {},
     "output_type": "execute_result"
    }
   ],
   "source": [
    "%%sql\n",
    "DELETE FROM location WHERE state IS NULL"
   ]
  },
  {
   "cell_type": "code",
   "execution_count": 24,
   "id": "5c6310cb-14c9-4ce2-b849-202f79978381",
   "metadata": {},
   "outputs": [
    {
     "name": "stdout",
     "output_type": "stream",
     "text": [
      " * postgresql://student@/yxz1\n",
      "5 rows affected.\n"
     ]
    },
    {
     "data": {
      "text/html": [
       "<table>\n",
       "    <thead>\n",
       "        <tr>\n",
       "            <th>key</th>\n",
       "            <th>type</th>\n",
       "        </tr>\n",
       "    </thead>\n",
       "    <tbody>\n",
       "        <tr>\n",
       "            <td>1</td>\n",
       "            <td>Unknown</td>\n",
       "        </tr>\n",
       "        <tr>\n",
       "            <td>2</td>\n",
       "            <td>Janssen</td>\n",
       "        </tr>\n",
       "        <tr>\n",
       "            <td>3</td>\n",
       "            <td>Pfizer</td>\n",
       "        </tr>\n",
       "        <tr>\n",
       "            <td>4</td>\n",
       "            <td>Unassigned</td>\n",
       "        </tr>\n",
       "        <tr>\n",
       "            <td>5</td>\n",
       "            <td>Moderna</td>\n",
       "        </tr>\n",
       "    </tbody>\n",
       "</table>"
      ],
      "text/plain": [
       "[(1, 'Unknown'),\n",
       " (2, 'Janssen'),\n",
       " (3, 'Pfizer'),\n",
       " (4, 'Unassigned'),\n",
       " (5, 'Moderna')]"
      ]
     },
     "execution_count": 24,
     "metadata": {},
     "output_type": "execute_result"
    }
   ],
   "source": [
    "%%sql\n",
    "select * from vaccine_type\n",
    "limit 5"
   ]
  },
  {
   "cell_type": "code",
   "execution_count": null,
   "id": "7fa848b3-618e-4310-861e-94f76189d25a",
   "metadata": {},
   "outputs": [],
   "source": []
  },
  {
   "cell_type": "code",
   "execution_count": null,
   "id": "d0c0b89f-0b60-49c9-96e6-c6fa6a523ad1",
   "metadata": {},
   "outputs": [],
   "source": []
  },
  {
   "cell_type": "markdown",
   "id": "63c3090f-fcf7-45c0-b1ce-713755d5a834",
   "metadata": {
    "jp-MarkdownHeadingCollapsed": true,
    "tags": []
   },
   "source": [
    "# Ask 4 & 6 Analytical Analysis"
   ]
  },
  {
   "cell_type": "markdown",
   "id": "77e55002-0dbf-4af0-9198-77e667c42cb2",
   "metadata": {},
   "source": [
    "## Question 1\n",
    "## how does government regulation effect the spread of covid 19?"
   ]
  },
  {
   "cell_type": "code",
   "execution_count": 90,
   "id": "7855eb23-85bc-43ea-a83f-92aac8e479bc",
   "metadata": {
    "collapsed": true,
    "jupyter": {
     "outputs_hidden": true
    },
    "tags": []
   },
   "outputs": [
    {
     "name": "stdout",
     "output_type": "stream",
     "text": [
      " * postgresql://student@/yxz1\n",
      "59 rows affected.\n"
     ]
    },
    {
     "data": {
      "text/html": [
       "<table>\n",
       "    <thead>\n",
       "        <tr>\n",
       "            <th>province_state</th>\n",
       "        </tr>\n",
       "    </thead>\n",
       "    <tbody>\n",
       "        <tr>\n",
       "            <td>Virgin Islands</td>\n",
       "        </tr>\n",
       "        <tr>\n",
       "            <td>Vermont</td>\n",
       "        </tr>\n",
       "        <tr>\n",
       "            <td>Nevada</td>\n",
       "        </tr>\n",
       "        <tr>\n",
       "            <td>New York</td>\n",
       "        </tr>\n",
       "        <tr>\n",
       "            <td>West Virginia</td>\n",
       "        </tr>\n",
       "        <tr>\n",
       "            <td>South Carolina</td>\n",
       "        </tr>\n",
       "        <tr>\n",
       "            <td>Hawaii</td>\n",
       "        </tr>\n",
       "        <tr>\n",
       "            <td>New Mexico</td>\n",
       "        </tr>\n",
       "        <tr>\n",
       "            <td>Arkansas</td>\n",
       "        </tr>\n",
       "        <tr>\n",
       "            <td>Missouri</td>\n",
       "        </tr>\n",
       "        <tr>\n",
       "            <td>South Dakota</td>\n",
       "        </tr>\n",
       "        <tr>\n",
       "            <td>District of Columbia</td>\n",
       "        </tr>\n",
       "        <tr>\n",
       "            <td>Ohio</td>\n",
       "        </tr>\n",
       "        <tr>\n",
       "            <td>American Samoa</td>\n",
       "        </tr>\n",
       "        <tr>\n",
       "            <td>Minnesota</td>\n",
       "        </tr>\n",
       "        <tr>\n",
       "            <td>Washington</td>\n",
       "        </tr>\n",
       "        <tr>\n",
       "            <td>Kentucky</td>\n",
       "        </tr>\n",
       "        <tr>\n",
       "            <td>Arizona</td>\n",
       "        </tr>\n",
       "        <tr>\n",
       "            <td>Maryland</td>\n",
       "        </tr>\n",
       "        <tr>\n",
       "            <td>Puerto Rico</td>\n",
       "        </tr>\n",
       "        <tr>\n",
       "            <td>Wyoming</td>\n",
       "        </tr>\n",
       "        <tr>\n",
       "            <td>New Hampshire</td>\n",
       "        </tr>\n",
       "        <tr>\n",
       "            <td>North Dakota</td>\n",
       "        </tr>\n",
       "        <tr>\n",
       "            <td>Nebraska</td>\n",
       "        </tr>\n",
       "        <tr>\n",
       "            <td>Tennessee</td>\n",
       "        </tr>\n",
       "        <tr>\n",
       "            <td>Oregon</td>\n",
       "        </tr>\n",
       "        <tr>\n",
       "            <td>Idaho</td>\n",
       "        </tr>\n",
       "        <tr>\n",
       "            <td>Alabama</td>\n",
       "        </tr>\n",
       "        <tr>\n",
       "            <td>North Carolina</td>\n",
       "        </tr>\n",
       "        <tr>\n",
       "            <td>Colorado</td>\n",
       "        </tr>\n",
       "        <tr>\n",
       "            <td>Mississippi</td>\n",
       "        </tr>\n",
       "        <tr>\n",
       "            <td>Florida</td>\n",
       "        </tr>\n",
       "        <tr>\n",
       "            <td>Delaware</td>\n",
       "        </tr>\n",
       "        <tr>\n",
       "            <td>Northern Mariana Islands</td>\n",
       "        </tr>\n",
       "        <tr>\n",
       "            <td>Louisiana</td>\n",
       "        </tr>\n",
       "        <tr>\n",
       "            <td>Grand Princess</td>\n",
       "        </tr>\n",
       "        <tr>\n",
       "            <td>Guam</td>\n",
       "        </tr>\n",
       "        <tr>\n",
       "            <td>New Jersey</td>\n",
       "        </tr>\n",
       "        <tr>\n",
       "            <td>Recovered</td>\n",
       "        </tr>\n",
       "        <tr>\n",
       "            <td>Connecticut</td>\n",
       "        </tr>\n",
       "        <tr>\n",
       "            <td>Indiana</td>\n",
       "        </tr>\n",
       "        <tr>\n",
       "            <td>Iowa</td>\n",
       "        </tr>\n",
       "        <tr>\n",
       "            <td>Massachusetts</td>\n",
       "        </tr>\n",
       "        <tr>\n",
       "            <td>Rhode Island</td>\n",
       "        </tr>\n",
       "        <tr>\n",
       "            <td>Michigan</td>\n",
       "        </tr>\n",
       "        <tr>\n",
       "            <td>Pennsylvania</td>\n",
       "        </tr>\n",
       "        <tr>\n",
       "            <td>Wisconsin</td>\n",
       "        </tr>\n",
       "        <tr>\n",
       "            <td>Montana</td>\n",
       "        </tr>\n",
       "        <tr>\n",
       "            <td>Diamond Princess</td>\n",
       "        </tr>\n",
       "        <tr>\n",
       "            <td>Illinois</td>\n",
       "        </tr>\n",
       "        <tr>\n",
       "            <td>Virginia</td>\n",
       "        </tr>\n",
       "        <tr>\n",
       "            <td>Georgia</td>\n",
       "        </tr>\n",
       "        <tr>\n",
       "            <td>Utah</td>\n",
       "        </tr>\n",
       "        <tr>\n",
       "            <td>Maine</td>\n",
       "        </tr>\n",
       "        <tr>\n",
       "            <td>California</td>\n",
       "        </tr>\n",
       "        <tr>\n",
       "            <td>Kansas</td>\n",
       "        </tr>\n",
       "        <tr>\n",
       "            <td>Texas</td>\n",
       "        </tr>\n",
       "        <tr>\n",
       "            <td>Alaska</td>\n",
       "        </tr>\n",
       "        <tr>\n",
       "            <td>Oklahoma</td>\n",
       "        </tr>\n",
       "    </tbody>\n",
       "</table>"
      ],
      "text/plain": [
       "[('Virgin Islands',),\n",
       " ('Vermont',),\n",
       " ('Nevada',),\n",
       " ('New York',),\n",
       " ('West Virginia',),\n",
       " ('South Carolina',),\n",
       " ('Hawaii',),\n",
       " ('New Mexico',),\n",
       " ('Arkansas',),\n",
       " ('Missouri',),\n",
       " ('South Dakota',),\n",
       " ('District of Columbia',),\n",
       " ('Ohio',),\n",
       " ('American Samoa',),\n",
       " ('Minnesota',),\n",
       " ('Washington',),\n",
       " ('Kentucky',),\n",
       " ('Arizona',),\n",
       " ('Maryland',),\n",
       " ('Puerto Rico',),\n",
       " ('Wyoming',),\n",
       " ('New Hampshire',),\n",
       " ('North Dakota',),\n",
       " ('Nebraska',),\n",
       " ('Tennessee',),\n",
       " ('Oregon',),\n",
       " ('Idaho',),\n",
       " ('Alabama',),\n",
       " ('North Carolina',),\n",
       " ('Colorado',),\n",
       " ('Mississippi',),\n",
       " ('Florida',),\n",
       " ('Delaware',),\n",
       " ('Northern Mariana Islands',),\n",
       " ('Louisiana',),\n",
       " ('Grand Princess',),\n",
       " ('Guam',),\n",
       " ('New Jersey',),\n",
       " ('Recovered',),\n",
       " ('Connecticut',),\n",
       " ('Indiana',),\n",
       " ('Iowa',),\n",
       " ('Massachusetts',),\n",
       " ('Rhode Island',),\n",
       " ('Michigan',),\n",
       " ('Pennsylvania',),\n",
       " ('Wisconsin',),\n",
       " ('Montana',),\n",
       " ('Diamond Princess',),\n",
       " ('Illinois',),\n",
       " ('Virginia',),\n",
       " ('Georgia',),\n",
       " ('Utah',),\n",
       " ('Maine',),\n",
       " ('California',),\n",
       " ('Kansas',),\n",
       " ('Texas',),\n",
       " ('Alaska',),\n",
       " ('Oklahoma',)]"
      ]
     },
     "execution_count": 90,
     "metadata": {},
     "output_type": "execute_result"
    }
   ],
   "source": [
    "%%sql\n",
    "select distinct province_state\n",
    "from casesdeath\n"
   ]
  },
  {
   "cell_type": "code",
   "execution_count": 90,
   "id": "16c58379-86a2-4479-9777-b4a0238372e4",
   "metadata": {
    "tags": []
   },
   "outputs": [
    {
     "name": "stdout",
     "output_type": "stream",
     "text": [
      " * postgresql://student@/yxz1\n",
      "Done.\n",
      "583 rows affected.\n"
     ]
    },
    {
     "data": {
      "text/plain": [
       "[]"
      ]
     },
     "execution_count": 90,
     "metadata": {},
     "output_type": "execute_result"
    }
   ],
   "source": [
    "%%sql\n",
    "DROP TABLE if exists NY_dea_percentage_change;\n",
    "\n",
    "CREATE TABLE NY_dea_percentage_change as (\n",
    "select province_state,last_update,((Deaths -d_previous_day)*100/d_previous_day) as percentage_change\n",
    "    from(\n",
    "    SELECT *,\n",
    "        LAG(Deaths) OVER(\n",
    "            PARTITION BY province_state\n",
    "            ORDER BY last_update) as d_previous_day\n",
    "        FROM casesdeath) as a\n",
    "    where province_state like 'New York'\n",
    ")"
   ]
  },
  {
   "cell_type": "code",
   "execution_count": 91,
   "id": "c1ac4759-7177-4ff7-92c6-c0cb38df5112",
   "metadata": {},
   "outputs": [
    {
     "name": "stdout",
     "output_type": "stream",
     "text": [
      " * postgresql://student@/yxz1\n",
      "0 rows affected.\n"
     ]
    },
    {
     "data": {
      "text/html": [
       "<table>\n",
       "    <thead>\n",
       "        <tr>\n",
       "        </tr>\n",
       "    </thead>\n",
       "    <tbody>\n",
       "    </tbody>\n",
       "</table>"
      ],
      "text/plain": [
       "[]"
      ]
     },
     "execution_count": 91,
     "metadata": {},
     "output_type": "execute_result"
    }
   ],
   "source": [
    "%%sql\n",
    "\n",
    "\n",
    "\\copy NY_dea_percentage_change to 'NY_dea_percentage_change.csv' delimiter ',' csv header;"
   ]
  },
  {
   "cell_type": "code",
   "execution_count": 92,
   "id": "9abfa4e4-4fa8-4fd9-b258-8839c70c637e",
   "metadata": {
    "tags": []
   },
   "outputs": [
    {
     "name": "stdout",
     "output_type": "stream",
     "text": [
      " * postgresql://student@/yxz1\n",
      "Done.\n",
      "583 rows affected.\n"
     ]
    },
    {
     "data": {
      "text/plain": [
       "[]"
      ]
     },
     "execution_count": 92,
     "metadata": {},
     "output_type": "execute_result"
    }
   ],
   "source": [
    "%%sql\n",
    "DROP TABLE if exists FL_dea_percentage_change;\n",
    "\n",
    "CREATE TABLE FL_dea_percentage_change as (select province_state,last_update,((Deaths -d_previous_day)*100/d_previous_day) as percentage_change\n",
    "    from(\n",
    "    SELECT *,\n",
    "        LAG(Deaths) OVER(\n",
    "            PARTITION BY province_state\n",
    "            ORDER BY last_update) as d_previous_day\n",
    "        FROM casesdeath) as a\n",
    "    where province_state like 'Florida')"
   ]
  },
  {
   "cell_type": "code",
   "execution_count": 93,
   "id": "5fd38d51-caaa-4ad2-bb78-1595fb78fcec",
   "metadata": {},
   "outputs": [
    {
     "name": "stdout",
     "output_type": "stream",
     "text": [
      " * postgresql://student@/yxz1\n",
      "0 rows affected.\n"
     ]
    },
    {
     "data": {
      "text/html": [
       "<table>\n",
       "    <thead>\n",
       "        <tr>\n",
       "        </tr>\n",
       "    </thead>\n",
       "    <tbody>\n",
       "    </tbody>\n",
       "</table>"
      ],
      "text/plain": [
       "[]"
      ]
     },
     "execution_count": 93,
     "metadata": {},
     "output_type": "execute_result"
    }
   ],
   "source": [
    "%%sql\n",
    "\n",
    "\n",
    "\\copy FL_dea_percentage_change to 'FL_dea_percentage_change.csv' delimiter ',' csv header;"
   ]
  },
  {
   "cell_type": "code",
   "execution_count": 87,
   "id": "6e5c3097-9d79-411b-8c9d-a9851f0f82e3",
   "metadata": {},
   "outputs": [
    {
     "name": "stdout",
     "output_type": "stream",
     "text": [
      " * postgresql://student@/yxz1\n",
      "Done.\n",
      "583 rows affected.\n"
     ]
    },
    {
     "data": {
      "text/plain": [
       "[]"
      ]
     },
     "execution_count": 87,
     "metadata": {},
     "output_type": "execute_result"
    }
   ],
   "source": [
    "%%sql\n",
    "DROP TABLE if exists NY_con_percentage_change;\n",
    "\n",
    "CREATE TABLE NY_con_percentage_change as (\n",
    "    select province_state,last_update,Round((confirmed-confirmed_previous_day)*100/confirmed_previous_day,7) as percentage_change\n",
    "    from(\n",
    "    SELECT *,\n",
    "        LAG(confirmed) OVER(\n",
    "            PARTITION BY province_state\n",
    "            ORDER BY last_update) as confirmed_previous_day\n",
    "        FROM casesdeath) as a\n",
    "    where province_state like 'New York'\n",
    ")\n"
   ]
  },
  {
   "cell_type": "code",
   "execution_count": 88,
   "id": "ec74ec28-c18d-47f0-89ff-71323d9eb2e7",
   "metadata": {},
   "outputs": [
    {
     "name": "stdout",
     "output_type": "stream",
     "text": [
      " * postgresql://student@/yxz1\n",
      "0 rows affected.\n"
     ]
    },
    {
     "data": {
      "text/html": [
       "<table>\n",
       "    <thead>\n",
       "        <tr>\n",
       "        </tr>\n",
       "    </thead>\n",
       "    <tbody>\n",
       "    </tbody>\n",
       "</table>"
      ],
      "text/plain": [
       "[]"
      ]
     },
     "execution_count": 88,
     "metadata": {},
     "output_type": "execute_result"
    }
   ],
   "source": [
    "%%sql\n",
    "\n",
    "\n",
    "\\copy NY_con_percentage_change to 'NY_con_percentage_change.csv' delimiter ',' csv header;"
   ]
  },
  {
   "cell_type": "code",
   "execution_count": 61,
   "id": "ec6bac94-786a-47c0-8702-f5f0f3d94165",
   "metadata": {},
   "outputs": [],
   "source": [
    "import pandas as pd\n",
    "import numpy as np\n",
    "import matplotlib.pyplot as plt\n",
    "import seaborn as sns\n",
    "import warnings\n",
    "warnings.filterwarnings('ignore')\n",
    "%matplotlib inline "
   ]
  },
  {
   "cell_type": "code",
   "execution_count": 75,
   "id": "32e4b2f1-4e88-4e3f-9a28-9f590ef76669",
   "metadata": {},
   "outputs": [
    {
     "data": {
      "text/plain": [
       "province_state       0\n",
       "last_update          0\n",
       "percentage_change    1\n",
       "dtype: int64"
      ]
     },
     "execution_count": 75,
     "metadata": {},
     "output_type": "execute_result"
    }
   ],
   "source": [
    "ny1 = pd.read_csv(\"NY_con_percentage_change.csv\")\n",
    "ny1.isnull().sum()"
   ]
  },
  {
   "cell_type": "code",
   "execution_count": 76,
   "id": "c60cf731-59f6-45ce-866f-1f1e35c46df6",
   "metadata": {},
   "outputs": [
    {
     "data": {
      "text/html": [
       "<div>\n",
       "<style scoped>\n",
       "    .dataframe tbody tr th:only-of-type {\n",
       "        vertical-align: middle;\n",
       "    }\n",
       "\n",
       "    .dataframe tbody tr th {\n",
       "        vertical-align: top;\n",
       "    }\n",
       "\n",
       "    .dataframe thead th {\n",
       "        text-align: right;\n",
       "    }\n",
       "</style>\n",
       "<table border=\"1\" class=\"dataframe\">\n",
       "  <thead>\n",
       "    <tr style=\"text-align: right;\">\n",
       "      <th></th>\n",
       "      <th>province_state</th>\n",
       "      <th>last_update</th>\n",
       "      <th>percentage_change</th>\n",
       "    </tr>\n",
       "  </thead>\n",
       "  <tbody>\n",
       "    <tr>\n",
       "      <th>0</th>\n",
       "      <td>New York</td>\n",
       "      <td>2020-04-12 23:18:15</td>\n",
       "      <td>NaN</td>\n",
       "    </tr>\n",
       "    <tr>\n",
       "      <th>1</th>\n",
       "      <td>New York</td>\n",
       "      <td>2020-04-13 23:07:54</td>\n",
       "      <td>3.0</td>\n",
       "    </tr>\n",
       "    <tr>\n",
       "      <th>2</th>\n",
       "      <td>New York</td>\n",
       "      <td>2020-04-14 23:33:31</td>\n",
       "      <td>3.0</td>\n",
       "    </tr>\n",
       "    <tr>\n",
       "      <th>3</th>\n",
       "      <td>New York</td>\n",
       "      <td>2020-04-15 22:56:51</td>\n",
       "      <td>5.0</td>\n",
       "    </tr>\n",
       "    <tr>\n",
       "      <th>4</th>\n",
       "      <td>New York</td>\n",
       "      <td>2020-04-16 23:30:51</td>\n",
       "      <td>4.0</td>\n",
       "    </tr>\n",
       "  </tbody>\n",
       "</table>\n",
       "</div>"
      ],
      "text/plain": [
       "  province_state          last_update  percentage_change\n",
       "0       New York  2020-04-12 23:18:15                NaN\n",
       "1       New York  2020-04-13 23:07:54                3.0\n",
       "2       New York  2020-04-14 23:33:31                3.0\n",
       "3       New York  2020-04-15 22:56:51                5.0\n",
       "4       New York  2020-04-16 23:30:51                4.0"
      ]
     },
     "execution_count": 76,
     "metadata": {},
     "output_type": "execute_result"
    }
   ],
   "source": [
    "ny1.head(5)"
   ]
  },
  {
   "cell_type": "code",
   "execution_count": 77,
   "id": "1c5c1d21-27c5-470e-89bf-a34f8c2338e6",
   "metadata": {},
   "outputs": [
    {
     "name": "stdout",
     "output_type": "stream",
     "text": [
      "<class 'pandas.core.frame.DataFrame'>\n",
      "RangeIndex: 583 entries, 0 to 582\n",
      "Data columns (total 3 columns):\n",
      " #   Column             Non-Null Count  Dtype  \n",
      "---  ------             --------------  -----  \n",
      " 0   province_state     583 non-null    object \n",
      " 1   last_update        583 non-null    object \n",
      " 2   percentage_change  582 non-null    float64\n",
      "dtypes: float64(1), object(2)\n",
      "memory usage: 13.8+ KB\n"
     ]
    }
   ],
   "source": [
    "ny1.info()"
   ]
  },
  {
   "cell_type": "code",
   "execution_count": 78,
   "id": "9741d707-e89d-46ea-9045-2e0d1d1f39e1",
   "metadata": {},
   "outputs": [
    {
     "data": {
      "text/plain": [
       "province_state               object\n",
       "last_update          datetime64[ns]\n",
       "percentage_change           float64\n",
       "dtype: object"
      ]
     },
     "execution_count": 78,
     "metadata": {},
     "output_type": "execute_result"
    }
   ],
   "source": [
    "from datetime import datetime\n",
    "#change the date column from object to date type\n",
    "ny1['last_update'] = pd.to_datetime(ny1['last_update'],format='%y-%m-%d %H:%M:%S',exact=False)\n",
    "#print the new types\n",
    "ny1.dtypes"
   ]
  },
  {
   "cell_type": "code",
   "execution_count": 79,
   "id": "589783cf-fc8c-44e1-bbce-151a252196cd",
   "metadata": {},
   "outputs": [
    {
     "data": {
      "text/html": [
       "<div>\n",
       "<style scoped>\n",
       "    .dataframe tbody tr th:only-of-type {\n",
       "        vertical-align: middle;\n",
       "    }\n",
       "\n",
       "    .dataframe tbody tr th {\n",
       "        vertical-align: top;\n",
       "    }\n",
       "\n",
       "    .dataframe thead th {\n",
       "        text-align: right;\n",
       "    }\n",
       "</style>\n",
       "<table border=\"1\" class=\"dataframe\">\n",
       "  <thead>\n",
       "    <tr style=\"text-align: right;\">\n",
       "      <th></th>\n",
       "      <th>province_state</th>\n",
       "      <th>last_update</th>\n",
       "      <th>percentage_change</th>\n",
       "    </tr>\n",
       "  </thead>\n",
       "  <tbody>\n",
       "    <tr>\n",
       "      <th>0</th>\n",
       "      <td>New York</td>\n",
       "      <td>2020-04-12 23:18:15</td>\n",
       "      <td>NaN</td>\n",
       "    </tr>\n",
       "    <tr>\n",
       "      <th>1</th>\n",
       "      <td>New York</td>\n",
       "      <td>2020-04-13 23:07:54</td>\n",
       "      <td>3.0</td>\n",
       "    </tr>\n",
       "    <tr>\n",
       "      <th>2</th>\n",
       "      <td>New York</td>\n",
       "      <td>2020-04-14 23:33:31</td>\n",
       "      <td>3.0</td>\n",
       "    </tr>\n",
       "    <tr>\n",
       "      <th>3</th>\n",
       "      <td>New York</td>\n",
       "      <td>2020-04-15 22:56:51</td>\n",
       "      <td>5.0</td>\n",
       "    </tr>\n",
       "    <tr>\n",
       "      <th>4</th>\n",
       "      <td>New York</td>\n",
       "      <td>2020-04-16 23:30:51</td>\n",
       "      <td>4.0</td>\n",
       "    </tr>\n",
       "  </tbody>\n",
       "</table>\n",
       "</div>"
      ],
      "text/plain": [
       "  province_state         last_update  percentage_change\n",
       "0       New York 2020-04-12 23:18:15                NaN\n",
       "1       New York 2020-04-13 23:07:54                3.0\n",
       "2       New York 2020-04-14 23:33:31                3.0\n",
       "3       New York 2020-04-15 22:56:51                5.0\n",
       "4       New York 2020-04-16 23:30:51                4.0"
      ]
     },
     "execution_count": 79,
     "metadata": {},
     "output_type": "execute_result"
    }
   ],
   "source": [
    "ny1.head(5)"
   ]
  },
  {
   "cell_type": "code",
   "execution_count": 83,
   "id": "4a930983-a7e9-4c37-8e2b-50ce544540e8",
   "metadata": {
    "tags": []
   },
   "outputs": [
    {
     "data": {
      "image/png": "[encoded data removed]",
      "text/plain": [
       "<Figure size 864x720 with 1 Axes>"
      ]
     },
     "metadata": {
      "needs_background": "light"
     },
     "output_type": "display_data"
    }
   ],
   "source": [
    "import seaborn as sns\n",
    "plt.figure(figsize=(12,10))\n",
    "sns.scatterplot(data=ny1, x='last_update', y='percentage_change',hue ='province_state')\n",
    "plt.xlabel('Date')\n",
    "plt.ylabel('\"confirmed_percent_change\"')\n",
    "plt.title('\"Confirmed Percent Change of NY\"')\n",
    "plt.show()"
   ]
  },
  {
   "cell_type": "code",
   "execution_count": 84,
   "id": "31431759-f1f2-4d04-9836-806983376450",
   "metadata": {},
   "outputs": [
    {
     "name": "stdout",
     "output_type": "stream",
     "text": [
      " * postgresql://student@/yxz1\n",
      "Done.\n",
      "583 rows affected.\n"
     ]
    },
    {
     "data": {
      "text/plain": [
       "[]"
      ]
     },
     "execution_count": 84,
     "metadata": {},
     "output_type": "execute_result"
    }
   ],
   "source": [
    "%%sql\n",
    "DROP TABLE if exists FL_con_percentage_change;\n",
    "\n",
    "CREATE TABLE FL_con_percentage_change as (\n",
    "    select province_state,last_update,Round((confirmed-confirmed_previous_day)*100/confirmed_previous_day,7) as percentage_change\n",
    "    from(\n",
    "    SELECT *,\n",
    "        LAG(confirmed) OVER(\n",
    "            PARTITION BY province_state\n",
    "            ORDER BY last_update) as confirmed_previous_day\n",
    "        FROM casesdeath) as a\n",
    "    where province_state like 'Florida'\n",
    ")\n"
   ]
  },
  {
   "cell_type": "code",
   "execution_count": 86,
   "id": "03351a53-6e83-4f64-bf7a-8ba3af259872",
   "metadata": {},
   "outputs": [
    {
     "name": "stdout",
     "output_type": "stream",
     "text": [
      " * postgresql://student@/yxz1\n",
      "0 rows affected.\n"
     ]
    },
    {
     "data": {
      "text/html": [
       "<table>\n",
       "    <thead>\n",
       "        <tr>\n",
       "        </tr>\n",
       "    </thead>\n",
       "    <tbody>\n",
       "    </tbody>\n",
       "</table>"
      ],
      "text/plain": [
       "[]"
      ]
     },
     "execution_count": 86,
     "metadata": {},
     "output_type": "execute_result"
    }
   ],
   "source": [
    "%%sql\n",
    "\n",
    "\n",
    "\\copy FL_con_percentage_change to 'FL_con_percentage_change.csv' delimiter ',' csv header;"
   ]
  },
  {
   "cell_type": "code",
   "execution_count": 89,
   "id": "8a2431c6-a3ca-4782-ba80-93576f97f20a",
   "metadata": {},
   "outputs": [
    {
     "data": {
      "image/png": "[encoded data removed]",
      "text/plain": [
       "<Figure size 864x720 with 1 Axes>"
      ]
     },
     "metadata": {
      "needs_background": "light"
     },
     "output_type": "display_data"
    }
   ],
   "source": [
    "fl1 = pd.read_csv(\"FL_con_percentage_change.csv\")\n",
    "fl1.isnull().sum()\n",
    "\n",
    "#fl1.info()\n",
    "\n",
    "from datetime import datetime\n",
    "#change the date column from object to date type\n",
    "fl1['last_update'] = pd.to_datetime(fl1['last_update'],format='%y-%m-%d %H:%M:%S',exact=False)\n",
    "#print the new types\n",
    "#fl1.dtypes\n",
    "\n",
    "import seaborn as sns\n",
    "plt.figure(figsize=(12,10))\n",
    "sns.scatterplot(data=fl1, x='last_update', y='percentage_change',hue ='province_state')\n",
    "plt.xlabel('Date')\n",
    "plt.ylabel('\"confirmed_percent_change\"')\n",
    "plt.title('\"Confirmed Percent Change of FL\"')\n",
    "plt.show()"
   ]
  },
  {
   "cell_type": "code",
   "execution_count": 95,
   "id": "940ebd25-2e1c-4478-b998-9e16376eff94",
   "metadata": {},
   "outputs": [
    {
     "data": {
      "image/png": "[encoded data removed]",
      "text/plain": [
       "<Figure size 864x720 with 1 Axes>"
      ]
     },
     "metadata": {
      "needs_background": "light"
     },
     "output_type": "display_data"
    }
   ],
   "source": [
    "ny2 = pd.read_csv(\"NY_dea_percentage_change.csv\")\n",
    "ny2.isnull().sum()\n",
    "\n",
    "#ny2.info()\n",
    "\n",
    "from datetime import datetime\n",
    "#change the date column from object to date type\n",
    "ny2['last_update'] = pd.to_datetime(ny2['last_update'],format='%y-%m-%d %H:%M:%S',exact=False)\n",
    "#print the new types\n",
    "#ny2.dtypes\n",
    "\n",
    "import seaborn as sns\n",
    "plt.figure(figsize=(12,10))\n",
    "sns.scatterplot(data=ny2, x='last_update', y='percentage_change',hue ='province_state')\n",
    "plt.xlabel('Date')\n",
    "plt.ylabel('\"deaths_percent_change\"')\n",
    "plt.title('\"Deaths Percent Change of NY\"')\n",
    "plt.show()"
   ]
  },
  {
   "cell_type": "code",
   "execution_count": 96,
   "id": "96e571ef-3928-44ab-88bb-c730670a5d2c",
   "metadata": {},
   "outputs": [
    {
     "data": {
      "image/png": "[encoded data removed]",
      "text/plain": [
       "<Figure size 864x720 with 1 Axes>"
      ]
     },
     "metadata": {
      "needs_background": "light"
     },
     "output_type": "display_data"
    }
   ],
   "source": [
    "fl2 = pd.read_csv(\"FL_dea_percentage_change.csv\")\n",
    "fl2.isnull().sum()\n",
    "\n",
    "#fl2.info()\n",
    "\n",
    "from datetime import datetime\n",
    "#change the date column from object to date type\n",
    "fl2['last_update'] = pd.to_datetime(fl2['last_update'],format='%y-%m-%d %H:%M:%S',exact=False)\n",
    "#print the new types\n",
    "#fl2.dtypes\n",
    "\n",
    "import seaborn as sns\n",
    "plt.figure(figsize=(12,10))\n",
    "sns.scatterplot(data=fl2, x='last_update', y='percentage_change',hue ='province_state')\n",
    "plt.xlabel('Date')\n",
    "plt.ylabel('\"deaths_percent_change\"')\n",
    "plt.title('\"Deaths Percent Change of FL\"')\n",
    "plt.show()"
   ]
  },
  {
   "cell_type": "markdown",
   "id": "f51f114b-024b-4a56-ada6-a7c163e7ef34",
   "metadata": {},
   "source": [
    "#### From comparing the percentage of confirmed change between NY and FL, NY has less increase on confirmed cases after NY government has released actions such as shutdown, reopen NY step by step meet the phases requirements, etc. on the opposite way, before the vaccine comes out. FL didn’t tackle any straight actions on help slow the spread of covid19. Therefore, people had more chance to be exposed to virus which help increase the percentage. So, government regulation has made some contribution to slow the spread of covid-19. This also lead to  intuiative result of more increase changes of deaths in FL than NY."
   ]
  },
  {
   "cell_type": "markdown",
   "id": "49fe3519-3c27-4222-9876-b72e89fe28ec",
   "metadata": {
    "tags": []
   },
   "source": [
    "## Question2\n",
    "## what is the effectiveness of vaccine?"
   ]
  },
  {
   "cell_type": "code",
   "execution_count": null,
   "id": "652b6f58-e054-4a3a-9720-e15013084333",
   "metadata": {},
   "outputs": [],
   "source": []
  },
  {
   "cell_type": "code",
   "execution_count": null,
   "id": "cc515d94-f35d-4965-bcbd-cce1294fd6f8",
   "metadata": {},
   "outputs": [],
   "source": []
  },
  {
   "cell_type": "code",
   "execution_count": 439,
   "id": "6929eef8-8287-4196-b342-b052b53aa9d9",
   "metadata": {},
   "outputs": [
    {
     "name": "stdout",
     "output_type": "stream",
     "text": [
      "The lab_black extension is already loaded. To reload it, use:\n",
      "  %reload_ext lab_black\n"
     ]
    }
   ],
   "source": [
    "import numpy as np\n",
    "import pandas as pd\n",
    "import matplotlib.pyplot as plt\n",
    "import seaborn as sns\n",
    "from datetime import datetime\n",
    "import datetime\n",
    "\n",
    "\n",
    "%matplotlib inline"
   ]
  },
  {
   "cell_type": "code",
   "execution_count": 440,
   "id": "72cc8a4f-2f6b-46cd-924b-7d08e9ffba10",
   "metadata": {},
   "outputs": [],
   "source": [
    "case = pd.read_csv(\"cases_death.csv\")\n",
    "ppl = pd.read_csv(\"ppl_vaccine_data.csv\")"
   ]
  },
  {
   "cell_type": "code",
   "execution_count": 441,
   "id": "3e958940-8807-44fb-9286-42a5dc4d4f18",
   "metadata": {},
   "outputs": [
    {
     "data": {
      "text/html": [
       "<div>\n",
       "<style scoped>\n",
       "    .dataframe tbody tr th:only-of-type {\n",
       "        vertical-align: middle;\n",
       "    }\n",
       "\n",
       "    .dataframe tbody tr th {\n",
       "        vertical-align: top;\n",
       "    }\n",
       "\n",
       "    .dataframe thead th {\n",
       "        text-align: right;\n",
       "    }\n",
       "</style>\n",
       "<table border=\"1\" class=\"dataframe\">\n",
       "  <thead>\n",
       "    <tr style=\"text-align: right;\">\n",
       "      <th></th>\n",
       "      <th>FIPS</th>\n",
       "      <th>Province_State</th>\n",
       "      <th>Country_Region</th>\n",
       "      <th>Date</th>\n",
       "      <th>Lat</th>\n",
       "      <th>Long_</th>\n",
       "      <th>Combined_Key</th>\n",
       "      <th>People_Fully_Vaccinated</th>\n",
       "      <th>People_Partially_Vaccinated</th>\n",
       "      <th>time</th>\n",
       "    </tr>\n",
       "  </thead>\n",
       "  <tbody>\n",
       "    <tr>\n",
       "      <th>9620</th>\n",
       "      <td>25.0</td>\n",
       "      <td>Massachusetts</td>\n",
       "      <td>US</td>\n",
       "      <td>2020-12-10</td>\n",
       "      <td>42.2302</td>\n",
       "      <td>-71.5301</td>\n",
       "      <td>Massachusetts, US</td>\n",
       "      <td>NaN</td>\n",
       "      <td>NaN</td>\n",
       "      <td>2020-12-10</td>\n",
       "    </tr>\n",
       "    <tr>\n",
       "      <th>9621</th>\n",
       "      <td>25.0</td>\n",
       "      <td>Massachusetts</td>\n",
       "      <td>US</td>\n",
       "      <td>2020-12-11</td>\n",
       "      <td>42.2302</td>\n",
       "      <td>-71.5301</td>\n",
       "      <td>Massachusetts, US</td>\n",
       "      <td>NaN</td>\n",
       "      <td>NaN</td>\n",
       "      <td>2020-12-11</td>\n",
       "    </tr>\n",
       "    <tr>\n",
       "      <th>9622</th>\n",
       "      <td>25.0</td>\n",
       "      <td>Massachusetts</td>\n",
       "      <td>US</td>\n",
       "      <td>2020-12-12</td>\n",
       "      <td>42.2302</td>\n",
       "      <td>-71.5301</td>\n",
       "      <td>Massachusetts, US</td>\n",
       "      <td>NaN</td>\n",
       "      <td>NaN</td>\n",
       "      <td>2020-12-12</td>\n",
       "    </tr>\n",
       "    <tr>\n",
       "      <th>9623</th>\n",
       "      <td>25.0</td>\n",
       "      <td>Massachusetts</td>\n",
       "      <td>US</td>\n",
       "      <td>2020-12-13</td>\n",
       "      <td>42.2302</td>\n",
       "      <td>-71.5301</td>\n",
       "      <td>Massachusetts, US</td>\n",
       "      <td>NaN</td>\n",
       "      <td>NaN</td>\n",
       "      <td>2020-12-13</td>\n",
       "    </tr>\n",
       "    <tr>\n",
       "      <th>9624</th>\n",
       "      <td>25.0</td>\n",
       "      <td>Massachusetts</td>\n",
       "      <td>US</td>\n",
       "      <td>2020-12-14</td>\n",
       "      <td>42.2302</td>\n",
       "      <td>-71.5301</td>\n",
       "      <td>Massachusetts, US</td>\n",
       "      <td>NaN</td>\n",
       "      <td>NaN</td>\n",
       "      <td>2020-12-14</td>\n",
       "    </tr>\n",
       "    <tr>\n",
       "      <th>...</th>\n",
       "      <td>...</td>\n",
       "      <td>...</td>\n",
       "      <td>...</td>\n",
       "      <td>...</td>\n",
       "      <td>...</td>\n",
       "      <td>...</td>\n",
       "      <td>...</td>\n",
       "      <td>...</td>\n",
       "      <td>...</td>\n",
       "      <td>...</td>\n",
       "    </tr>\n",
       "    <tr>\n",
       "      <th>9973</th>\n",
       "      <td>25.0</td>\n",
       "      <td>Massachusetts</td>\n",
       "      <td>US</td>\n",
       "      <td>2021-11-28</td>\n",
       "      <td>42.2302</td>\n",
       "      <td>-71.5301</td>\n",
       "      <td>Massachusetts, US</td>\n",
       "      <td>4883284.0</td>\n",
       "      <td>973645.0</td>\n",
       "      <td>2021-11-28</td>\n",
       "    </tr>\n",
       "    <tr>\n",
       "      <th>9974</th>\n",
       "      <td>25.0</td>\n",
       "      <td>Massachusetts</td>\n",
       "      <td>US</td>\n",
       "      <td>2021-11-29</td>\n",
       "      <td>42.2302</td>\n",
       "      <td>-71.5301</td>\n",
       "      <td>Massachusetts, US</td>\n",
       "      <td>4901041.0</td>\n",
       "      <td>1005487.0</td>\n",
       "      <td>2021-11-29</td>\n",
       "    </tr>\n",
       "    <tr>\n",
       "      <th>9975</th>\n",
       "      <td>25.0</td>\n",
       "      <td>Massachusetts</td>\n",
       "      <td>US</td>\n",
       "      <td>2021-11-30</td>\n",
       "      <td>42.2302</td>\n",
       "      <td>-71.5301</td>\n",
       "      <td>Massachusetts, US</td>\n",
       "      <td>4906398.0</td>\n",
       "      <td>1006297.0</td>\n",
       "      <td>2021-11-30</td>\n",
       "    </tr>\n",
       "    <tr>\n",
       "      <th>9976</th>\n",
       "      <td>25.0</td>\n",
       "      <td>Massachusetts</td>\n",
       "      <td>US</td>\n",
       "      <td>2021-12-01</td>\n",
       "      <td>42.2302</td>\n",
       "      <td>-71.5301</td>\n",
       "      <td>Massachusetts, US</td>\n",
       "      <td>4912745.0</td>\n",
       "      <td>1009715.0</td>\n",
       "      <td>2021-12-01</td>\n",
       "    </tr>\n",
       "    <tr>\n",
       "      <th>9977</th>\n",
       "      <td>25.0</td>\n",
       "      <td>Massachusetts</td>\n",
       "      <td>US</td>\n",
       "      <td>2021-12-02</td>\n",
       "      <td>42.2302</td>\n",
       "      <td>-71.5301</td>\n",
       "      <td>Massachusetts, US</td>\n",
       "      <td>4924144.0</td>\n",
       "      <td>1011134.0</td>\n",
       "      <td>2021-12-02</td>\n",
       "    </tr>\n",
       "  </tbody>\n",
       "</table>\n",
       "<p>358 rows × 10 columns</p>\n",
       "</div>"
      ],
      "text/plain": [
       "      FIPS Province_State Country_Region        Date      Lat    Long_  \\\n",
       "9620  25.0  Massachusetts             US  2020-12-10  42.2302 -71.5301   \n",
       "9621  25.0  Massachusetts             US  2020-12-11  42.2302 -71.5301   \n",
       "9622  25.0  Massachusetts             US  2020-12-12  42.2302 -71.5301   \n",
       "9623  25.0  Massachusetts             US  2020-12-13  42.2302 -71.5301   \n",
       "9624  25.0  Massachusetts             US  2020-12-14  42.2302 -71.5301   \n",
       "...    ...            ...            ...         ...      ...      ...   \n",
       "9973  25.0  Massachusetts             US  2021-11-28  42.2302 -71.5301   \n",
       "9974  25.0  Massachusetts             US  2021-11-29  42.2302 -71.5301   \n",
       "9975  25.0  Massachusetts             US  2021-11-30  42.2302 -71.5301   \n",
       "9976  25.0  Massachusetts             US  2021-12-01  42.2302 -71.5301   \n",
       "9977  25.0  Massachusetts             US  2021-12-02  42.2302 -71.5301   \n",
       "\n",
       "           Combined_Key  People_Fully_Vaccinated  People_Partially_Vaccinated  \\\n",
       "9620  Massachusetts, US                      NaN                          NaN   \n",
       "9621  Massachusetts, US                      NaN                          NaN   \n",
       "9622  Massachusetts, US                      NaN                          NaN   \n",
       "9623  Massachusetts, US                      NaN                          NaN   \n",
       "9624  Massachusetts, US                      NaN                          NaN   \n",
       "...                 ...                      ...                          ...   \n",
       "9973  Massachusetts, US                4883284.0                     973645.0   \n",
       "9974  Massachusetts, US                4901041.0                    1005487.0   \n",
       "9975  Massachusetts, US                4906398.0                    1006297.0   \n",
       "9976  Massachusetts, US                4912745.0                    1009715.0   \n",
       "9977  Massachusetts, US                4924144.0                    1011134.0   \n",
       "\n",
       "           time  \n",
       "9620 2020-12-10  \n",
       "9621 2020-12-11  \n",
       "9622 2020-12-12  \n",
       "9623 2020-12-13  \n",
       "9624 2020-12-14  \n",
       "...         ...  \n",
       "9973 2021-11-28  \n",
       "9974 2021-11-29  \n",
       "9975 2021-11-30  \n",
       "9976 2021-12-01  \n",
       "9977 2021-12-02  \n",
       "\n",
       "[358 rows x 10 columns]"
      ]
     },
     "execution_count": 441,
     "metadata": {},
     "output_type": "execute_result"
    }
   ],
   "source": [
    "a = ppl[(ppl.Province_State != \"Massachusetts\")].index\n",
    "a = ppl.drop(a)\n",
    "a[\"time\"] = pd.to_datetime(a[\"Date\"])\n",
    "a.sort_values(by=\"time\")"
   ]
  },
  {
   "cell_type": "code",
   "execution_count": 442,
   "id": "29ff09bb-9372-4b7b-b8d8-874ad3b9677d",
   "metadata": {},
   "outputs": [
    {
     "data": {
      "text/plain": [
       "Index(['FIPS', 'Province_State', 'Country_Region', 'Date', 'Lat', 'Long_',\n",
       "       'Combined_Key', 'People_Fully_Vaccinated',\n",
       "       'People_Partially_Vaccinated', 'time', 'month'],\n",
       "      dtype='object')"
      ]
     },
     "execution_count": 442,
     "metadata": {},
     "output_type": "execute_result"
    }
   ],
   "source": [
    "a[\"month\"] = a[\"time\"].dt.month\n",
    "a.columns"
   ]
  },
  {
   "cell_type": "code",
   "execution_count": 443,
   "id": "3de7cdb3-a417-4921-862c-2fcfe9076651",
   "metadata": {},
   "outputs": [],
   "source": [
    "a.drop(\n",
    "    columns=[\n",
    "        \"FIPS\",\n",
    "        \"Date\",\n",
    "        \"Lat\",\n",
    "        \"Long_\",\n",
    "        \"Combined_Key\",\n",
    "        \"Country_Region\",\n",
    "        \"People_Partially_Vaccinated\",\n",
    "    ],\n",
    "    inplace=True,\n",
    ")"
   ]
  },
  {
   "cell_type": "code",
   "execution_count": 444,
   "id": "210c440d-1ecf-4b82-a25a-de016ccda443",
   "metadata": {},
   "outputs": [],
   "source": [
    "a = a.set_index([\"time\"])\n",
    "a = a.loc[\"2021-1-1\":\"2021-11-16\"]"
   ]
  },
  {
   "cell_type": "code",
   "execution_count": 445,
   "id": "f36a6097-f26b-4fa6-9aca-2a2531dfb33c",
   "metadata": {},
   "outputs": [
    {
     "data": {
      "text/html": [
       "<div>\n",
       "<style scoped>\n",
       "    .dataframe tbody tr th:only-of-type {\n",
       "        vertical-align: middle;\n",
       "    }\n",
       "\n",
       "    .dataframe tbody tr th {\n",
       "        vertical-align: top;\n",
       "    }\n",
       "\n",
       "    .dataframe thead th {\n",
       "        text-align: right;\n",
       "    }\n",
       "</style>\n",
       "<table border=\"1\" class=\"dataframe\">\n",
       "  <thead>\n",
       "    <tr style=\"text-align: right;\">\n",
       "      <th></th>\n",
       "      <th>FIPS</th>\n",
       "      <th>Province_State</th>\n",
       "      <th>Country_Region</th>\n",
       "      <th>Date</th>\n",
       "      <th>Lat</th>\n",
       "      <th>Long_</th>\n",
       "      <th>Combined_Key</th>\n",
       "      <th>People_Fully_Vaccinated</th>\n",
       "      <th>People_Partially_Vaccinated</th>\n",
       "      <th>time</th>\n",
       "    </tr>\n",
       "  </thead>\n",
       "  <tbody>\n",
       "    <tr>\n",
       "      <th>20002</th>\n",
       "      <td>51.0</td>\n",
       "      <td>Virginia</td>\n",
       "      <td>US</td>\n",
       "      <td>2020-12-10</td>\n",
       "      <td>37.7693</td>\n",
       "      <td>-78.17</td>\n",
       "      <td>Virginia, US</td>\n",
       "      <td>NaN</td>\n",
       "      <td>NaN</td>\n",
       "      <td>2020-12-10</td>\n",
       "    </tr>\n",
       "    <tr>\n",
       "      <th>20003</th>\n",
       "      <td>51.0</td>\n",
       "      <td>Virginia</td>\n",
       "      <td>US</td>\n",
       "      <td>2020-12-11</td>\n",
       "      <td>37.7693</td>\n",
       "      <td>-78.17</td>\n",
       "      <td>Virginia, US</td>\n",
       "      <td>NaN</td>\n",
       "      <td>NaN</td>\n",
       "      <td>2020-12-11</td>\n",
       "    </tr>\n",
       "    <tr>\n",
       "      <th>20004</th>\n",
       "      <td>51.0</td>\n",
       "      <td>Virginia</td>\n",
       "      <td>US</td>\n",
       "      <td>2020-12-12</td>\n",
       "      <td>37.7693</td>\n",
       "      <td>-78.17</td>\n",
       "      <td>Virginia, US</td>\n",
       "      <td>NaN</td>\n",
       "      <td>NaN</td>\n",
       "      <td>2020-12-12</td>\n",
       "    </tr>\n",
       "    <tr>\n",
       "      <th>20005</th>\n",
       "      <td>51.0</td>\n",
       "      <td>Virginia</td>\n",
       "      <td>US</td>\n",
       "      <td>2020-12-13</td>\n",
       "      <td>37.7693</td>\n",
       "      <td>-78.17</td>\n",
       "      <td>Virginia, US</td>\n",
       "      <td>NaN</td>\n",
       "      <td>NaN</td>\n",
       "      <td>2020-12-13</td>\n",
       "    </tr>\n",
       "    <tr>\n",
       "      <th>20006</th>\n",
       "      <td>51.0</td>\n",
       "      <td>Virginia</td>\n",
       "      <td>US</td>\n",
       "      <td>2020-12-14</td>\n",
       "      <td>37.7693</td>\n",
       "      <td>-78.17</td>\n",
       "      <td>Virginia, US</td>\n",
       "      <td>NaN</td>\n",
       "      <td>NaN</td>\n",
       "      <td>2020-12-14</td>\n",
       "    </tr>\n",
       "    <tr>\n",
       "      <th>...</th>\n",
       "      <td>...</td>\n",
       "      <td>...</td>\n",
       "      <td>...</td>\n",
       "      <td>...</td>\n",
       "      <td>...</td>\n",
       "      <td>...</td>\n",
       "      <td>...</td>\n",
       "      <td>...</td>\n",
       "      <td>...</td>\n",
       "      <td>...</td>\n",
       "    </tr>\n",
       "    <tr>\n",
       "      <th>20355</th>\n",
       "      <td>51.0</td>\n",
       "      <td>Virginia</td>\n",
       "      <td>US</td>\n",
       "      <td>2021-11-28</td>\n",
       "      <td>37.7693</td>\n",
       "      <td>-78.17</td>\n",
       "      <td>Virginia, US</td>\n",
       "      <td>5524860.0</td>\n",
       "      <td>877405.0</td>\n",
       "      <td>2021-11-28</td>\n",
       "    </tr>\n",
       "    <tr>\n",
       "      <th>20356</th>\n",
       "      <td>51.0</td>\n",
       "      <td>Virginia</td>\n",
       "      <td>US</td>\n",
       "      <td>2021-11-29</td>\n",
       "      <td>37.7693</td>\n",
       "      <td>-78.17</td>\n",
       "      <td>Virginia, US</td>\n",
       "      <td>5537205.0</td>\n",
       "      <td>907109.0</td>\n",
       "      <td>2021-11-29</td>\n",
       "    </tr>\n",
       "    <tr>\n",
       "      <th>20357</th>\n",
       "      <td>51.0</td>\n",
       "      <td>Virginia</td>\n",
       "      <td>US</td>\n",
       "      <td>2021-11-30</td>\n",
       "      <td>37.7693</td>\n",
       "      <td>-78.17</td>\n",
       "      <td>Virginia, US</td>\n",
       "      <td>5542940.0</td>\n",
       "      <td>908505.0</td>\n",
       "      <td>2021-11-30</td>\n",
       "    </tr>\n",
       "    <tr>\n",
       "      <th>20358</th>\n",
       "      <td>51.0</td>\n",
       "      <td>Virginia</td>\n",
       "      <td>US</td>\n",
       "      <td>2021-12-01</td>\n",
       "      <td>37.7693</td>\n",
       "      <td>-78.17</td>\n",
       "      <td>Virginia, US</td>\n",
       "      <td>5551137.0</td>\n",
       "      <td>908111.0</td>\n",
       "      <td>2021-12-01</td>\n",
       "    </tr>\n",
       "    <tr>\n",
       "      <th>20359</th>\n",
       "      <td>51.0</td>\n",
       "      <td>Virginia</td>\n",
       "      <td>US</td>\n",
       "      <td>2021-12-02</td>\n",
       "      <td>37.7693</td>\n",
       "      <td>-78.17</td>\n",
       "      <td>Virginia, US</td>\n",
       "      <td>5565330.0</td>\n",
       "      <td>907405.0</td>\n",
       "      <td>2021-12-02</td>\n",
       "    </tr>\n",
       "  </tbody>\n",
       "</table>\n",
       "<p>358 rows × 10 columns</p>\n",
       "</div>"
      ],
      "text/plain": [
       "       FIPS Province_State Country_Region        Date      Lat  Long_  \\\n",
       "20002  51.0       Virginia             US  2020-12-10  37.7693 -78.17   \n",
       "20003  51.0       Virginia             US  2020-12-11  37.7693 -78.17   \n",
       "20004  51.0       Virginia             US  2020-12-12  37.7693 -78.17   \n",
       "20005  51.0       Virginia             US  2020-12-13  37.7693 -78.17   \n",
       "20006  51.0       Virginia             US  2020-12-14  37.7693 -78.17   \n",
       "...     ...            ...            ...         ...      ...    ...   \n",
       "20355  51.0       Virginia             US  2021-11-28  37.7693 -78.17   \n",
       "20356  51.0       Virginia             US  2021-11-29  37.7693 -78.17   \n",
       "20357  51.0       Virginia             US  2021-11-30  37.7693 -78.17   \n",
       "20358  51.0       Virginia             US  2021-12-01  37.7693 -78.17   \n",
       "20359  51.0       Virginia             US  2021-12-02  37.7693 -78.17   \n",
       "\n",
       "       Combined_Key  People_Fully_Vaccinated  People_Partially_Vaccinated  \\\n",
       "20002  Virginia, US                      NaN                          NaN   \n",
       "20003  Virginia, US                      NaN                          NaN   \n",
       "20004  Virginia, US                      NaN                          NaN   \n",
       "20005  Virginia, US                      NaN                          NaN   \n",
       "20006  Virginia, US                      NaN                          NaN   \n",
       "...             ...                      ...                          ...   \n",
       "20355  Virginia, US                5524860.0                     877405.0   \n",
       "20356  Virginia, US                5537205.0                     907109.0   \n",
       "20357  Virginia, US                5542940.0                     908505.0   \n",
       "20358  Virginia, US                5551137.0                     908111.0   \n",
       "20359  Virginia, US                5565330.0                     907405.0   \n",
       "\n",
       "            time  \n",
       "20002 2020-12-10  \n",
       "20003 2020-12-11  \n",
       "20004 2020-12-12  \n",
       "20005 2020-12-13  \n",
       "20006 2020-12-14  \n",
       "...          ...  \n",
       "20355 2021-11-28  \n",
       "20356 2021-11-29  \n",
       "20357 2021-11-30  \n",
       "20358 2021-12-01  \n",
       "20359 2021-12-02  \n",
       "\n",
       "[358 rows x 10 columns]"
      ]
     },
     "execution_count": 445,
     "metadata": {},
     "output_type": "execute_result"
    }
   ],
   "source": [
    "e = ppl[(ppl.Province_State != \"Virginia\")].index\n",
    "f = ppl.drop(e)\n",
    "f[\"time\"] = pd.to_datetime(f[\"Date\"])\n",
    "f.sort_values(by=\"time\")"
   ]
  },
  {
   "cell_type": "code",
   "execution_count": 446,
   "id": "184ea455-ce8b-4c3b-9c79-8194e606634f",
   "metadata": {},
   "outputs": [
    {
     "data": {
      "text/plain": [
       "Index(['FIPS', 'Province_State', 'Country_Region', 'Date', 'Lat', 'Long_',\n",
       "       'Combined_Key', 'People_Fully_Vaccinated',\n",
       "       'People_Partially_Vaccinated', 'time', 'month'],\n",
       "      dtype='object')"
      ]
     },
     "execution_count": 446,
     "metadata": {},
     "output_type": "execute_result"
    }
   ],
   "source": [
    "f[\"month\"] = f[\"time\"].dt.month\n",
    "f.columns"
   ]
  },
  {
   "cell_type": "code",
   "execution_count": 447,
   "id": "e9df1580-b794-4c15-9c35-f193b4b09e4c",
   "metadata": {},
   "outputs": [],
   "source": [
    "f.drop(\n",
    "    columns=[\n",
    "        \"FIPS\",\n",
    "        \"Date\",\n",
    "        \"Lat\",\n",
    "        \"Long_\",\n",
    "        \"Combined_Key\",\n",
    "        \"Country_Region\",\n",
    "        \"People_Partially_Vaccinated\",\n",
    "    ],\n",
    "    inplace=True,\n",
    ")"
   ]
  },
  {
   "cell_type": "code",
   "execution_count": 448,
   "id": "a5d577c6-1d93-4e82-a7ea-07b23829389d",
   "metadata": {},
   "outputs": [],
   "source": [
    "f = f.set_index([\"time\"])\n",
    "f = f.loc[\"2021-1-1\":\"2021-11-16\"]"
   ]
  },
  {
   "cell_type": "code",
   "execution_count": 449,
   "id": "70344ecb-1e85-4513-8d8c-945b892aa5a1",
   "metadata": {},
   "outputs": [
    {
     "data": {
      "text/html": [
       "<div>\n",
       "<style scoped>\n",
       "    .dataframe tbody tr th:only-of-type {\n",
       "        vertical-align: middle;\n",
       "    }\n",
       "\n",
       "    .dataframe tbody tr th {\n",
       "        vertical-align: top;\n",
       "    }\n",
       "\n",
       "    .dataframe thead th {\n",
       "        text-align: right;\n",
       "    }\n",
       "</style>\n",
       "<table border=\"1\" class=\"dataframe\">\n",
       "  <thead>\n",
       "    <tr style=\"text-align: right;\">\n",
       "      <th></th>\n",
       "      <th>FIPS</th>\n",
       "      <th>Province_State</th>\n",
       "      <th>Country_Region</th>\n",
       "      <th>Date</th>\n",
       "      <th>Lat</th>\n",
       "      <th>Long_</th>\n",
       "      <th>Combined_Key</th>\n",
       "      <th>People_Fully_Vaccinated</th>\n",
       "      <th>People_Partially_Vaccinated</th>\n",
       "      <th>time</th>\n",
       "    </tr>\n",
       "  </thead>\n",
       "  <tbody>\n",
       "    <tr>\n",
       "      <th>9262</th>\n",
       "      <td>24.0</td>\n",
       "      <td>Maryland</td>\n",
       "      <td>US</td>\n",
       "      <td>2020-12-10</td>\n",
       "      <td>39.0639</td>\n",
       "      <td>-76.8021</td>\n",
       "      <td>Maryland, US</td>\n",
       "      <td>NaN</td>\n",
       "      <td>NaN</td>\n",
       "      <td>2020-12-10</td>\n",
       "    </tr>\n",
       "    <tr>\n",
       "      <th>9263</th>\n",
       "      <td>24.0</td>\n",
       "      <td>Maryland</td>\n",
       "      <td>US</td>\n",
       "      <td>2020-12-11</td>\n",
       "      <td>39.0639</td>\n",
       "      <td>-76.8021</td>\n",
       "      <td>Maryland, US</td>\n",
       "      <td>NaN</td>\n",
       "      <td>NaN</td>\n",
       "      <td>2020-12-11</td>\n",
       "    </tr>\n",
       "    <tr>\n",
       "      <th>9264</th>\n",
       "      <td>24.0</td>\n",
       "      <td>Maryland</td>\n",
       "      <td>US</td>\n",
       "      <td>2020-12-12</td>\n",
       "      <td>39.0639</td>\n",
       "      <td>-76.8021</td>\n",
       "      <td>Maryland, US</td>\n",
       "      <td>NaN</td>\n",
       "      <td>NaN</td>\n",
       "      <td>2020-12-12</td>\n",
       "    </tr>\n",
       "    <tr>\n",
       "      <th>9265</th>\n",
       "      <td>24.0</td>\n",
       "      <td>Maryland</td>\n",
       "      <td>US</td>\n",
       "      <td>2020-12-13</td>\n",
       "      <td>39.0639</td>\n",
       "      <td>-76.8021</td>\n",
       "      <td>Maryland, US</td>\n",
       "      <td>NaN</td>\n",
       "      <td>NaN</td>\n",
       "      <td>2020-12-13</td>\n",
       "    </tr>\n",
       "    <tr>\n",
       "      <th>9266</th>\n",
       "      <td>24.0</td>\n",
       "      <td>Maryland</td>\n",
       "      <td>US</td>\n",
       "      <td>2020-12-14</td>\n",
       "      <td>39.0639</td>\n",
       "      <td>-76.8021</td>\n",
       "      <td>Maryland, US</td>\n",
       "      <td>NaN</td>\n",
       "      <td>NaN</td>\n",
       "      <td>2020-12-14</td>\n",
       "    </tr>\n",
       "    <tr>\n",
       "      <th>...</th>\n",
       "      <td>...</td>\n",
       "      <td>...</td>\n",
       "      <td>...</td>\n",
       "      <td>...</td>\n",
       "      <td>...</td>\n",
       "      <td>...</td>\n",
       "      <td>...</td>\n",
       "      <td>...</td>\n",
       "      <td>...</td>\n",
       "      <td>...</td>\n",
       "    </tr>\n",
       "    <tr>\n",
       "      <th>9615</th>\n",
       "      <td>24.0</td>\n",
       "      <td>Maryland</td>\n",
       "      <td>US</td>\n",
       "      <td>2021-11-28</td>\n",
       "      <td>39.0639</td>\n",
       "      <td>-76.8021</td>\n",
       "      <td>Maryland, US</td>\n",
       "      <td>4077493.0</td>\n",
       "      <td>558406.0</td>\n",
       "      <td>2021-11-28</td>\n",
       "    </tr>\n",
       "    <tr>\n",
       "      <th>9616</th>\n",
       "      <td>24.0</td>\n",
       "      <td>Maryland</td>\n",
       "      <td>US</td>\n",
       "      <td>2021-11-29</td>\n",
       "      <td>39.0639</td>\n",
       "      <td>-76.8021</td>\n",
       "      <td>Maryland, US</td>\n",
       "      <td>4084557.0</td>\n",
       "      <td>566115.0</td>\n",
       "      <td>2021-11-29</td>\n",
       "    </tr>\n",
       "    <tr>\n",
       "      <th>9617</th>\n",
       "      <td>24.0</td>\n",
       "      <td>Maryland</td>\n",
       "      <td>US</td>\n",
       "      <td>2021-11-30</td>\n",
       "      <td>39.0639</td>\n",
       "      <td>-76.8021</td>\n",
       "      <td>Maryland, US</td>\n",
       "      <td>4090430.0</td>\n",
       "      <td>567404.0</td>\n",
       "      <td>2021-11-30</td>\n",
       "    </tr>\n",
       "    <tr>\n",
       "      <th>9618</th>\n",
       "      <td>24.0</td>\n",
       "      <td>Maryland</td>\n",
       "      <td>US</td>\n",
       "      <td>2021-12-01</td>\n",
       "      <td>39.0639</td>\n",
       "      <td>-76.8021</td>\n",
       "      <td>Maryland, US</td>\n",
       "      <td>4099736.0</td>\n",
       "      <td>565254.0</td>\n",
       "      <td>2021-12-01</td>\n",
       "    </tr>\n",
       "    <tr>\n",
       "      <th>9619</th>\n",
       "      <td>24.0</td>\n",
       "      <td>Maryland</td>\n",
       "      <td>US</td>\n",
       "      <td>2021-12-02</td>\n",
       "      <td>39.0639</td>\n",
       "      <td>-76.8021</td>\n",
       "      <td>Maryland, US</td>\n",
       "      <td>4108654.0</td>\n",
       "      <td>563875.0</td>\n",
       "      <td>2021-12-02</td>\n",
       "    </tr>\n",
       "  </tbody>\n",
       "</table>\n",
       "<p>358 rows × 10 columns</p>\n",
       "</div>"
      ],
      "text/plain": [
       "      FIPS Province_State Country_Region        Date      Lat    Long_  \\\n",
       "9262  24.0       Maryland             US  2020-12-10  39.0639 -76.8021   \n",
       "9263  24.0       Maryland             US  2020-12-11  39.0639 -76.8021   \n",
       "9264  24.0       Maryland             US  2020-12-12  39.0639 -76.8021   \n",
       "9265  24.0       Maryland             US  2020-12-13  39.0639 -76.8021   \n",
       "9266  24.0       Maryland             US  2020-12-14  39.0639 -76.8021   \n",
       "...    ...            ...            ...         ...      ...      ...   \n",
       "9615  24.0       Maryland             US  2021-11-28  39.0639 -76.8021   \n",
       "9616  24.0       Maryland             US  2021-11-29  39.0639 -76.8021   \n",
       "9617  24.0       Maryland             US  2021-11-30  39.0639 -76.8021   \n",
       "9618  24.0       Maryland             US  2021-12-01  39.0639 -76.8021   \n",
       "9619  24.0       Maryland             US  2021-12-02  39.0639 -76.8021   \n",
       "\n",
       "      Combined_Key  People_Fully_Vaccinated  People_Partially_Vaccinated  \\\n",
       "9262  Maryland, US                      NaN                          NaN   \n",
       "9263  Maryland, US                      NaN                          NaN   \n",
       "9264  Maryland, US                      NaN                          NaN   \n",
       "9265  Maryland, US                      NaN                          NaN   \n",
       "9266  Maryland, US                      NaN                          NaN   \n",
       "...            ...                      ...                          ...   \n",
       "9615  Maryland, US                4077493.0                     558406.0   \n",
       "9616  Maryland, US                4084557.0                     566115.0   \n",
       "9617  Maryland, US                4090430.0                     567404.0   \n",
       "9618  Maryland, US                4099736.0                     565254.0   \n",
       "9619  Maryland, US                4108654.0                     563875.0   \n",
       "\n",
       "           time  \n",
       "9262 2020-12-10  \n",
       "9263 2020-12-11  \n",
       "9264 2020-12-12  \n",
       "9265 2020-12-13  \n",
       "9266 2020-12-14  \n",
       "...         ...  \n",
       "9615 2021-11-28  \n",
       "9616 2021-11-29  \n",
       "9617 2021-11-30  \n",
       "9618 2021-12-01  \n",
       "9619 2021-12-02  \n",
       "\n",
       "[358 rows x 10 columns]"
      ]
     },
     "execution_count": 449,
     "metadata": {},
     "output_type": "execute_result"
    }
   ],
   "source": [
    "s = ppl[(ppl.Province_State != \"Maryland\")].index\n",
    "t = ppl.drop(s)\n",
    "t[\"time\"] = pd.to_datetime(t[\"Date\"])\n",
    "t.sort_values(by=\"time\")"
   ]
  },
  {
   "cell_type": "code",
   "execution_count": 450,
   "id": "caaa0c55-00fd-4d19-989f-10eeecafc9bb",
   "metadata": {},
   "outputs": [
    {
     "data": {
      "text/plain": [
       "Index(['FIPS', 'Province_State', 'Country_Region', 'Date', 'Lat', 'Long_',\n",
       "       'Combined_Key', 'People_Fully_Vaccinated',\n",
       "       'People_Partially_Vaccinated', 'time', 'month'],\n",
       "      dtype='object')"
      ]
     },
     "execution_count": 450,
     "metadata": {},
     "output_type": "execute_result"
    }
   ],
   "source": [
    "t[\"month\"] = t[\"time\"].dt.month\n",
    "t.columns"
   ]
  },
  {
   "cell_type": "code",
   "execution_count": 451,
   "id": "24da1fde-59d1-45c0-b6d6-09d541e687fc",
   "metadata": {},
   "outputs": [],
   "source": [
    "t.drop(\n",
    "    columns=[\n",
    "        \"FIPS\",\n",
    "        \"Date\",\n",
    "        \"Lat\",\n",
    "        \"Long_\",\n",
    "        \"Combined_Key\",\n",
    "        \"Country_Region\",\n",
    "        \"People_Partially_Vaccinated\",\n",
    "    ],\n",
    "    inplace=True,\n",
    ")"
   ]
  },
  {
   "cell_type": "code",
   "execution_count": 452,
   "id": "d6098273-5053-438d-8943-50560975e9c5",
   "metadata": {},
   "outputs": [],
   "source": [
    "t = t.set_index([\"time\"])\n",
    "t = t.loc[\"2021-1-1\":\"2021-11-16\"]"
   ]
  },
  {
   "cell_type": "code",
   "execution_count": 453,
   "id": "219cabf2-ed60-4164-af4a-510c3579fcd4",
   "metadata": {},
   "outputs": [],
   "source": [
    "t[\"Massachusetts\"] = a[\"People_Fully_Vaccinated\"]"
   ]
  },
  {
   "cell_type": "code",
   "execution_count": 454,
   "id": "149be850-d09a-4a0f-835c-c0f6d6520b1b",
   "metadata": {},
   "outputs": [],
   "source": [
    "t[\"Virginia\"] = f[\"People_Fully_Vaccinated\"]"
   ]
  },
  {
   "cell_type": "code",
   "execution_count": 455,
   "id": "eba9b511-791c-42c6-be5b-a8cd995c7f37",
   "metadata": {},
   "outputs": [],
   "source": [
    "t.drop(columns=[\"Province_State\"], inplace=True)\n",
    "t = t.set_index([\"month\"])\n",
    "t = t.rename(columns={\"People_Fully_Vaccinated\": \"Maryland\"})"
   ]
  },
  {
   "cell_type": "code",
   "execution_count": 456,
   "id": "777b383f-2c9e-499a-9b7f-f2c6365016a4",
   "metadata": {},
   "outputs": [
    {
     "data": {
      "text/plain": [
       "<AxesSubplot:xlabel='month'>"
      ]
     },
     "execution_count": 456,
     "metadata": {},
     "output_type": "execute_result"
    },
    {
     "data": {
      "image/png": "[encoded data removed]",
      "text/plain": [
       "<Figure size 432x288 with 1 Axes>"
      ]
     },
     "metadata": {
      "needs_background": "light"
     },
     "output_type": "display_data"
    }
   ],
   "source": [
    "sns.lineplot(data=t)"
   ]
  },
  {
   "cell_type": "code",
   "execution_count": 457,
   "id": "156df93e-b5c2-4f0c-b051-600bf4d489c0",
   "metadata": {},
   "outputs": [],
   "source": [
    "mas = case[(case.Province_State != \"Massachusetts\")].index\n",
    "mas = case.drop(mas)\n",
    "mas[\"time\"] = pd.to_datetime(mas[\"Last_Update\"])\n",
    "mas = mas.sort_values(by=\"time\")"
   ]
  },
  {
   "cell_type": "code",
   "execution_count": 458,
   "id": "6e7dd6af-7131-43b6-a019-3b2d3013c149",
   "metadata": {},
   "outputs": [
    {
     "data": {
      "text/plain": [
       "Index(['Province_State', 'Country_Region', 'Last_Update', 'Lat', 'Long_',\n",
       "       'Confirmed', 'Deaths', 'Recovered', 'Active', 'FIPS', 'Incident_Rate',\n",
       "       'Total_Test_Results', 'People_Hospitalized', 'Case_Fatality_Ratio',\n",
       "       'UID', 'ISO3', 'Testing_Rate', 'Hospitalization_Rate', 'time', 'month'],\n",
       "      dtype='object')"
      ]
     },
     "execution_count": 458,
     "metadata": {},
     "output_type": "execute_result"
    }
   ],
   "source": [
    "mas[\"month\"] = mas[\"time\"].dt.month\n",
    "mas.columns"
   ]
  },
  {
   "cell_type": "code",
   "execution_count": 459,
   "id": "e349c9ea-2bab-44a9-b3ce-42a64696c638",
   "metadata": {},
   "outputs": [],
   "source": [
    "mas.drop(\n",
    "    columns=[\n",
    "        \"Country_Region\",\n",
    "        \"Last_Update\",\n",
    "        \"Lat\",\n",
    "        \"Long_\",\n",
    "        \"FIPS\",\n",
    "        \"UID\",\n",
    "        \"ISO3\",\n",
    "        \"Testing_Rate\",\n",
    "        \"Hospitalization_Rate\",\n",
    "    ],\n",
    "    inplace=True,\n",
    ")"
   ]
  },
  {
   "cell_type": "code",
   "execution_count": 460,
   "id": "7103e63b-51df-4730-90bf-7cf979a7c78c",
   "metadata": {
    "collapsed": true,
    "jupyter": {
     "outputs_hidden": true
    },
    "tags": []
   },
   "outputs": [
    {
     "data": {
      "text/html": [
       "<div>\n",
       "<style scoped>\n",
       "    .dataframe tbody tr th:only-of-type {\n",
       "        vertical-align: middle;\n",
       "    }\n",
       "\n",
       "    .dataframe tbody tr th {\n",
       "        vertical-align: top;\n",
       "    }\n",
       "\n",
       "    .dataframe thead th {\n",
       "        text-align: right;\n",
       "    }\n",
       "</style>\n",
       "<table border=\"1\" class=\"dataframe\">\n",
       "  <thead>\n",
       "    <tr style=\"text-align: right;\">\n",
       "      <th></th>\n",
       "      <th>Province_State</th>\n",
       "      <th>Confirmed</th>\n",
       "      <th>Deaths</th>\n",
       "      <th>Recovered</th>\n",
       "      <th>Active</th>\n",
       "      <th>Incident_Rate</th>\n",
       "      <th>Total_Test_Results</th>\n",
       "      <th>People_Hospitalized</th>\n",
       "      <th>Case_Fatality_Ratio</th>\n",
       "      <th>month</th>\n",
       "    </tr>\n",
       "    <tr>\n",
       "      <th>time</th>\n",
       "      <th></th>\n",
       "      <th></th>\n",
       "      <th></th>\n",
       "      <th></th>\n",
       "      <th></th>\n",
       "      <th></th>\n",
       "      <th></th>\n",
       "      <th></th>\n",
       "      <th></th>\n",
       "      <th></th>\n",
       "    </tr>\n",
       "  </thead>\n",
       "  <tbody>\n",
       "    <tr>\n",
       "      <th>2021-01-02 05:30:44</th>\n",
       "      <td>Massachusetts</td>\n",
       "      <td>375178</td>\n",
       "      <td>12423</td>\n",
       "      <td>261672.0</td>\n",
       "      <td>101083.0</td>\n",
       "      <td>5443.276557</td>\n",
       "      <td>10944699.0</td>\n",
       "      <td>NaN</td>\n",
       "      <td>3.311228</td>\n",
       "      <td>1</td>\n",
       "    </tr>\n",
       "    <tr>\n",
       "      <th>2021-01-03 05:30:33</th>\n",
       "      <td>Massachusetts</td>\n",
       "      <td>384181</td>\n",
       "      <td>12502</td>\n",
       "      <td>261672.0</td>\n",
       "      <td>110007.0</td>\n",
       "      <td>5573.896740</td>\n",
       "      <td>11046093.0</td>\n",
       "      <td>NaN</td>\n",
       "      <td>3.254195</td>\n",
       "      <td>1</td>\n",
       "    </tr>\n",
       "    <tr>\n",
       "      <th>2021-01-04 05:30:45</th>\n",
       "      <td>Massachusetts</td>\n",
       "      <td>387662</td>\n",
       "      <td>12610</td>\n",
       "      <td>261672.0</td>\n",
       "      <td>113380.0</td>\n",
       "      <td>5624.400889</td>\n",
       "      <td>11090924.0</td>\n",
       "      <td>NaN</td>\n",
       "      <td>3.252834</td>\n",
       "      <td>1</td>\n",
       "    </tr>\n",
       "    <tr>\n",
       "      <th>2021-01-05 05:30:33</th>\n",
       "      <td>Massachusetts</td>\n",
       "      <td>392568</td>\n",
       "      <td>12671</td>\n",
       "      <td>261672.0</td>\n",
       "      <td>118225.0</td>\n",
       "      <td>5695.579675</td>\n",
       "      <td>11146494.0</td>\n",
       "      <td>NaN</td>\n",
       "      <td>3.227721</td>\n",
       "      <td>1</td>\n",
       "    </tr>\n",
       "    <tr>\n",
       "      <th>2021-01-06 05:30:39</th>\n",
       "      <td>Massachusetts</td>\n",
       "      <td>397202</td>\n",
       "      <td>12734</td>\n",
       "      <td>261672.0</td>\n",
       "      <td>122796.0</td>\n",
       "      <td>5762.812145</td>\n",
       "      <td>11206212.0</td>\n",
       "      <td>NaN</td>\n",
       "      <td>3.205925</td>\n",
       "      <td>1</td>\n",
       "    </tr>\n",
       "    <tr>\n",
       "      <th>...</th>\n",
       "      <td>...</td>\n",
       "      <td>...</td>\n",
       "      <td>...</td>\n",
       "      <td>...</td>\n",
       "      <td>...</td>\n",
       "      <td>...</td>\n",
       "      <td>...</td>\n",
       "      <td>...</td>\n",
       "      <td>...</td>\n",
       "      <td>...</td>\n",
       "    </tr>\n",
       "    <tr>\n",
       "      <th>2021-11-12 04:32:16</th>\n",
       "      <td>Massachusetts</td>\n",
       "      <td>869293</td>\n",
       "      <td>19138</td>\n",
       "      <td>NaN</td>\n",
       "      <td>NaN</td>\n",
       "      <td>12612.152653</td>\n",
       "      <td>31938436.0</td>\n",
       "      <td>NaN</td>\n",
       "      <td>2.201559</td>\n",
       "      <td>11</td>\n",
       "    </tr>\n",
       "    <tr>\n",
       "      <th>2021-11-13 04:32:40</th>\n",
       "      <td>Massachusetts</td>\n",
       "      <td>873281</td>\n",
       "      <td>19159</td>\n",
       "      <td>NaN</td>\n",
       "      <td>NaN</td>\n",
       "      <td>12670.012621</td>\n",
       "      <td>31938436.0</td>\n",
       "      <td>NaN</td>\n",
       "      <td>2.193910</td>\n",
       "      <td>11</td>\n",
       "    </tr>\n",
       "    <tr>\n",
       "      <th>2021-11-14 04:32:00</th>\n",
       "      <td>Massachusetts</td>\n",
       "      <td>873281</td>\n",
       "      <td>19159</td>\n",
       "      <td>NaN</td>\n",
       "      <td>NaN</td>\n",
       "      <td>12670.012621</td>\n",
       "      <td>32125866.0</td>\n",
       "      <td>NaN</td>\n",
       "      <td>2.193910</td>\n",
       "      <td>11</td>\n",
       "    </tr>\n",
       "    <tr>\n",
       "      <th>2021-11-15 04:32:31</th>\n",
       "      <td>Massachusetts</td>\n",
       "      <td>873281</td>\n",
       "      <td>19159</td>\n",
       "      <td>NaN</td>\n",
       "      <td>NaN</td>\n",
       "      <td>12670.012621</td>\n",
       "      <td>32125866.0</td>\n",
       "      <td>NaN</td>\n",
       "      <td>2.193910</td>\n",
       "      <td>11</td>\n",
       "    </tr>\n",
       "    <tr>\n",
       "      <th>2021-11-16 04:33:28</th>\n",
       "      <td>Massachusetts</td>\n",
       "      <td>879127</td>\n",
       "      <td>19189</td>\n",
       "      <td>NaN</td>\n",
       "      <td>NaN</td>\n",
       "      <td>12754.829414</td>\n",
       "      <td>32125866.0</td>\n",
       "      <td>NaN</td>\n",
       "      <td>2.182734</td>\n",
       "      <td>11</td>\n",
       "    </tr>\n",
       "  </tbody>\n",
       "</table>\n",
       "<p>319 rows × 10 columns</p>\n",
       "</div>"
      ],
      "text/plain": [
       "                    Province_State  Confirmed  Deaths  Recovered    Active  \\\n",
       "time                                                                         \n",
       "2021-01-02 05:30:44  Massachusetts     375178   12423   261672.0  101083.0   \n",
       "2021-01-03 05:30:33  Massachusetts     384181   12502   261672.0  110007.0   \n",
       "2021-01-04 05:30:45  Massachusetts     387662   12610   261672.0  113380.0   \n",
       "2021-01-05 05:30:33  Massachusetts     392568   12671   261672.0  118225.0   \n",
       "2021-01-06 05:30:39  Massachusetts     397202   12734   261672.0  122796.0   \n",
       "...                            ...        ...     ...        ...       ...   \n",
       "2021-11-12 04:32:16  Massachusetts     869293   19138        NaN       NaN   \n",
       "2021-11-13 04:32:40  Massachusetts     873281   19159        NaN       NaN   \n",
       "2021-11-14 04:32:00  Massachusetts     873281   19159        NaN       NaN   \n",
       "2021-11-15 04:32:31  Massachusetts     873281   19159        NaN       NaN   \n",
       "2021-11-16 04:33:28  Massachusetts     879127   19189        NaN       NaN   \n",
       "\n",
       "                     Incident_Rate  Total_Test_Results  People_Hospitalized  \\\n",
       "time                                                                          \n",
       "2021-01-02 05:30:44    5443.276557          10944699.0                  NaN   \n",
       "2021-01-03 05:30:33    5573.896740          11046093.0                  NaN   \n",
       "2021-01-04 05:30:45    5624.400889          11090924.0                  NaN   \n",
       "2021-01-05 05:30:33    5695.579675          11146494.0                  NaN   \n",
       "2021-01-06 05:30:39    5762.812145          11206212.0                  NaN   \n",
       "...                            ...                 ...                  ...   \n",
       "2021-11-12 04:32:16   12612.152653          31938436.0                  NaN   \n",
       "2021-11-13 04:32:40   12670.012621          31938436.0                  NaN   \n",
       "2021-11-14 04:32:00   12670.012621          32125866.0                  NaN   \n",
       "2021-11-15 04:32:31   12670.012621          32125866.0                  NaN   \n",
       "2021-11-16 04:33:28   12754.829414          32125866.0                  NaN   \n",
       "\n",
       "                     Case_Fatality_Ratio  month  \n",
       "time                                             \n",
       "2021-01-02 05:30:44             3.311228      1  \n",
       "2021-01-03 05:30:33             3.254195      1  \n",
       "2021-01-04 05:30:45             3.252834      1  \n",
       "2021-01-05 05:30:33             3.227721      1  \n",
       "2021-01-06 05:30:39             3.205925      1  \n",
       "...                                  ...    ...  \n",
       "2021-11-12 04:32:16             2.201559     11  \n",
       "2021-11-13 04:32:40             2.193910     11  \n",
       "2021-11-14 04:32:00             2.193910     11  \n",
       "2021-11-15 04:32:31             2.193910     11  \n",
       "2021-11-16 04:33:28             2.182734     11  \n",
       "\n",
       "[319 rows x 10 columns]"
      ]
     },
     "execution_count": 460,
     "metadata": {},
     "output_type": "execute_result"
    }
   ],
   "source": [
    "mas = mas.set_index([\"time\"])\n",
    "mas = mas.loc[\"2021-1-2\":\"2021-11-16\"]\n",
    "mas"
   ]
  },
  {
   "cell_type": "code",
   "execution_count": 461,
   "id": "52557a8f-6e33-45f0-8002-7eb3cabf1265",
   "metadata": {},
   "outputs": [],
   "source": [
    "a = case[(case.Province_State != \"Virginia\")].index\n",
    "b = case.drop(a)\n",
    "b[\"time\"] = pd.to_datetime(b[\"Last_Update\"])\n",
    "b = b.sort_values(by=\"time\")"
   ]
  },
  {
   "cell_type": "code",
   "execution_count": 462,
   "id": "51ad63f0-fe2a-40d6-a58d-26d3bb248d8e",
   "metadata": {},
   "outputs": [
    {
     "data": {
      "text/plain": [
       "Index(['Province_State', 'Country_Region', 'Last_Update', 'Lat', 'Long_',\n",
       "       'Confirmed', 'Deaths', 'Recovered', 'Active', 'FIPS', 'Incident_Rate',\n",
       "       'Total_Test_Results', 'People_Hospitalized', 'Case_Fatality_Ratio',\n",
       "       'UID', 'ISO3', 'Testing_Rate', 'Hospitalization_Rate', 'time', 'month'],\n",
       "      dtype='object')"
      ]
     },
     "execution_count": 462,
     "metadata": {},
     "output_type": "execute_result"
    }
   ],
   "source": [
    "b[\"month\"] = b[\"time\"].dt.month\n",
    "b.columns"
   ]
  },
  {
   "cell_type": "code",
   "execution_count": 463,
   "id": "e58dbf01-6b80-445f-a59e-7fe9947c8641",
   "metadata": {},
   "outputs": [],
   "source": [
    "b.drop(\n",
    "    columns=[\n",
    "        \"Country_Region\",\n",
    "        \"Last_Update\",\n",
    "        \"Lat\",\n",
    "        \"Long_\",\n",
    "        \"FIPS\",\n",
    "        \"UID\",\n",
    "        \"ISO3\",\n",
    "        \"Testing_Rate\",\n",
    "        \"Hospitalization_Rate\",\n",
    "    ],\n",
    "    inplace=True,\n",
    ")"
   ]
  },
  {
   "cell_type": "code",
   "execution_count": 464,
   "id": "1229fe71-39c3-40ff-82cf-af2964187668",
   "metadata": {
    "collapsed": true,
    "jupyter": {
     "outputs_hidden": true
    },
    "tags": []
   },
   "outputs": [
    {
     "data": {
      "text/html": [
       "<div>\n",
       "<style scoped>\n",
       "    .dataframe tbody tr th:only-of-type {\n",
       "        vertical-align: middle;\n",
       "    }\n",
       "\n",
       "    .dataframe tbody tr th {\n",
       "        vertical-align: top;\n",
       "    }\n",
       "\n",
       "    .dataframe thead th {\n",
       "        text-align: right;\n",
       "    }\n",
       "</style>\n",
       "<table border=\"1\" class=\"dataframe\">\n",
       "  <thead>\n",
       "    <tr style=\"text-align: right;\">\n",
       "      <th></th>\n",
       "      <th>Province_State</th>\n",
       "      <th>Confirmed</th>\n",
       "      <th>Deaths</th>\n",
       "      <th>Recovered</th>\n",
       "      <th>Active</th>\n",
       "      <th>Incident_Rate</th>\n",
       "      <th>Total_Test_Results</th>\n",
       "      <th>People_Hospitalized</th>\n",
       "      <th>Case_Fatality_Ratio</th>\n",
       "      <th>month</th>\n",
       "    </tr>\n",
       "    <tr>\n",
       "      <th>time</th>\n",
       "      <th></th>\n",
       "      <th></th>\n",
       "      <th></th>\n",
       "      <th></th>\n",
       "      <th></th>\n",
       "      <th></th>\n",
       "      <th></th>\n",
       "      <th></th>\n",
       "      <th></th>\n",
       "      <th></th>\n",
       "    </tr>\n",
       "  </thead>\n",
       "  <tbody>\n",
       "    <tr>\n",
       "      <th>2021-01-02 05:30:44</th>\n",
       "      <td>Virginia</td>\n",
       "      <td>354766</td>\n",
       "      <td>5081</td>\n",
       "      <td>30964.0</td>\n",
       "      <td>318721.0</td>\n",
       "      <td>4156.349485</td>\n",
       "      <td>4291320.0</td>\n",
       "      <td>NaN</td>\n",
       "      <td>1.432212</td>\n",
       "      <td>1</td>\n",
       "    </tr>\n",
       "    <tr>\n",
       "      <th>2021-01-03 05:30:33</th>\n",
       "      <td>Virginia</td>\n",
       "      <td>358755</td>\n",
       "      <td>5117</td>\n",
       "      <td>31182.0</td>\n",
       "      <td>322456.0</td>\n",
       "      <td>4203.083609</td>\n",
       "      <td>4337939.0</td>\n",
       "      <td>NaN</td>\n",
       "      <td>1.426322</td>\n",
       "      <td>1</td>\n",
       "    </tr>\n",
       "    <tr>\n",
       "      <th>2021-01-04 05:30:45</th>\n",
       "      <td>Virginia</td>\n",
       "      <td>363765</td>\n",
       "      <td>5124</td>\n",
       "      <td>31368.0</td>\n",
       "      <td>327273.0</td>\n",
       "      <td>4261.779512</td>\n",
       "      <td>4365480.0</td>\n",
       "      <td>NaN</td>\n",
       "      <td>1.408602</td>\n",
       "      <td>1</td>\n",
       "    </tr>\n",
       "    <tr>\n",
       "      <th>2021-01-05 05:30:33</th>\n",
       "      <td>Virginia</td>\n",
       "      <td>367536</td>\n",
       "      <td>5132</td>\n",
       "      <td>31561.0</td>\n",
       "      <td>330843.0</td>\n",
       "      <td>4305.959602</td>\n",
       "      <td>4383477.0</td>\n",
       "      <td>NaN</td>\n",
       "      <td>1.396326</td>\n",
       "      <td>1</td>\n",
       "    </tr>\n",
       "    <tr>\n",
       "      <th>2021-01-06 05:30:39</th>\n",
       "      <td>Virginia</td>\n",
       "      <td>371913</td>\n",
       "      <td>5191</td>\n",
       "      <td>31735.0</td>\n",
       "      <td>334987.0</td>\n",
       "      <td>4357.239437</td>\n",
       "      <td>4404641.0</td>\n",
       "      <td>NaN</td>\n",
       "      <td>1.395757</td>\n",
       "      <td>1</td>\n",
       "    </tr>\n",
       "    <tr>\n",
       "      <th>...</th>\n",
       "      <td>...</td>\n",
       "      <td>...</td>\n",
       "      <td>...</td>\n",
       "      <td>...</td>\n",
       "      <td>...</td>\n",
       "      <td>...</td>\n",
       "      <td>...</td>\n",
       "      <td>...</td>\n",
       "      <td>...</td>\n",
       "      <td>...</td>\n",
       "    </tr>\n",
       "    <tr>\n",
       "      <th>2021-11-12 04:32:16</th>\n",
       "      <td>Virginia</td>\n",
       "      <td>941371</td>\n",
       "      <td>14294</td>\n",
       "      <td>NaN</td>\n",
       "      <td>NaN</td>\n",
       "      <td>11028.866552</td>\n",
       "      <td>10122121.0</td>\n",
       "      <td>NaN</td>\n",
       "      <td>1.518424</td>\n",
       "      <td>11</td>\n",
       "    </tr>\n",
       "    <tr>\n",
       "      <th>2021-11-13 04:32:40</th>\n",
       "      <td>Virginia</td>\n",
       "      <td>942837</td>\n",
       "      <td>14321</td>\n",
       "      <td>NaN</td>\n",
       "      <td>NaN</td>\n",
       "      <td>11046.041840</td>\n",
       "      <td>10145595.0</td>\n",
       "      <td>NaN</td>\n",
       "      <td>1.518926</td>\n",
       "      <td>11</td>\n",
       "    </tr>\n",
       "    <tr>\n",
       "      <th>2021-11-14 04:32:00</th>\n",
       "      <td>Virginia</td>\n",
       "      <td>942837</td>\n",
       "      <td>14321</td>\n",
       "      <td>NaN</td>\n",
       "      <td>NaN</td>\n",
       "      <td>11046.041840</td>\n",
       "      <td>10166445.0</td>\n",
       "      <td>NaN</td>\n",
       "      <td>1.518926</td>\n",
       "      <td>11</td>\n",
       "    </tr>\n",
       "    <tr>\n",
       "      <th>2021-11-15 04:32:31</th>\n",
       "      <td>Virginia</td>\n",
       "      <td>942837</td>\n",
       "      <td>14321</td>\n",
       "      <td>NaN</td>\n",
       "      <td>NaN</td>\n",
       "      <td>11046.041840</td>\n",
       "      <td>10166445.0</td>\n",
       "      <td>NaN</td>\n",
       "      <td>1.518926</td>\n",
       "      <td>11</td>\n",
       "    </tr>\n",
       "    <tr>\n",
       "      <th>2021-11-16 04:33:28</th>\n",
       "      <td>Virginia</td>\n",
       "      <td>946061</td>\n",
       "      <td>14392</td>\n",
       "      <td>NaN</td>\n",
       "      <td>NaN</td>\n",
       "      <td>11083.813415</td>\n",
       "      <td>10166445.0</td>\n",
       "      <td>NaN</td>\n",
       "      <td>1.521255</td>\n",
       "      <td>11</td>\n",
       "    </tr>\n",
       "  </tbody>\n",
       "</table>\n",
       "<p>319 rows × 10 columns</p>\n",
       "</div>"
      ],
      "text/plain": [
       "                    Province_State  Confirmed  Deaths  Recovered    Active  \\\n",
       "time                                                                         \n",
       "2021-01-02 05:30:44       Virginia     354766    5081    30964.0  318721.0   \n",
       "2021-01-03 05:30:33       Virginia     358755    5117    31182.0  322456.0   \n",
       "2021-01-04 05:30:45       Virginia     363765    5124    31368.0  327273.0   \n",
       "2021-01-05 05:30:33       Virginia     367536    5132    31561.0  330843.0   \n",
       "2021-01-06 05:30:39       Virginia     371913    5191    31735.0  334987.0   \n",
       "...                            ...        ...     ...        ...       ...   \n",
       "2021-11-12 04:32:16       Virginia     941371   14294        NaN       NaN   \n",
       "2021-11-13 04:32:40       Virginia     942837   14321        NaN       NaN   \n",
       "2021-11-14 04:32:00       Virginia     942837   14321        NaN       NaN   \n",
       "2021-11-15 04:32:31       Virginia     942837   14321        NaN       NaN   \n",
       "2021-11-16 04:33:28       Virginia     946061   14392        NaN       NaN   \n",
       "\n",
       "                     Incident_Rate  Total_Test_Results  People_Hospitalized  \\\n",
       "time                                                                          \n",
       "2021-01-02 05:30:44    4156.349485           4291320.0                  NaN   \n",
       "2021-01-03 05:30:33    4203.083609           4337939.0                  NaN   \n",
       "2021-01-04 05:30:45    4261.779512           4365480.0                  NaN   \n",
       "2021-01-05 05:30:33    4305.959602           4383477.0                  NaN   \n",
       "2021-01-06 05:30:39    4357.239437           4404641.0                  NaN   \n",
       "...                            ...                 ...                  ...   \n",
       "2021-11-12 04:32:16   11028.866552          10122121.0                  NaN   \n",
       "2021-11-13 04:32:40   11046.041840          10145595.0                  NaN   \n",
       "2021-11-14 04:32:00   11046.041840          10166445.0                  NaN   \n",
       "2021-11-15 04:32:31   11046.041840          10166445.0                  NaN   \n",
       "2021-11-16 04:33:28   11083.813415          10166445.0                  NaN   \n",
       "\n",
       "                     Case_Fatality_Ratio  month  \n",
       "time                                             \n",
       "2021-01-02 05:30:44             1.432212      1  \n",
       "2021-01-03 05:30:33             1.426322      1  \n",
       "2021-01-04 05:30:45             1.408602      1  \n",
       "2021-01-05 05:30:33             1.396326      1  \n",
       "2021-01-06 05:30:39             1.395757      1  \n",
       "...                                  ...    ...  \n",
       "2021-11-12 04:32:16             1.518424     11  \n",
       "2021-11-13 04:32:40             1.518926     11  \n",
       "2021-11-14 04:32:00             1.518926     11  \n",
       "2021-11-15 04:32:31             1.518926     11  \n",
       "2021-11-16 04:33:28             1.521255     11  \n",
       "\n",
       "[319 rows x 10 columns]"
      ]
     },
     "execution_count": 464,
     "metadata": {},
     "output_type": "execute_result"
    }
   ],
   "source": [
    "c = b.set_index([\"time\"])\n",
    "c = c.loc[\"2021-1-2\":\"2021-11-16\"]\n",
    "c"
   ]
  },
  {
   "cell_type": "code",
   "execution_count": 465,
   "id": "9771413d-e6de-4005-bd9b-a97493d67cbf",
   "metadata": {},
   "outputs": [],
   "source": [
    "d = case[(case.Province_State != \"Maryland\")].index\n",
    "e = case.drop(d)\n",
    "e[\"time\"] = pd.to_datetime(e[\"Last_Update\"])\n",
    "e = e.sort_values(by=\"time\")"
   ]
  },
  {
   "cell_type": "code",
   "execution_count": 466,
   "id": "34ff1bbf-c30d-423a-8fcf-d3fd89f7b7fe",
   "metadata": {},
   "outputs": [
    {
     "data": {
      "text/plain": [
       "Index(['Province_State', 'Country_Region', 'Last_Update', 'Lat', 'Long_',\n",
       "       'Confirmed', 'Deaths', 'Recovered', 'Active', 'FIPS', 'Incident_Rate',\n",
       "       'Total_Test_Results', 'People_Hospitalized', 'Case_Fatality_Ratio',\n",
       "       'UID', 'ISO3', 'Testing_Rate', 'Hospitalization_Rate', 'time', 'month'],\n",
       "      dtype='object')"
      ]
     },
     "execution_count": 466,
     "metadata": {},
     "output_type": "execute_result"
    }
   ],
   "source": [
    "e[\"month\"] = e[\"time\"].dt.month\n",
    "e.columns"
   ]
  },
  {
   "cell_type": "code",
   "execution_count": 467,
   "id": "e359c5ca-38db-4078-b67c-67f3c8680fc3",
   "metadata": {},
   "outputs": [],
   "source": [
    "e.drop(\n",
    "    columns=[\n",
    "        \"Province_State\",\n",
    "        \"Country_Region\",\n",
    "        \"Last_Update\",\n",
    "        \"Lat\",\n",
    "        \"Long_\",\n",
    "        \"Deaths\",\n",
    "        \"Recovered\",\n",
    "        \"Active\",\n",
    "        \"FIPS\",\n",
    "        \"Incident_Rate\",\n",
    "        \"Total_Test_Results\",\n",
    "        \"People_Hospitalized\",\n",
    "        \"Case_Fatality_Ratio\",\n",
    "        \"UID\",\n",
    "        \"ISO3\",\n",
    "        \"Testing_Rate\",\n",
    "        \"Hospitalization_Rate\",\n",
    "    ],\n",
    "    inplace=True,\n",
    ")"
   ]
  },
  {
   "cell_type": "code",
   "execution_count": 468,
   "id": "20df28b4-9a92-4715-a5ee-60eb11a365d7",
   "metadata": {},
   "outputs": [
    {
     "data": {
      "text/html": [
       "<div>\n",
       "<style scoped>\n",
       "    .dataframe tbody tr th:only-of-type {\n",
       "        vertical-align: middle;\n",
       "    }\n",
       "\n",
       "    .dataframe tbody tr th {\n",
       "        vertical-align: top;\n",
       "    }\n",
       "\n",
       "    .dataframe thead th {\n",
       "        text-align: right;\n",
       "    }\n",
       "</style>\n",
       "<table border=\"1\" class=\"dataframe\">\n",
       "  <thead>\n",
       "    <tr style=\"text-align: right;\">\n",
       "      <th></th>\n",
       "      <th>Confirmed</th>\n",
       "      <th>month</th>\n",
       "    </tr>\n",
       "    <tr>\n",
       "      <th>time</th>\n",
       "      <th></th>\n",
       "      <th></th>\n",
       "    </tr>\n",
       "  </thead>\n",
       "  <tbody>\n",
       "    <tr>\n",
       "      <th>2021-01-02 05:30:44</th>\n",
       "      <td>280219</td>\n",
       "      <td>1</td>\n",
       "    </tr>\n",
       "    <tr>\n",
       "      <th>2021-01-03 05:30:33</th>\n",
       "      <td>283171</td>\n",
       "      <td>1</td>\n",
       "    </tr>\n",
       "    <tr>\n",
       "      <th>2021-01-04 05:30:45</th>\n",
       "      <td>285319</td>\n",
       "      <td>1</td>\n",
       "    </tr>\n",
       "    <tr>\n",
       "      <th>2021-01-05 05:30:33</th>\n",
       "      <td>287802</td>\n",
       "      <td>1</td>\n",
       "    </tr>\n",
       "    <tr>\n",
       "      <th>2021-01-06 05:30:39</th>\n",
       "      <td>289758</td>\n",
       "      <td>1</td>\n",
       "    </tr>\n",
       "    <tr>\n",
       "      <th>...</th>\n",
       "      <td>...</td>\n",
       "      <td>...</td>\n",
       "    </tr>\n",
       "    <tr>\n",
       "      <th>2021-11-12 04:32:16</th>\n",
       "      <td>568914</td>\n",
       "      <td>11</td>\n",
       "    </tr>\n",
       "    <tr>\n",
       "      <th>2021-11-13 04:32:40</th>\n",
       "      <td>569823</td>\n",
       "      <td>11</td>\n",
       "    </tr>\n",
       "    <tr>\n",
       "      <th>2021-11-14 04:32:00</th>\n",
       "      <td>570806</td>\n",
       "      <td>11</td>\n",
       "    </tr>\n",
       "    <tr>\n",
       "      <th>2021-11-15 04:32:31</th>\n",
       "      <td>571625</td>\n",
       "      <td>11</td>\n",
       "    </tr>\n",
       "    <tr>\n",
       "      <th>2021-11-16 04:33:28</th>\n",
       "      <td>572342</td>\n",
       "      <td>11</td>\n",
       "    </tr>\n",
       "  </tbody>\n",
       "</table>\n",
       "<p>319 rows × 2 columns</p>\n",
       "</div>"
      ],
      "text/plain": [
       "                     Confirmed  month\n",
       "time                                 \n",
       "2021-01-02 05:30:44     280219      1\n",
       "2021-01-03 05:30:33     283171      1\n",
       "2021-01-04 05:30:45     285319      1\n",
       "2021-01-05 05:30:33     287802      1\n",
       "2021-01-06 05:30:39     289758      1\n",
       "...                        ...    ...\n",
       "2021-11-12 04:32:16     568914     11\n",
       "2021-11-13 04:32:40     569823     11\n",
       "2021-11-14 04:32:00     570806     11\n",
       "2021-11-15 04:32:31     571625     11\n",
       "2021-11-16 04:33:28     572342     11\n",
       "\n",
       "[319 rows x 2 columns]"
      ]
     },
     "execution_count": 468,
     "metadata": {},
     "output_type": "execute_result"
    }
   ],
   "source": [
    "r = e.set_index([\"time\"])\n",
    "r = r.loc[\"2021-1-2\":\"2021-11-16\"]\n",
    "r"
   ]
  },
  {
   "cell_type": "code",
   "execution_count": 469,
   "id": "bb131a73-5c3a-4c65-bfe2-6e14668edbdf",
   "metadata": {},
   "outputs": [],
   "source": [
    "r[\"Massachusetts\"] = mas[\"Confirmed\"]"
   ]
  },
  {
   "cell_type": "code",
   "execution_count": 470,
   "id": "f54e519f-c44c-4b0a-9320-a8501417ae54",
   "metadata": {},
   "outputs": [],
   "source": [
    "r[\"Virginia\"] = c[\"Confirmed\"]"
   ]
  },
  {
   "cell_type": "code",
   "execution_count": 471,
   "id": "1b5fa4f2-c51e-49a0-b5ed-eb41cd359f3f",
   "metadata": {},
   "outputs": [
    {
     "data": {
      "text/html": [
       "<div>\n",
       "<style scoped>\n",
       "    .dataframe tbody tr th:only-of-type {\n",
       "        vertical-align: middle;\n",
       "    }\n",
       "\n",
       "    .dataframe tbody tr th {\n",
       "        vertical-align: top;\n",
       "    }\n",
       "\n",
       "    .dataframe thead th {\n",
       "        text-align: right;\n",
       "    }\n",
       "</style>\n",
       "<table border=\"1\" class=\"dataframe\">\n",
       "  <thead>\n",
       "    <tr style=\"text-align: right;\">\n",
       "      <th></th>\n",
       "      <th>Maryland</th>\n",
       "      <th>Massachusetts</th>\n",
       "      <th>Virginia</th>\n",
       "    </tr>\n",
       "    <tr>\n",
       "      <th>month</th>\n",
       "      <th></th>\n",
       "      <th></th>\n",
       "      <th></th>\n",
       "    </tr>\n",
       "  </thead>\n",
       "  <tbody>\n",
       "    <tr>\n",
       "      <th>1</th>\n",
       "      <td>280219</td>\n",
       "      <td>375178</td>\n",
       "      <td>354766</td>\n",
       "    </tr>\n",
       "    <tr>\n",
       "      <th>1</th>\n",
       "      <td>283171</td>\n",
       "      <td>384181</td>\n",
       "      <td>358755</td>\n",
       "    </tr>\n",
       "    <tr>\n",
       "      <th>1</th>\n",
       "      <td>285319</td>\n",
       "      <td>387662</td>\n",
       "      <td>363765</td>\n",
       "    </tr>\n",
       "    <tr>\n",
       "      <th>1</th>\n",
       "      <td>287802</td>\n",
       "      <td>392568</td>\n",
       "      <td>367536</td>\n",
       "    </tr>\n",
       "    <tr>\n",
       "      <th>1</th>\n",
       "      <td>289758</td>\n",
       "      <td>397202</td>\n",
       "      <td>371913</td>\n",
       "    </tr>\n",
       "    <tr>\n",
       "      <th>...</th>\n",
       "      <td>...</td>\n",
       "      <td>...</td>\n",
       "      <td>...</td>\n",
       "    </tr>\n",
       "    <tr>\n",
       "      <th>11</th>\n",
       "      <td>568914</td>\n",
       "      <td>869293</td>\n",
       "      <td>941371</td>\n",
       "    </tr>\n",
       "    <tr>\n",
       "      <th>11</th>\n",
       "      <td>569823</td>\n",
       "      <td>873281</td>\n",
       "      <td>942837</td>\n",
       "    </tr>\n",
       "    <tr>\n",
       "      <th>11</th>\n",
       "      <td>570806</td>\n",
       "      <td>873281</td>\n",
       "      <td>942837</td>\n",
       "    </tr>\n",
       "    <tr>\n",
       "      <th>11</th>\n",
       "      <td>571625</td>\n",
       "      <td>873281</td>\n",
       "      <td>942837</td>\n",
       "    </tr>\n",
       "    <tr>\n",
       "      <th>11</th>\n",
       "      <td>572342</td>\n",
       "      <td>879127</td>\n",
       "      <td>946061</td>\n",
       "    </tr>\n",
       "  </tbody>\n",
       "</table>\n",
       "<p>319 rows × 3 columns</p>\n",
       "</div>"
      ],
      "text/plain": [
       "       Maryland  Massachusetts  Virginia\n",
       "month                                   \n",
       "1        280219         375178    354766\n",
       "1        283171         384181    358755\n",
       "1        285319         387662    363765\n",
       "1        287802         392568    367536\n",
       "1        289758         397202    371913\n",
       "...         ...            ...       ...\n",
       "11       568914         869293    941371\n",
       "11       569823         873281    942837\n",
       "11       570806         873281    942837\n",
       "11       571625         873281    942837\n",
       "11       572342         879127    946061\n",
       "\n",
       "[319 rows x 3 columns]"
      ]
     },
     "execution_count": 471,
     "metadata": {},
     "output_type": "execute_result"
    }
   ],
   "source": [
    "r = r.set_index([\"month\"])\n",
    "r = r.rename(columns={\"Confirmed\": \"Maryland\"})\n",
    "r"
   ]
  },
  {
   "cell_type": "code",
   "execution_count": 472,
   "id": "181c5542-3e5f-4e1c-af76-4a605b8d0fc5",
   "metadata": {},
   "outputs": [
    {
     "data": {
      "text/plain": [
       "<AxesSubplot:xlabel='month'>"
      ]
     },
     "execution_count": 472,
     "metadata": {},
     "output_type": "execute_result"
    },
    {
     "data": {
      "image/png": "[encoded data removed]",
      "text/plain": [
       "<Figure size 432x288 with 1 Axes>"
      ]
     },
     "metadata": {
      "needs_background": "light"
     },
     "output_type": "display_data"
    }
   ],
   "source": [
    "sns.lineplot(data=r)"
   ]
  },
  {
   "cell_type": "code",
   "execution_count": 473,
   "id": "deb9d56d-e3e0-433e-aecc-2031dc0c4a90",
   "metadata": {},
   "outputs": [
    {
     "data": {
      "text/plain": [
       "<AxesSubplot:xlabel='month'>"
      ]
     },
     "execution_count": 473,
     "metadata": {},
     "output_type": "execute_result"
    },
    {
     "data": {
      "image/png": "[encoded data removed]",
      "text/plain": [
       "<Figure size 432x288 with 1 Axes>"
      ]
     },
     "metadata": {
      "needs_background": "light"
     },
     "output_type": "display_data"
    }
   ],
   "source": [
    "sns.lineplot(data=t)"
   ]
  },
  {
   "cell_type": "code",
   "execution_count": 474,
   "id": "e8e2f19f-d7a7-4e4e-8afe-077a78d9a16c",
   "metadata": {},
   "outputs": [
    {
     "data": {
      "text/plain": [
       "<AxesSubplot:xlabel='month'>"
      ]
     },
     "execution_count": 474,
     "metadata": {},
     "output_type": "execute_result"
    },
    {
     "data": {
      "image/png": "[encoded data removed]",
      "text/plain": [
       "<Figure size 432x288 with 2 Axes>"
      ]
     },
     "metadata": {
      "needs_background": "light"
     },
     "output_type": "display_data"
    }
   ],
   "source": [
    "f = plt.figure()\n",
    "\n",
    "f.add_subplot(2, 1, 1)\n",
    "\n",
    "sns.lineplot(data=r)\n",
    "\n",
    "f.add_subplot(2, 1, 2)\n",
    "\n",
    "sns.lineplot(data=t)"
   ]
  },
  {
   "cell_type": "markdown",
   "id": "e81b2bf3-a0f1-4730-b6a9-63171dc6c539",
   "metadata": {},
   "source": [
    "### Given the data, we want to know the effectiveness of the vaccines.\n",
    "### In order to analyze, we decide to use a comparison graph of cumulative fully vaccinated people and confirmed cases\n",
    "### To avoid outlier, we choose three stats based on its population.\n",
    "### Which are Maryland, Massachusetts and Virginia.\n",
    "\n",
    "### Before we get to our analysis, let me briefly talked about how we make the graph and what is on the graph.\n",
    "### Given the dataset, first thing we did is to clear our data, so only fully vaccinated people and confirmed case would be\n",
    "### in our final dataset.\n",
    "### Then, we rank it by time so that we can have a clear sense of the graph.\n",
    "### Last by not least, we only want data between 2021-1-2 and 2021-11-16, because that is around the time people start to get\n",
    "### vaccinated.\n",
    "### As you can see on the first graph, the x-axis is month and y-axis is confirmed case.\n",
    "### On the second graph, the x-axis is month and y-axis is fully vaccinated people.\n",
    "### the reason we did not combine two graph is due to the total number of fully vaccinated people is way beyond the total\n",
    "### number of confirmed case.\n",
    "\n",
    "### For the second graph, we can see that from January to June, the graowth rate of people getting vaccinated is concave up\n",
    "### after June, the graowth rate gradually reduced. Mainly caused by the fact that majority of people have been vaccinated.\n",
    "\n",
    "### For the first graph, we can see, thanks to the vaccine, the growth rate of confirmed case is concave down.\n",
    "### Meaning even though there is more people getting covid, but the spread has been gradually controlled.\n",
    "### However, we can see from August to November, the growth rate has changed to concave up,\n",
    "### Meaning the spread is accelarating.\n",
    "### As you may remeber, that is around the time we discover Deata Variant, a variant that is much more destructive.\n",
    "### Also, since majority of people has been vaccinated, people start being less protective of themseleves,\n",
    "### Given us more exposure to the new variant.\n",
    "### In short, based on our analysis, vaccine is the best way to fight virus.\n",
    "### Given the current accelrated spread of virus, it would be a better choice to have a booster shot and wear masks."
   ]
  },
  {
   "cell_type": "markdown",
   "id": "8b8370f9-2e7b-472f-af63-d8df5c8a3a00",
   "metadata": {},
   "source": [
    "## Question 3\n",
    "## During thanksgiving holidays and Christmas hoilday 2020, did cases/ death increase significantly ?"
   ]
  },
  {
   "cell_type": "code",
   "execution_count": null,
   "id": "3e754720-2856-41bc-b3e4-7a84fbc97af4",
   "metadata": {},
   "outputs": [],
   "source": []
  },
  {
   "cell_type": "code",
   "execution_count": 4,
   "id": "f25f9047-d211-4c5b-a904-bd04be5acfee",
   "metadata": {
    "collapsed": true,
    "jupyter": {
     "outputs_hidden": true
    },
    "tags": []
   },
   "outputs": [
    {
     "name": "stdout",
     "output_type": "stream",
     "text": [
      " * postgresql://student@/neel\n",
      "20 rows affected.\n"
     ]
    },
    {
     "data": {
      "text/html": [
       "<table>\n",
       "    <thead>\n",
       "        <tr>\n",
       "            <th>province_state</th>\n",
       "            <th>country_region</th>\n",
       "            <th>last_update</th>\n",
       "            <th>lat</th>\n",
       "            <th>long_</th>\n",
       "            <th>confirmed</th>\n",
       "            <th>deaths</th>\n",
       "            <th>recovered</th>\n",
       "            <th>active</th>\n",
       "            <th>fips</th>\n",
       "            <th>incident_rate</th>\n",
       "            <th>total_test_results</th>\n",
       "            <th>people_hospitalized</th>\n",
       "            <th>case_fatality_ratio</th>\n",
       "            <th>uid</th>\n",
       "            <th>iso3</th>\n",
       "            <th>testing_rate</th>\n",
       "            <th>hospitalization_rate</th>\n",
       "        </tr>\n",
       "    </thead>\n",
       "    <tbody>\n",
       "        <tr>\n",
       "            <td>District of Columbia</td>\n",
       "            <td>US</td>\n",
       "            <td>2021-01-02 05:30:44</td>\n",
       "            <td>38.8974</td>\n",
       "            <td>-77.0268</td>\n",
       "            <td>29252</td>\n",
       "            <td>788</td>\n",
       "            <td>20941.0</td>\n",
       "            <td>7523.0</td>\n",
       "            <td>11.0</td>\n",
       "            <td>4144.816358223675</td>\n",
       "            <td>904302.0</td>\n",
       "            <td>None</td>\n",
       "            <td>2.6938329003145083</td>\n",
       "            <td>84000011.0</td>\n",
       "            <td>USA</td>\n",
       "            <td>128133.65658328953</td>\n",
       "            <td>None</td>\n",
       "        </tr>\n",
       "        <tr>\n",
       "            <td>District of Columbia</td>\n",
       "            <td>US</td>\n",
       "            <td>2021-01-03 05:30:33</td>\n",
       "            <td>38.8974</td>\n",
       "            <td>-77.0268</td>\n",
       "            <td>29509</td>\n",
       "            <td>792</td>\n",
       "            <td>21002.0</td>\n",
       "            <td>7715.0</td>\n",
       "            <td>11.0</td>\n",
       "            <td>4181.231570997621</td>\n",
       "            <td>911378.0</td>\n",
       "            <td>None</td>\n",
       "            <td>2.683926937544478</td>\n",
       "            <td>84000011.0</td>\n",
       "            <td>USA</td>\n",
       "            <td>129136.27932876984</td>\n",
       "            <td>None</td>\n",
       "        </tr>\n",
       "        <tr>\n",
       "            <td>District of Columbia</td>\n",
       "            <td>US</td>\n",
       "            <td>2021-01-04 05:30:45</td>\n",
       "            <td>38.8974</td>\n",
       "            <td>-77.0268</td>\n",
       "            <td>29764</td>\n",
       "            <td>794</td>\n",
       "            <td>21072.0</td>\n",
       "            <td>7898.0</td>\n",
       "            <td>11.0</td>\n",
       "            <td>4217.363396901731</td>\n",
       "            <td>918000.0</td>\n",
       "            <td>None</td>\n",
       "            <td>2.667652197285311</td>\n",
       "            <td>84000011.0</td>\n",
       "            <td>USA</td>\n",
       "            <td>130074.5732547974</td>\n",
       "            <td>None</td>\n",
       "        </tr>\n",
       "        <tr>\n",
       "            <td>District of Columbia</td>\n",
       "            <td>US</td>\n",
       "            <td>2021-01-05 05:30:33</td>\n",
       "            <td>38.8974</td>\n",
       "            <td>-77.0268</td>\n",
       "            <td>29904</td>\n",
       "            <td>797</td>\n",
       "            <td>21127.0</td>\n",
       "            <td>7980.0</td>\n",
       "            <td>11.0</td>\n",
       "            <td>4237.200477790263</td>\n",
       "            <td>921119.0</td>\n",
       "            <td>None</td>\n",
       "            <td>2.6651952915997863</td>\n",
       "            <td>84000011.0</td>\n",
       "            <td>USA</td>\n",
       "            <td>130516.51507830688</td>\n",
       "            <td>None</td>\n",
       "        </tr>\n",
       "        <tr>\n",
       "            <td>District of Columbia</td>\n",
       "            <td>US</td>\n",
       "            <td>2021-01-06 05:30:39</td>\n",
       "            <td>38.8974</td>\n",
       "            <td>-77.0268</td>\n",
       "            <td>30166</td>\n",
       "            <td>801</td>\n",
       "            <td>21337.0</td>\n",
       "            <td>8028.0</td>\n",
       "            <td>11.0</td>\n",
       "            <td>4274.3241577388</td>\n",
       "            <td>926717.0</td>\n",
       "            <td>None</td>\n",
       "            <td>2.655307299608831</td>\n",
       "            <td>84000011.0</td>\n",
       "            <td>USA</td>\n",
       "            <td>131309.71492697828</td>\n",
       "            <td>None</td>\n",
       "        </tr>\n",
       "        <tr>\n",
       "            <td>District of Columbia</td>\n",
       "            <td>US</td>\n",
       "            <td>2021-01-07 05:30:38</td>\n",
       "            <td>38.8974</td>\n",
       "            <td>-77.0268</td>\n",
       "            <td>30482</td>\n",
       "            <td>806</td>\n",
       "            <td>21461.0</td>\n",
       "            <td>8215.0</td>\n",
       "            <td>11.0</td>\n",
       "            <td>4319.099283172914</td>\n",
       "            <td>932102.0</td>\n",
       "            <td>None</td>\n",
       "            <td>2.644183452529361</td>\n",
       "            <td>84000011.0</td>\n",
       "            <td>USA</td>\n",
       "            <td>132072.73407401214</td>\n",
       "            <td>None</td>\n",
       "        </tr>\n",
       "        <tr>\n",
       "            <td>District of Columbia</td>\n",
       "            <td>US</td>\n",
       "            <td>2021-01-08 05:30:47</td>\n",
       "            <td>38.8974</td>\n",
       "            <td>-77.0268</td>\n",
       "            <td>30750</td>\n",
       "            <td>808</td>\n",
       "            <td>21660.0</td>\n",
       "            <td>8282.0</td>\n",
       "            <td>11.0</td>\n",
       "            <td>4357.073123730958</td>\n",
       "            <td>937035.0</td>\n",
       "            <td>None</td>\n",
       "            <td>2.627642276422764</td>\n",
       "            <td>84000011.0</td>\n",
       "            <td>USA</td>\n",
       "            <td>132771.70778846304</td>\n",
       "            <td>None</td>\n",
       "        </tr>\n",
       "        <tr>\n",
       "            <td>District of Columbia</td>\n",
       "            <td>US</td>\n",
       "            <td>2021-01-09 05:30:45</td>\n",
       "            <td>38.8974</td>\n",
       "            <td>-77.0268</td>\n",
       "            <td>31107</td>\n",
       "            <td>809</td>\n",
       "            <td>21851.0</td>\n",
       "            <td>8447.0</td>\n",
       "            <td>11.0</td>\n",
       "            <td>4407.657679996712</td>\n",
       "            <td>943818.0</td>\n",
       "            <td>None</td>\n",
       "            <td>2.6007008068923394</td>\n",
       "            <td>84000011.0</td>\n",
       "            <td>USA</td>\n",
       "            <td>133732.81435751234</td>\n",
       "            <td>None</td>\n",
       "        </tr>\n",
       "        <tr>\n",
       "            <td>District of Columbia</td>\n",
       "            <td>US</td>\n",
       "            <td>2021-01-10 05:30:28</td>\n",
       "            <td>38.8974</td>\n",
       "            <td>-77.0268</td>\n",
       "            <td>31457</td>\n",
       "            <td>813</td>\n",
       "            <td>22042.0</td>\n",
       "            <td>8602.0</td>\n",
       "            <td>11.0</td>\n",
       "            <td>4457.250382218041</td>\n",
       "            <td>950762.0</td>\n",
       "            <td>None</td>\n",
       "            <td>2.584480401818355</td>\n",
       "            <td>84000011.0</td>\n",
       "            <td>USA</td>\n",
       "            <td>134716.7335695835</td>\n",
       "            <td>None</td>\n",
       "        </tr>\n",
       "        <tr>\n",
       "            <td>District of Columbia</td>\n",
       "            <td>US</td>\n",
       "            <td>2021-01-11 05:30:40</td>\n",
       "            <td>38.8974</td>\n",
       "            <td>-77.0268</td>\n",
       "            <td>31791</td>\n",
       "            <td>817</td>\n",
       "            <td>22153.0</td>\n",
       "            <td>8821.0</td>\n",
       "            <td>11.0</td>\n",
       "            <td>4504.57598948068</td>\n",
       "            <td>957350.0</td>\n",
       "            <td>None</td>\n",
       "            <td>2.569909722877544</td>\n",
       "            <td>84000011.0</td>\n",
       "            <td>USA</td>\n",
       "            <td>135650.20991882382</td>\n",
       "            <td>None</td>\n",
       "        </tr>\n",
       "        <tr>\n",
       "            <td>District of Columbia</td>\n",
       "            <td>US</td>\n",
       "            <td>2021-01-12 05:30:28</td>\n",
       "            <td>38.8974</td>\n",
       "            <td>-77.0268</td>\n",
       "            <td>31993</td>\n",
       "            <td>821</td>\n",
       "            <td>22153.0</td>\n",
       "            <td>9019.0</td>\n",
       "            <td>11.0</td>\n",
       "            <td>4533.198063334132</td>\n",
       "            <td>960916.0</td>\n",
       "            <td>None</td>\n",
       "            <td>2.5661863532647766</td>\n",
       "            <td>84000011.0</td>\n",
       "            <td>USA</td>\n",
       "            <td>136155.4887077417</td>\n",
       "            <td>None</td>\n",
       "        </tr>\n",
       "        <tr>\n",
       "            <td>District of Columbia</td>\n",
       "            <td>US</td>\n",
       "            <td>2021-01-13 05:30:34</td>\n",
       "            <td>38.8974</td>\n",
       "            <td>-77.0268</td>\n",
       "            <td>32423</td>\n",
       "            <td>825</td>\n",
       "            <td>22464.0</td>\n",
       "            <td>9134.0</td>\n",
       "            <td>11.0</td>\n",
       "            <td>4594.126240348906</td>\n",
       "            <td>970048.0</td>\n",
       "            <td>None</td>\n",
       "            <td>2.5444900225148808</td>\n",
       "            <td>84000011.0</td>\n",
       "            <td>USA</td>\n",
       "            <td>137449.4331554136</td>\n",
       "            <td>None</td>\n",
       "        </tr>\n",
       "        <tr>\n",
       "            <td>District of Columbia</td>\n",
       "            <td>US</td>\n",
       "            <td>2021-01-14 05:30:28</td>\n",
       "            <td>38.8974</td>\n",
       "            <td>-77.0268</td>\n",
       "            <td>32600</td>\n",
       "            <td>831</td>\n",
       "            <td>22673.0</td>\n",
       "            <td>9096.0</td>\n",
       "            <td>11.0</td>\n",
       "            <td>4619.205978329406</td>\n",
       "            <td>973570.0</td>\n",
       "            <td>None</td>\n",
       "            <td>2.549079754601227</td>\n",
       "            <td>84000011.0</td>\n",
       "            <td>USA</td>\n",
       "            <td>137948.47743319508</td>\n",
       "            <td>None</td>\n",
       "        </tr>\n",
       "        <tr>\n",
       "            <td>District of Columbia</td>\n",
       "            <td>US</td>\n",
       "            <td>2021-01-15 05:30:28</td>\n",
       "            <td>38.8974</td>\n",
       "            <td>-77.0268</td>\n",
       "            <td>32820</td>\n",
       "            <td>842</td>\n",
       "            <td>22899.0</td>\n",
       "            <td>9079.0</td>\n",
       "            <td>11.0</td>\n",
       "            <td>4650.3785340113845</td>\n",
       "            <td>978833.0</td>\n",
       "            <td>None</td>\n",
       "            <td>2.5655088360755642</td>\n",
       "            <td>84000011.0</td>\n",
       "            <td>USA</td>\n",
       "            <td>138694.20998116894</td>\n",
       "            <td>None</td>\n",
       "        </tr>\n",
       "        <tr>\n",
       "            <td>District of Columbia</td>\n",
       "            <td>US</td>\n",
       "            <td>2021-01-16 05:30:49</td>\n",
       "            <td>38.8974</td>\n",
       "            <td>-77.0268</td>\n",
       "            <td>33140</td>\n",
       "            <td>842</td>\n",
       "            <td>23131.0</td>\n",
       "            <td>9167.0</td>\n",
       "            <td>11.0</td>\n",
       "            <td>4695.720433185169</td>\n",
       "            <td>986795.0</td>\n",
       "            <td>None</td>\n",
       "            <td>2.5407362703681358</td>\n",
       "            <td>84000011.0</td>\n",
       "            <td>USA</td>\n",
       "            <td>139822.3731099867</td>\n",
       "            <td>None</td>\n",
       "        </tr>\n",
       "        <tr>\n",
       "            <td>District of Columbia</td>\n",
       "            <td>US</td>\n",
       "            <td>2021-01-17 05:30:35</td>\n",
       "            <td>38.8974</td>\n",
       "            <td>-77.0268</td>\n",
       "            <td>33537</td>\n",
       "            <td>847</td>\n",
       "            <td>23319.0</td>\n",
       "            <td>9371.0</td>\n",
       "            <td>11.0</td>\n",
       "            <td>4751.972726847647</td>\n",
       "            <td>1000492.0</td>\n",
       "            <td>None</td>\n",
       "            <td>2.5255687747860573</td>\n",
       "            <td>84000011.0</td>\n",
       "            <td>USA</td>\n",
       "            <td>141763.14808805965</td>\n",
       "            <td>None</td>\n",
       "        </tr>\n",
       "        <tr>\n",
       "            <td>District of Columbia</td>\n",
       "            <td>US</td>\n",
       "            <td>2021-01-18 05:30:33</td>\n",
       "            <td>38.8974</td>\n",
       "            <td>-77.0268</td>\n",
       "            <td>33851</td>\n",
       "            <td>850</td>\n",
       "            <td>23456.0</td>\n",
       "            <td>9545.0</td>\n",
       "            <td>11.0</td>\n",
       "            <td>4796.464465411924</td>\n",
       "            <td>1009392.0</td>\n",
       "            <td>None</td>\n",
       "            <td>2.5110041062302444</td>\n",
       "            <td>84000011.0</td>\n",
       "            <td>USA</td>\n",
       "            <td>143024.21965883055</td>\n",
       "            <td>None</td>\n",
       "        </tr>\n",
       "        <tr>\n",
       "            <td>District of Columbia</td>\n",
       "            <td>US</td>\n",
       "            <td>2021-01-19 05:30:28</td>\n",
       "            <td>38.8974</td>\n",
       "            <td>-77.0268</td>\n",
       "            <td>34033</td>\n",
       "            <td>857</td>\n",
       "            <td>23554.0</td>\n",
       "            <td>9622.0</td>\n",
       "            <td>11.0</td>\n",
       "            <td>4822.252670567014</td>\n",
       "            <td>1013952.0</td>\n",
       "            <td>None</td>\n",
       "            <td>2.518144154203273</td>\n",
       "            <td>84000011.0</td>\n",
       "            <td>USA</td>\n",
       "            <td>143670.341722057</td>\n",
       "            <td>None</td>\n",
       "        </tr>\n",
       "        <tr>\n",
       "            <td>District of Columbia</td>\n",
       "            <td>US</td>\n",
       "            <td>2021-01-20 05:30:46</td>\n",
       "            <td>38.8974</td>\n",
       "            <td>-77.0268</td>\n",
       "            <td>34259</td>\n",
       "            <td>861</td>\n",
       "            <td>23632.0</td>\n",
       "            <td>9766.0</td>\n",
       "            <td>11.0</td>\n",
       "            <td>4854.275386858501</td>\n",
       "            <td>1020262.0</td>\n",
       "            <td>None</td>\n",
       "            <td>2.513208208062115</td>\n",
       "            <td>84000011.0</td>\n",
       "            <td>USA</td>\n",
       "            <td>144564.4272963901</td>\n",
       "            <td>None</td>\n",
       "        </tr>\n",
       "        <tr>\n",
       "            <td>District of Columbia</td>\n",
       "            <td>US</td>\n",
       "            <td>2021-01-21 05:30:34</td>\n",
       "            <td>38.8974</td>\n",
       "            <td>-77.0268</td>\n",
       "            <td>34403</td>\n",
       "            <td>863</td>\n",
       "            <td>24009.0</td>\n",
       "            <td>9531.0</td>\n",
       "            <td>11.0</td>\n",
       "            <td>4874.679241486704</td>\n",
       "            <td>1024531.0</td>\n",
       "            <td>None</td>\n",
       "            <td>2.5085021655088218</td>\n",
       "            <td>84000011.0</td>\n",
       "            <td>USA</td>\n",
       "            <td>145169.31657005535</td>\n",
       "            <td>None</td>\n",
       "        </tr>\n",
       "    </tbody>\n",
       "</table>"
      ],
      "text/plain": [
       "[('District of Columbia', 'US', datetime.datetime(2021, 1, 2, 5, 30, 44), Decimal('38.8974'), Decimal('-77.0268'), 29252, 788, Decimal('20941.0'), Decimal('7523.0'), Decimal('11.0'), Decimal('4144.816358223675'), Decimal('904302.0'), None, Decimal('2.6938329003145083'), Decimal('84000011.0'), 'USA', Decimal('128133.65658328953'), None),\n",
       " ('District of Columbia', 'US', datetime.datetime(2021, 1, 3, 5, 30, 33), Decimal('38.8974'), Decimal('-77.0268'), 29509, 792, Decimal('21002.0'), Decimal('7715.0'), Decimal('11.0'), Decimal('4181.231570997621'), Decimal('911378.0'), None, Decimal('2.683926937544478'), Decimal('84000011.0'), 'USA', Decimal('129136.27932876984'), None),\n",
       " ('District of Columbia', 'US', datetime.datetime(2021, 1, 4, 5, 30, 45), Decimal('38.8974'), Decimal('-77.0268'), 29764, 794, Decimal('21072.0'), Decimal('7898.0'), Decimal('11.0'), Decimal('4217.363396901731'), Decimal('918000.0'), None, Decimal('2.667652197285311'), Decimal('84000011.0'), 'USA', Decimal('130074.5732547974'), None),\n",
       " ('District of Columbia', 'US', datetime.datetime(2021, 1, 5, 5, 30, 33), Decimal('38.8974'), Decimal('-77.0268'), 29904, 797, Decimal('21127.0'), Decimal('7980.0'), Decimal('11.0'), Decimal('4237.200477790263'), Decimal('921119.0'), None, Decimal('2.6651952915997863'), Decimal('84000011.0'), 'USA', Decimal('130516.51507830688'), None),\n",
       " ('District of Columbia', 'US', datetime.datetime(2021, 1, 6, 5, 30, 39), Decimal('38.8974'), Decimal('-77.0268'), 30166, 801, Decimal('21337.0'), Decimal('8028.0'), Decimal('11.0'), Decimal('4274.3241577388'), Decimal('926717.0'), None, Decimal('2.655307299608831'), Decimal('84000011.0'), 'USA', Decimal('131309.71492697828'), None),\n",
       " ('District of Columbia', 'US', datetime.datetime(2021, 1, 7, 5, 30, 38), Decimal('38.8974'), Decimal('-77.0268'), 30482, 806, Decimal('21461.0'), Decimal('8215.0'), Decimal('11.0'), Decimal('4319.099283172914'), Decimal('932102.0'), None, Decimal('2.644183452529361'), Decimal('84000011.0'), 'USA', Decimal('132072.73407401214'), None),\n",
       " ('District of Columbia', 'US', datetime.datetime(2021, 1, 8, 5, 30, 47), Decimal('38.8974'), Decimal('-77.0268'), 30750, 808, Decimal('21660.0'), Decimal('8282.0'), Decimal('11.0'), Decimal('4357.073123730958'), Decimal('937035.0'), None, Decimal('2.627642276422764'), Decimal('84000011.0'), 'USA', Decimal('132771.70778846304'), None),\n",
       " ('District of Columbia', 'US', datetime.datetime(2021, 1, 9, 5, 30, 45), Decimal('38.8974'), Decimal('-77.0268'), 31107, 809, Decimal('21851.0'), Decimal('8447.0'), Decimal('11.0'), Decimal('4407.657679996712'), Decimal('943818.0'), None, Decimal('2.6007008068923394'), Decimal('84000011.0'), 'USA', Decimal('133732.81435751234'), None),\n",
       " ('District of Columbia', 'US', datetime.datetime(2021, 1, 10, 5, 30, 28), Decimal('38.8974'), Decimal('-77.0268'), 31457, 813, Decimal('22042.0'), Decimal('8602.0'), Decimal('11.0'), Decimal('4457.250382218041'), Decimal('950762.0'), None, Decimal('2.584480401818355'), Decimal('84000011.0'), 'USA', Decimal('134716.7335695835'), None),\n",
       " ('District of Columbia', 'US', datetime.datetime(2021, 1, 11, 5, 30, 40), Decimal('38.8974'), Decimal('-77.0268'), 31791, 817, Decimal('22153.0'), Decimal('8821.0'), Decimal('11.0'), Decimal('4504.57598948068'), Decimal('957350.0'), None, Decimal('2.569909722877544'), Decimal('84000011.0'), 'USA', Decimal('135650.20991882382'), None),\n",
       " ('District of Columbia', 'US', datetime.datetime(2021, 1, 12, 5, 30, 28), Decimal('38.8974'), Decimal('-77.0268'), 31993, 821, Decimal('22153.0'), Decimal('9019.0'), Decimal('11.0'), Decimal('4533.198063334132'), Decimal('960916.0'), None, Decimal('2.5661863532647766'), Decimal('84000011.0'), 'USA', Decimal('136155.4887077417'), None),\n",
       " ('District of Columbia', 'US', datetime.datetime(2021, 1, 13, 5, 30, 34), Decimal('38.8974'), Decimal('-77.0268'), 32423, 825, Decimal('22464.0'), Decimal('9134.0'), Decimal('11.0'), Decimal('4594.126240348906'), Decimal('970048.0'), None, Decimal('2.5444900225148808'), Decimal('84000011.0'), 'USA', Decimal('137449.4331554136'), None),\n",
       " ('District of Columbia', 'US', datetime.datetime(2021, 1, 14, 5, 30, 28), Decimal('38.8974'), Decimal('-77.0268'), 32600, 831, Decimal('22673.0'), Decimal('9096.0'), Decimal('11.0'), Decimal('4619.205978329406'), Decimal('973570.0'), None, Decimal('2.549079754601227'), Decimal('84000011.0'), 'USA', Decimal('137948.47743319508'), None),\n",
       " ('District of Columbia', 'US', datetime.datetime(2021, 1, 15, 5, 30, 28), Decimal('38.8974'), Decimal('-77.0268'), 32820, 842, Decimal('22899.0'), Decimal('9079.0'), Decimal('11.0'), Decimal('4650.3785340113845'), Decimal('978833.0'), None, Decimal('2.5655088360755642'), Decimal('84000011.0'), 'USA', Decimal('138694.20998116894'), None),\n",
       " ('District of Columbia', 'US', datetime.datetime(2021, 1, 16, 5, 30, 49), Decimal('38.8974'), Decimal('-77.0268'), 33140, 842, Decimal('23131.0'), Decimal('9167.0'), Decimal('11.0'), Decimal('4695.720433185169'), Decimal('986795.0'), None, Decimal('2.5407362703681358'), Decimal('84000011.0'), 'USA', Decimal('139822.3731099867'), None),\n",
       " ('District of Columbia', 'US', datetime.datetime(2021, 1, 17, 5, 30, 35), Decimal('38.8974'), Decimal('-77.0268'), 33537, 847, Decimal('23319.0'), Decimal('9371.0'), Decimal('11.0'), Decimal('4751.972726847647'), Decimal('1000492.0'), None, Decimal('2.5255687747860573'), Decimal('84000011.0'), 'USA', Decimal('141763.14808805965'), None),\n",
       " ('District of Columbia', 'US', datetime.datetime(2021, 1, 18, 5, 30, 33), Decimal('38.8974'), Decimal('-77.0268'), 33851, 850, Decimal('23456.0'), Decimal('9545.0'), Decimal('11.0'), Decimal('4796.464465411924'), Decimal('1009392.0'), None, Decimal('2.5110041062302444'), Decimal('84000011.0'), 'USA', Decimal('143024.21965883055'), None),\n",
       " ('District of Columbia', 'US', datetime.datetime(2021, 1, 19, 5, 30, 28), Decimal('38.8974'), Decimal('-77.0268'), 34033, 857, Decimal('23554.0'), Decimal('9622.0'), Decimal('11.0'), Decimal('4822.252670567014'), Decimal('1013952.0'), None, Decimal('2.518144154203273'), Decimal('84000011.0'), 'USA', Decimal('143670.341722057'), None),\n",
       " ('District of Columbia', 'US', datetime.datetime(2021, 1, 20, 5, 30, 46), Decimal('38.8974'), Decimal('-77.0268'), 34259, 861, Decimal('23632.0'), Decimal('9766.0'), Decimal('11.0'), Decimal('4854.275386858501'), Decimal('1020262.0'), None, Decimal('2.513208208062115'), Decimal('84000011.0'), 'USA', Decimal('144564.4272963901'), None),\n",
       " ('District of Columbia', 'US', datetime.datetime(2021, 1, 21, 5, 30, 34), Decimal('38.8974'), Decimal('-77.0268'), 34403, 863, Decimal('24009.0'), Decimal('9531.0'), Decimal('11.0'), Decimal('4874.679241486704'), Decimal('1024531.0'), None, Decimal('2.5085021655088218'), Decimal('84000011.0'), 'USA', Decimal('145169.31657005535'), None)]"
      ]
     },
     "execution_count": 4,
     "metadata": {},
     "output_type": "execute_result"
    }
   ],
   "source": [
    "%%sql\n",
    "select * from casesdeath where province_state = 'District of Columbia' limit 20;"
   ]
  },
  {
   "cell_type": "code",
   "execution_count": 10,
   "id": "acf2e2b5-e635-47a0-a693-596d235823e7",
   "metadata": {},
   "outputs": [
    {
     "name": "stdout",
     "output_type": "stream",
     "text": [
      " * postgresql://student@/neel\n",
      "40 rows affected.\n"
     ]
    },
    {
     "data": {
      "text/html": [
       "<table>\n",
       "    <thead>\n",
       "        <tr>\n",
       "            <th>confirmed</th>\n",
       "            <th>deaths</th>\n",
       "            <th>full_date</th>\n",
       "        </tr>\n",
       "    </thead>\n",
       "    <tbody>\n",
       "        <tr>\n",
       "            <td>16255</td>\n",
       "            <td>641</td>\n",
       "            <td>2020-10-17</td>\n",
       "        </tr>\n",
       "        <tr>\n",
       "            <td>16334</td>\n",
       "            <td>641</td>\n",
       "            <td>2020-10-18</td>\n",
       "        </tr>\n",
       "        <tr>\n",
       "            <td>16370</td>\n",
       "            <td>641</td>\n",
       "            <td>2020-10-19</td>\n",
       "        </tr>\n",
       "        <tr>\n",
       "            <td>16395</td>\n",
       "            <td>641</td>\n",
       "            <td>2020-10-20</td>\n",
       "        </tr>\n",
       "        <tr>\n",
       "            <td>16445</td>\n",
       "            <td>642</td>\n",
       "            <td>2020-10-21</td>\n",
       "        </tr>\n",
       "        <tr>\n",
       "            <td>16498</td>\n",
       "            <td>642</td>\n",
       "            <td>2020-10-22</td>\n",
       "        </tr>\n",
       "        <tr>\n",
       "            <td>16537</td>\n",
       "            <td>642</td>\n",
       "            <td>2020-10-23</td>\n",
       "        </tr>\n",
       "        <tr>\n",
       "            <td>16609</td>\n",
       "            <td>642</td>\n",
       "            <td>2020-10-24</td>\n",
       "        </tr>\n",
       "        <tr>\n",
       "            <td>16706</td>\n",
       "            <td>642</td>\n",
       "            <td>2020-10-25</td>\n",
       "        </tr>\n",
       "        <tr>\n",
       "            <td>16767</td>\n",
       "            <td>642</td>\n",
       "            <td>2020-10-26</td>\n",
       "        </tr>\n",
       "        <tr>\n",
       "            <td>16812</td>\n",
       "            <td>642</td>\n",
       "            <td>2020-10-27</td>\n",
       "        </tr>\n",
       "        <tr>\n",
       "            <td>16906</td>\n",
       "            <td>644</td>\n",
       "            <td>2020-10-28</td>\n",
       "        </tr>\n",
       "        <tr>\n",
       "            <td>16973</td>\n",
       "            <td>644</td>\n",
       "            <td>2020-10-29</td>\n",
       "        </tr>\n",
       "        <tr>\n",
       "            <td>17074</td>\n",
       "            <td>645</td>\n",
       "            <td>2020-10-30</td>\n",
       "        </tr>\n",
       "        <tr>\n",
       "            <td>17144</td>\n",
       "            <td>646</td>\n",
       "            <td>2020-10-31</td>\n",
       "        </tr>\n",
       "        <tr>\n",
       "            <td>17266</td>\n",
       "            <td>646</td>\n",
       "            <td>2020-11-01</td>\n",
       "        </tr>\n",
       "        <tr>\n",
       "            <td>17369</td>\n",
       "            <td>646</td>\n",
       "            <td>2020-11-02</td>\n",
       "        </tr>\n",
       "        <tr>\n",
       "            <td>17438</td>\n",
       "            <td>647</td>\n",
       "            <td>2020-11-03</td>\n",
       "        </tr>\n",
       "        <tr>\n",
       "            <td>17524</td>\n",
       "            <td>647</td>\n",
       "            <td>2020-11-04</td>\n",
       "        </tr>\n",
       "        <tr>\n",
       "            <td>17601</td>\n",
       "            <td>647</td>\n",
       "            <td>2020-11-05</td>\n",
       "        </tr>\n",
       "        <tr>\n",
       "            <td>17682</td>\n",
       "            <td>650</td>\n",
       "            <td>2020-11-06</td>\n",
       "        </tr>\n",
       "        <tr>\n",
       "            <td>17792</td>\n",
       "            <td>652</td>\n",
       "            <td>2020-11-07</td>\n",
       "        </tr>\n",
       "        <tr>\n",
       "            <td>17891</td>\n",
       "            <td>654</td>\n",
       "            <td>2020-11-08</td>\n",
       "        </tr>\n",
       "        <tr>\n",
       "            <td>18001</td>\n",
       "            <td>654</td>\n",
       "            <td>2020-11-09</td>\n",
       "        </tr>\n",
       "        <tr>\n",
       "            <td>18087</td>\n",
       "            <td>655</td>\n",
       "            <td>2020-11-10</td>\n",
       "        </tr>\n",
       "        <tr>\n",
       "            <td>18173</td>\n",
       "            <td>657</td>\n",
       "            <td>2020-11-11</td>\n",
       "        </tr>\n",
       "        <tr>\n",
       "            <td>18379</td>\n",
       "            <td>657</td>\n",
       "            <td>2020-11-12</td>\n",
       "        </tr>\n",
       "        <tr>\n",
       "            <td>18507</td>\n",
       "            <td>657</td>\n",
       "            <td>2020-11-13</td>\n",
       "        </tr>\n",
       "        <tr>\n",
       "            <td>18666</td>\n",
       "            <td>657</td>\n",
       "            <td>2020-11-14</td>\n",
       "        </tr>\n",
       "        <tr>\n",
       "            <td>18814</td>\n",
       "            <td>658</td>\n",
       "            <td>2020-11-15</td>\n",
       "        </tr>\n",
       "        <tr>\n",
       "            <td>18977</td>\n",
       "            <td>660</td>\n",
       "            <td>2020-11-16</td>\n",
       "        </tr>\n",
       "        <tr>\n",
       "            <td>19064</td>\n",
       "            <td>660</td>\n",
       "            <td>2020-11-17</td>\n",
       "        </tr>\n",
       "        <tr>\n",
       "            <td>19309</td>\n",
       "            <td>660</td>\n",
       "            <td>2020-11-18</td>\n",
       "        </tr>\n",
       "        <tr>\n",
       "            <td>19465</td>\n",
       "            <td>665</td>\n",
       "            <td>2020-11-19</td>\n",
       "        </tr>\n",
       "        <tr>\n",
       "            <td>19678</td>\n",
       "            <td>667</td>\n",
       "            <td>2020-11-20</td>\n",
       "        </tr>\n",
       "        <tr>\n",
       "            <td>19808</td>\n",
       "            <td>669</td>\n",
       "            <td>2020-11-21</td>\n",
       "        </tr>\n",
       "        <tr>\n",
       "            <td>19961</td>\n",
       "            <td>670</td>\n",
       "            <td>2020-11-22</td>\n",
       "        </tr>\n",
       "        <tr>\n",
       "            <td>20151</td>\n",
       "            <td>670</td>\n",
       "            <td>2020-11-23</td>\n",
       "        </tr>\n",
       "        <tr>\n",
       "            <td>20290</td>\n",
       "            <td>672</td>\n",
       "            <td>2020-11-24</td>\n",
       "        </tr>\n",
       "        <tr>\n",
       "            <td>20409</td>\n",
       "            <td>673</td>\n",
       "            <td>2020-11-25</td>\n",
       "        </tr>\n",
       "    </tbody>\n",
       "</table>"
      ],
      "text/plain": [
       "[(16255, 641, '2020-10-17'),\n",
       " (16334, 641, '2020-10-18'),\n",
       " (16370, 641, '2020-10-19'),\n",
       " (16395, 641, '2020-10-20'),\n",
       " (16445, 642, '2020-10-21'),\n",
       " (16498, 642, '2020-10-22'),\n",
       " (16537, 642, '2020-10-23'),\n",
       " (16609, 642, '2020-10-24'),\n",
       " (16706, 642, '2020-10-25'),\n",
       " (16767, 642, '2020-10-26'),\n",
       " (16812, 642, '2020-10-27'),\n",
       " (16906, 644, '2020-10-28'),\n",
       " (16973, 644, '2020-10-29'),\n",
       " (17074, 645, '2020-10-30'),\n",
       " (17144, 646, '2020-10-31'),\n",
       " (17266, 646, '2020-11-01'),\n",
       " (17369, 646, '2020-11-02'),\n",
       " (17438, 647, '2020-11-03'),\n",
       " (17524, 647, '2020-11-04'),\n",
       " (17601, 647, '2020-11-05'),\n",
       " (17682, 650, '2020-11-06'),\n",
       " (17792, 652, '2020-11-07'),\n",
       " (17891, 654, '2020-11-08'),\n",
       " (18001, 654, '2020-11-09'),\n",
       " (18087, 655, '2020-11-10'),\n",
       " (18173, 657, '2020-11-11'),\n",
       " (18379, 657, '2020-11-12'),\n",
       " (18507, 657, '2020-11-13'),\n",
       " (18666, 657, '2020-11-14'),\n",
       " (18814, 658, '2020-11-15'),\n",
       " (18977, 660, '2020-11-16'),\n",
       " (19064, 660, '2020-11-17'),\n",
       " (19309, 660, '2020-11-18'),\n",
       " (19465, 665, '2020-11-19'),\n",
       " (19678, 667, '2020-11-20'),\n",
       " (19808, 669, '2020-11-21'),\n",
       " (19961, 670, '2020-11-22'),\n",
       " (20151, 670, '2020-11-23'),\n",
       " (20290, 672, '2020-11-24'),\n",
       " (20409, 673, '2020-11-25')]"
      ]
     },
     "execution_count": 10,
     "metadata": {},
     "output_type": "execute_result"
    }
   ],
   "source": [
    "%%sql\n",
    "select confirmed, deaths, TO_CHAR(last_update, 'YYYY-MM-DD') AS full_date from casesdeath \n",
    "where (cast(TO_CHAR(last_update, 'YYYY') as integer) = 2020 \n",
    "and ((cast(TO_CHAR(last_update, 'MM') as integer) = 10 and cast(TO_CHAR(last_update, 'DD') as integer) >= 17)\n",
    "     or (cast(TO_CHAR(last_update, 'MM') as integer) = 11 and cast(TO_CHAR(last_update, 'DD') as integer) <= 25))) \n",
    "and province_state = 'District of Columbia' \n",
    "order by last_update asc;"
   ]
  },
  {
   "cell_type": "code",
   "execution_count": 11,
   "id": "f7fbd6ce-82fb-4c46-ad09-4db5a677d96f",
   "metadata": {},
   "outputs": [],
   "source": [
    "%matplotlib inline"
   ]
  },
  {
   "cell_type": "code",
   "execution_count": 12,
   "id": "7d046e34-b57c-4278-84dd-9e01f6768135",
   "metadata": {},
   "outputs": [
    {
     "data": {
      "text/plain": [
       "<BarContainer object of 40 artists>"
      ]
     },
     "execution_count": 12,
     "metadata": {},
     "output_type": "execute_result"
    },
    {
     "data": {
      "image/png": "[encoded data removed]",
      "text/plain": [
       "<Figure size 432x288 with 1 Axes>"
      ]
     },
     "metadata": {
      "needs_background": "light"
     },
     "output_type": "display_data"
    }
   ],
   "source": [
    "_.bar()"
   ]
  },
  {
   "cell_type": "code",
   "execution_count": 20,
   "id": "4169b8d9-a26f-4097-b8ae-fecdbbdd5b21",
   "metadata": {
    "tags": []
   },
   "outputs": [
    {
     "name": "stdout",
     "output_type": "stream",
     "text": [
      " * postgresql://student@/neel\n",
      "40 rows affected.\n"
     ]
    },
    {
     "data": {
      "text/html": [
       "<table>\n",
       "    <thead>\n",
       "        <tr>\n",
       "            <th>confirmed</th>\n",
       "            <th>deaths</th>\n",
       "            <th>full_date</th>\n",
       "        </tr>\n",
       "    </thead>\n",
       "    <tbody>\n",
       "        <tr>\n",
       "            <td>20516</td>\n",
       "            <td>677</td>\n",
       "            <td>2020-11-26</td>\n",
       "        </tr>\n",
       "        <tr>\n",
       "            <td>20736</td>\n",
       "            <td>677</td>\n",
       "            <td>2020-11-27</td>\n",
       "        </tr>\n",
       "        <tr>\n",
       "            <td>20937</td>\n",
       "            <td>677</td>\n",
       "            <td>2020-11-28</td>\n",
       "        </tr>\n",
       "        <tr>\n",
       "            <td>21308</td>\n",
       "            <td>678</td>\n",
       "            <td>2020-11-29</td>\n",
       "        </tr>\n",
       "        <tr>\n",
       "            <td>21448</td>\n",
       "            <td>680</td>\n",
       "            <td>2020-11-30</td>\n",
       "        </tr>\n",
       "        <tr>\n",
       "            <td>21552</td>\n",
       "            <td>680</td>\n",
       "            <td>2020-12-01</td>\n",
       "        </tr>\n",
       "        <tr>\n",
       "            <td>21685</td>\n",
       "            <td>685</td>\n",
       "            <td>2020-12-02</td>\n",
       "        </tr>\n",
       "        <tr>\n",
       "            <td>21842</td>\n",
       "            <td>690</td>\n",
       "            <td>2020-12-03</td>\n",
       "        </tr>\n",
       "        <tr>\n",
       "            <td>22164</td>\n",
       "            <td>692</td>\n",
       "            <td>2020-12-04</td>\n",
       "        </tr>\n",
       "        <tr>\n",
       "            <td>22480</td>\n",
       "            <td>693</td>\n",
       "            <td>2020-12-05</td>\n",
       "        </tr>\n",
       "        <tr>\n",
       "            <td>22872</td>\n",
       "            <td>695</td>\n",
       "            <td>2020-12-06</td>\n",
       "        </tr>\n",
       "        <tr>\n",
       "            <td>23136</td>\n",
       "            <td>697</td>\n",
       "            <td>2020-12-07</td>\n",
       "        </tr>\n",
       "        <tr>\n",
       "            <td>23319</td>\n",
       "            <td>701</td>\n",
       "            <td>2020-12-08</td>\n",
       "        </tr>\n",
       "        <tr>\n",
       "            <td>23589</td>\n",
       "            <td>701</td>\n",
       "            <td>2020-12-09</td>\n",
       "        </tr>\n",
       "        <tr>\n",
       "            <td>23854</td>\n",
       "            <td>704</td>\n",
       "            <td>2020-12-10</td>\n",
       "        </tr>\n",
       "        <tr>\n",
       "            <td>24098</td>\n",
       "            <td>708</td>\n",
       "            <td>2020-12-11</td>\n",
       "        </tr>\n",
       "        <tr>\n",
       "            <td>24357</td>\n",
       "            <td>709</td>\n",
       "            <td>2020-12-12</td>\n",
       "        </tr>\n",
       "        <tr>\n",
       "            <td>24643</td>\n",
       "            <td>713</td>\n",
       "            <td>2020-12-13</td>\n",
       "        </tr>\n",
       "        <tr>\n",
       "            <td>24874</td>\n",
       "            <td>715</td>\n",
       "            <td>2020-12-14</td>\n",
       "        </tr>\n",
       "        <tr>\n",
       "            <td>25038</td>\n",
       "            <td>716</td>\n",
       "            <td>2020-12-15</td>\n",
       "        </tr>\n",
       "        <tr>\n",
       "            <td>25339</td>\n",
       "            <td>720</td>\n",
       "            <td>2020-12-16</td>\n",
       "        </tr>\n",
       "        <tr>\n",
       "            <td>25602</td>\n",
       "            <td>720</td>\n",
       "            <td>2020-12-17</td>\n",
       "        </tr>\n",
       "        <tr>\n",
       "            <td>25830</td>\n",
       "            <td>725</td>\n",
       "            <td>2020-12-18</td>\n",
       "        </tr>\n",
       "        <tr>\n",
       "            <td>26104</td>\n",
       "            <td>728</td>\n",
       "            <td>2020-12-19</td>\n",
       "        </tr>\n",
       "        <tr>\n",
       "            <td>26342</td>\n",
       "            <td>730</td>\n",
       "            <td>2020-12-20</td>\n",
       "        </tr>\n",
       "        <tr>\n",
       "            <td>26601</td>\n",
       "            <td>737</td>\n",
       "            <td>2020-12-21</td>\n",
       "        </tr>\n",
       "        <tr>\n",
       "            <td>26740</td>\n",
       "            <td>742</td>\n",
       "            <td>2020-12-22</td>\n",
       "        </tr>\n",
       "        <tr>\n",
       "            <td>26900</td>\n",
       "            <td>744</td>\n",
       "            <td>2020-12-23</td>\n",
       "        </tr>\n",
       "        <tr>\n",
       "            <td>27226</td>\n",
       "            <td>751</td>\n",
       "            <td>2020-12-24</td>\n",
       "        </tr>\n",
       "        <tr>\n",
       "            <td>27436</td>\n",
       "            <td>756</td>\n",
       "            <td>2020-12-25</td>\n",
       "        </tr>\n",
       "        <tr>\n",
       "            <td>27436</td>\n",
       "            <td>756</td>\n",
       "            <td>2020-12-26</td>\n",
       "        </tr>\n",
       "        <tr>\n",
       "            <td>27710</td>\n",
       "            <td>762</td>\n",
       "            <td>2020-12-27</td>\n",
       "        </tr>\n",
       "        <tr>\n",
       "            <td>28202</td>\n",
       "            <td>768</td>\n",
       "            <td>2020-12-28</td>\n",
       "        </tr>\n",
       "        <tr>\n",
       "            <td>28342</td>\n",
       "            <td>771</td>\n",
       "            <td>2020-12-29</td>\n",
       "        </tr>\n",
       "        <tr>\n",
       "            <td>28535</td>\n",
       "            <td>775</td>\n",
       "            <td>2020-12-30</td>\n",
       "        </tr>\n",
       "        <tr>\n",
       "            <td>28758</td>\n",
       "            <td>780</td>\n",
       "            <td>2020-12-31</td>\n",
       "        </tr>\n",
       "        <tr>\n",
       "            <td>28983</td>\n",
       "            <td>786</td>\n",
       "            <td>2021-01-01</td>\n",
       "        </tr>\n",
       "        <tr>\n",
       "            <td>29252</td>\n",
       "            <td>788</td>\n",
       "            <td>2021-01-02</td>\n",
       "        </tr>\n",
       "        <tr>\n",
       "            <td>29509</td>\n",
       "            <td>792</td>\n",
       "            <td>2021-01-03</td>\n",
       "        </tr>\n",
       "        <tr>\n",
       "            <td>29764</td>\n",
       "            <td>794</td>\n",
       "            <td>2021-01-04</td>\n",
       "        </tr>\n",
       "    </tbody>\n",
       "</table>"
      ],
      "text/plain": [
       "[(20516, 677, '2020-11-26'),\n",
       " (20736, 677, '2020-11-27'),\n",
       " (20937, 677, '2020-11-28'),\n",
       " (21308, 678, '2020-11-29'),\n",
       " (21448, 680, '2020-11-30'),\n",
       " (21552, 680, '2020-12-01'),\n",
       " (21685, 685, '2020-12-02'),\n",
       " (21842, 690, '2020-12-03'),\n",
       " (22164, 692, '2020-12-04'),\n",
       " (22480, 693, '2020-12-05'),\n",
       " (22872, 695, '2020-12-06'),\n",
       " (23136, 697, '2020-12-07'),\n",
       " (23319, 701, '2020-12-08'),\n",
       " (23589, 701, '2020-12-09'),\n",
       " (23854, 704, '2020-12-10'),\n",
       " (24098, 708, '2020-12-11'),\n",
       " (24357, 709, '2020-12-12'),\n",
       " (24643, 713, '2020-12-13'),\n",
       " (24874, 715, '2020-12-14'),\n",
       " (25038, 716, '2020-12-15'),\n",
       " (25339, 720, '2020-12-16'),\n",
       " (25602, 720, '2020-12-17'),\n",
       " (25830, 725, '2020-12-18'),\n",
       " (26104, 728, '2020-12-19'),\n",
       " (26342, 730, '2020-12-20'),\n",
       " (26601, 737, '2020-12-21'),\n",
       " (26740, 742, '2020-12-22'),\n",
       " (26900, 744, '2020-12-23'),\n",
       " (27226, 751, '2020-12-24'),\n",
       " (27436, 756, '2020-12-25'),\n",
       " (27436, 756, '2020-12-26'),\n",
       " (27710, 762, '2020-12-27'),\n",
       " (28202, 768, '2020-12-28'),\n",
       " (28342, 771, '2020-12-29'),\n",
       " (28535, 775, '2020-12-30'),\n",
       " (28758, 780, '2020-12-31'),\n",
       " (28983, 786, '2021-01-01'),\n",
       " (29252, 788, '2021-01-02'),\n",
       " (29509, 792, '2021-01-03'),\n",
       " (29764, 794, '2021-01-04')]"
      ]
     },
     "execution_count": 20,
     "metadata": {},
     "output_type": "execute_result"
    }
   ],
   "source": [
    "%%sql\n",
    "select confirmed, deaths, TO_CHAR(last_update, 'YYYY-MM-DD') AS full_date from casesdeath \n",
    "where ((cast(TO_CHAR(last_update, 'YYYY') as integer) = 2020 \n",
    "and ((cast(TO_CHAR(last_update, 'MM') as integer) = 11 and cast(TO_CHAR(last_update, 'DD') as integer) >= 26)\n",
    "     or cast(TO_CHAR(last_update, 'MM') as integer) = 12))\n",
    "     or (cast(TO_CHAR(last_update, 'YYYY') as integer) = 2021 and cast(TO_CHAR(last_update, 'MM')as integer) = 1 and cast(TO_CHAR(last_update, 'DD') as integer) <= 4)) and province_state = 'District of Columbia' \n",
    "order by last_update asc;"
   ]
  },
  {
   "cell_type": "code",
   "execution_count": 21,
   "id": "4f44eeb7-0ad5-4dbe-9a0c-a19326c26fa8",
   "metadata": {},
   "outputs": [],
   "source": [
    "%matplotlib inline"
   ]
  },
  {
   "cell_type": "code",
   "execution_count": 22,
   "id": "af366875-fc8c-412c-bc24-a086fbef3d70",
   "metadata": {},
   "outputs": [
    {
     "data": {
      "text/plain": [
       "<BarContainer object of 40 artists>"
      ]
     },
     "execution_count": 22,
     "metadata": {},
     "output_type": "execute_result"
    },
    {
     "data": {
      "image/png": "[encoded data removed]",
      "text/plain": [
       "<Figure size 432x288 with 1 Axes>"
      ]
     },
     "metadata": {
      "needs_background": "light"
     },
     "output_type": "display_data"
    }
   ],
   "source": [
    "_.bar()"
   ]
  },
  {
   "cell_type": "code",
   "execution_count": 23,
   "id": "017b90d4-6b29-4551-8a47-16b4a148a288",
   "metadata": {},
   "outputs": [
    {
     "name": "stdout",
     "output_type": "stream",
     "text": [
      " * postgresql://student@/neel\n",
      "40 rows affected.\n"
     ]
    },
    {
     "data": {
      "text/html": [
       "<table>\n",
       "    <thead>\n",
       "        <tr>\n",
       "            <th>confirmed</th>\n",
       "            <th>deaths</th>\n",
       "            <th>full_date</th>\n",
       "        </tr>\n",
       "    </thead>\n",
       "    <tbody>\n",
       "        <tr>\n",
       "            <td>29904</td>\n",
       "            <td>797</td>\n",
       "            <td>2021-01-05</td>\n",
       "        </tr>\n",
       "        <tr>\n",
       "            <td>30166</td>\n",
       "            <td>801</td>\n",
       "            <td>2021-01-06</td>\n",
       "        </tr>\n",
       "        <tr>\n",
       "            <td>30482</td>\n",
       "            <td>806</td>\n",
       "            <td>2021-01-07</td>\n",
       "        </tr>\n",
       "        <tr>\n",
       "            <td>30750</td>\n",
       "            <td>808</td>\n",
       "            <td>2021-01-08</td>\n",
       "        </tr>\n",
       "        <tr>\n",
       "            <td>31107</td>\n",
       "            <td>809</td>\n",
       "            <td>2021-01-09</td>\n",
       "        </tr>\n",
       "        <tr>\n",
       "            <td>31457</td>\n",
       "            <td>813</td>\n",
       "            <td>2021-01-10</td>\n",
       "        </tr>\n",
       "        <tr>\n",
       "            <td>31791</td>\n",
       "            <td>817</td>\n",
       "            <td>2021-01-11</td>\n",
       "        </tr>\n",
       "        <tr>\n",
       "            <td>31993</td>\n",
       "            <td>821</td>\n",
       "            <td>2021-01-12</td>\n",
       "        </tr>\n",
       "        <tr>\n",
       "            <td>32423</td>\n",
       "            <td>825</td>\n",
       "            <td>2021-01-13</td>\n",
       "        </tr>\n",
       "        <tr>\n",
       "            <td>32600</td>\n",
       "            <td>831</td>\n",
       "            <td>2021-01-14</td>\n",
       "        </tr>\n",
       "        <tr>\n",
       "            <td>32820</td>\n",
       "            <td>842</td>\n",
       "            <td>2021-01-15</td>\n",
       "        </tr>\n",
       "        <tr>\n",
       "            <td>33140</td>\n",
       "            <td>842</td>\n",
       "            <td>2021-01-16</td>\n",
       "        </tr>\n",
       "        <tr>\n",
       "            <td>33537</td>\n",
       "            <td>847</td>\n",
       "            <td>2021-01-17</td>\n",
       "        </tr>\n",
       "        <tr>\n",
       "            <td>33851</td>\n",
       "            <td>850</td>\n",
       "            <td>2021-01-18</td>\n",
       "        </tr>\n",
       "        <tr>\n",
       "            <td>34033</td>\n",
       "            <td>857</td>\n",
       "            <td>2021-01-19</td>\n",
       "        </tr>\n",
       "        <tr>\n",
       "            <td>34259</td>\n",
       "            <td>861</td>\n",
       "            <td>2021-01-20</td>\n",
       "        </tr>\n",
       "        <tr>\n",
       "            <td>34403</td>\n",
       "            <td>863</td>\n",
       "            <td>2021-01-21</td>\n",
       "        </tr>\n",
       "        <tr>\n",
       "            <td>34612</td>\n",
       "            <td>864</td>\n",
       "            <td>2021-01-22</td>\n",
       "        </tr>\n",
       "        <tr>\n",
       "            <td>34905</td>\n",
       "            <td>867</td>\n",
       "            <td>2021-01-23</td>\n",
       "        </tr>\n",
       "        <tr>\n",
       "            <td>35077</td>\n",
       "            <td>870</td>\n",
       "            <td>2021-01-24</td>\n",
       "        </tr>\n",
       "        <tr>\n",
       "            <td>35301</td>\n",
       "            <td>872</td>\n",
       "            <td>2021-01-25</td>\n",
       "        </tr>\n",
       "        <tr>\n",
       "            <td>35505</td>\n",
       "            <td>879</td>\n",
       "            <td>2021-01-26</td>\n",
       "        </tr>\n",
       "        <tr>\n",
       "            <td>35700</td>\n",
       "            <td>888</td>\n",
       "            <td>2021-01-27</td>\n",
       "        </tr>\n",
       "        <tr>\n",
       "            <td>35865</td>\n",
       "            <td>895</td>\n",
       "            <td>2021-01-28</td>\n",
       "        </tr>\n",
       "        <tr>\n",
       "            <td>36132</td>\n",
       "            <td>902</td>\n",
       "            <td>2021-01-29</td>\n",
       "        </tr>\n",
       "        <tr>\n",
       "            <td>36414</td>\n",
       "            <td>907</td>\n",
       "            <td>2021-01-30</td>\n",
       "        </tr>\n",
       "        <tr>\n",
       "            <td>36662</td>\n",
       "            <td>909</td>\n",
       "            <td>2021-01-31</td>\n",
       "        </tr>\n",
       "        <tr>\n",
       "            <td>36872</td>\n",
       "            <td>913</td>\n",
       "            <td>2021-02-01</td>\n",
       "        </tr>\n",
       "        <tr>\n",
       "            <td>37008</td>\n",
       "            <td>916</td>\n",
       "            <td>2021-02-02</td>\n",
       "        </tr>\n",
       "        <tr>\n",
       "            <td>37008</td>\n",
       "            <td>916</td>\n",
       "            <td>2021-02-03</td>\n",
       "        </tr>\n",
       "        <tr>\n",
       "            <td>37199</td>\n",
       "            <td>926</td>\n",
       "            <td>2021-02-04</td>\n",
       "        </tr>\n",
       "        <tr>\n",
       "            <td>37365</td>\n",
       "            <td>932</td>\n",
       "            <td>2021-02-05</td>\n",
       "        </tr>\n",
       "        <tr>\n",
       "            <td>37634</td>\n",
       "            <td>940</td>\n",
       "            <td>2021-02-06</td>\n",
       "        </tr>\n",
       "        <tr>\n",
       "            <td>37877</td>\n",
       "            <td>947</td>\n",
       "            <td>2021-02-07</td>\n",
       "        </tr>\n",
       "        <tr>\n",
       "            <td>38035</td>\n",
       "            <td>952</td>\n",
       "            <td>2021-02-08</td>\n",
       "        </tr>\n",
       "        <tr>\n",
       "            <td>38136</td>\n",
       "            <td>956</td>\n",
       "            <td>2021-02-09</td>\n",
       "        </tr>\n",
       "        <tr>\n",
       "            <td>38281</td>\n",
       "            <td>961</td>\n",
       "            <td>2021-02-10</td>\n",
       "        </tr>\n",
       "        <tr>\n",
       "            <td>38348</td>\n",
       "            <td>965</td>\n",
       "            <td>2021-02-11</td>\n",
       "        </tr>\n",
       "        <tr>\n",
       "            <td>38533</td>\n",
       "            <td>973</td>\n",
       "            <td>2021-02-12</td>\n",
       "        </tr>\n",
       "        <tr>\n",
       "            <td>38670</td>\n",
       "            <td>976</td>\n",
       "            <td>2021-02-13</td>\n",
       "        </tr>\n",
       "    </tbody>\n",
       "</table>"
      ],
      "text/plain": [
       "[(29904, 797, '2021-01-05'),\n",
       " (30166, 801, '2021-01-06'),\n",
       " (30482, 806, '2021-01-07'),\n",
       " (30750, 808, '2021-01-08'),\n",
       " (31107, 809, '2021-01-09'),\n",
       " (31457, 813, '2021-01-10'),\n",
       " (31791, 817, '2021-01-11'),\n",
       " (31993, 821, '2021-01-12'),\n",
       " (32423, 825, '2021-01-13'),\n",
       " (32600, 831, '2021-01-14'),\n",
       " (32820, 842, '2021-01-15'),\n",
       " (33140, 842, '2021-01-16'),\n",
       " (33537, 847, '2021-01-17'),\n",
       " (33851, 850, '2021-01-18'),\n",
       " (34033, 857, '2021-01-19'),\n",
       " (34259, 861, '2021-01-20'),\n",
       " (34403, 863, '2021-01-21'),\n",
       " (34612, 864, '2021-01-22'),\n",
       " (34905, 867, '2021-01-23'),\n",
       " (35077, 870, '2021-01-24'),\n",
       " (35301, 872, '2021-01-25'),\n",
       " (35505, 879, '2021-01-26'),\n",
       " (35700, 888, '2021-01-27'),\n",
       " (35865, 895, '2021-01-28'),\n",
       " (36132, 902, '2021-01-29'),\n",
       " (36414, 907, '2021-01-30'),\n",
       " (36662, 909, '2021-01-31'),\n",
       " (36872, 913, '2021-02-01'),\n",
       " (37008, 916, '2021-02-02'),\n",
       " (37008, 916, '2021-02-03'),\n",
       " (37199, 926, '2021-02-04'),\n",
       " (37365, 932, '2021-02-05'),\n",
       " (37634, 940, '2021-02-06'),\n",
       " (37877, 947, '2021-02-07'),\n",
       " (38035, 952, '2021-02-08'),\n",
       " (38136, 956, '2021-02-09'),\n",
       " (38281, 961, '2021-02-10'),\n",
       " (38348, 965, '2021-02-11'),\n",
       " (38533, 973, '2021-02-12'),\n",
       " (38670, 976, '2021-02-13')]"
      ]
     },
     "execution_count": 23,
     "metadata": {},
     "output_type": "execute_result"
    }
   ],
   "source": [
    "%%sql\n",
    "select confirmed, deaths, TO_CHAR(last_update, 'YYYY-MM-DD') AS full_date from casesdeath \n",
    "where (cast(TO_CHAR(last_update, 'YYYY') as integer) = 2021 \n",
    "and ((cast(TO_CHAR(last_update, 'MM') as integer) = 1 and cast(TO_CHAR(last_update, 'DD') as integer) >= 5)\n",
    "     or (cast(TO_CHAR(last_update, 'MM') as integer) = 2 and cast(TO_CHAR(last_update, 'DD') as integer) <= 13))) \n",
    "and province_state = 'District of Columbia' \n",
    "order by last_update asc;"
   ]
  },
  {
   "cell_type": "code",
   "execution_count": 24,
   "id": "b95420da-920b-488e-b83a-d2db5680c98b",
   "metadata": {},
   "outputs": [],
   "source": [
    "%matplotlib inline"
   ]
  },
  {
   "cell_type": "code",
   "execution_count": 25,
   "id": "c4ea9522-4e4a-4786-b17d-217b51c4e13a",
   "metadata": {},
   "outputs": [
    {
     "data": {
      "text/plain": [
       "<BarContainer object of 40 artists>"
      ]
     },
     "execution_count": 25,
     "metadata": {},
     "output_type": "execute_result"
    },
    {
     "data": {
      "image/png": "[encoded data removed]",
      "text/plain": [
       "<Figure size 432x288 with 1 Axes>"
      ]
     },
     "metadata": {
      "needs_background": "light"
     },
     "output_type": "display_data"
    }
   ],
   "source": [
    "_.bar()"
   ]
  },
  {
   "cell_type": "markdown",
   "id": "ef57775f-ea1c-447a-8dde-e39978e95533",
   "metadata": {},
   "source": [
    "#### We observe that the COVID-19 Death rates for Holiday period totalling to 40 days, from Thanksgiving to New years has increased by 117, from 677 on 26 Nov, 2020 to 794 on 4 Jan, 2021.\n",
    "#### When we compared similar time period for 40 days, before the holidays we observed a 32 death cases, while after the holidays there was a drastic increase in death cases accounting to a total of 179"
   ]
  },
  {
   "cell_type": "code",
   "execution_count": null,
   "id": "e825ab7c-957d-4334-ae46-890aad50ed82",
   "metadata": {},
   "outputs": [],
   "source": []
  },
  {
   "cell_type": "markdown",
   "id": "24e02ede-cad8-4d8f-908a-9a3449576829",
   "metadata": {},
   "source": [
    "## Question 4\n",
    "## Explore how the mask policy affected the covid-19 spread by comparing NY and TX confirmed cases after 4/15/2020 NY started to mandate mask outdoor."
   ]
  },
  {
   "cell_type": "code",
   "execution_count": null,
   "id": "9f1cbe5a-cc6b-4221-9363-896e2ff9c847",
   "metadata": {},
   "outputs": [],
   "source": []
  },
  {
   "cell_type": "code",
   "execution_count": 81,
   "id": "6a4d6341-cc20-4752-976f-d534b12453ca",
   "metadata": {},
   "outputs": [
    {
     "name": "stdout",
     "output_type": "stream",
     "text": [
      " * postgresql://student@/ves\n",
      "1 rows affected.\n"
     ]
    },
    {
     "data": {
      "text/html": [
       "<table>\n",
       "    <thead>\n",
       "        <tr>\n",
       "            <th>province_state</th>\n",
       "            <th>country_region</th>\n",
       "            <th>last_update</th>\n",
       "            <th>lat</th>\n",
       "            <th>long_</th>\n",
       "            <th>confirmed</th>\n",
       "            <th>deaths</th>\n",
       "            <th>recovered</th>\n",
       "            <th>active</th>\n",
       "            <th>fips</th>\n",
       "            <th>incident_rate</th>\n",
       "            <th>total_test_results</th>\n",
       "            <th>people_hospitalized</th>\n",
       "            <th>case_fatality_ratio</th>\n",
       "            <th>uid</th>\n",
       "            <th>iso3</th>\n",
       "            <th>testing_rate</th>\n",
       "            <th>hospitalization_rate</th>\n",
       "            <th>loc_key</th>\n",
       "            <th>date_key</th>\n",
       "        </tr>\n",
       "    </thead>\n",
       "    <tbody>\n",
       "        <tr>\n",
       "            <td>Diamond Princess</td>\n",
       "            <td>US</td>\n",
       "            <td>2021-01-12 05:30:28</td>\n",
       "            <td>None</td>\n",
       "            <td>None</td>\n",
       "            <td>49</td>\n",
       "            <td>0</td>\n",
       "            <td>None</td>\n",
       "            <td>49.0</td>\n",
       "            <td>88888.0</td>\n",
       "            <td>None</td>\n",
       "            <td>None</td>\n",
       "            <td>None</td>\n",
       "            <td>0.0</td>\n",
       "            <td>84088888.0</td>\n",
       "            <td>USA</td>\n",
       "            <td>None</td>\n",
       "            <td>None</td>\n",
       "            <td>52</td>\n",
       "            <td>670</td>\n",
       "        </tr>\n",
       "    </tbody>\n",
       "</table>"
      ],
      "text/plain": [
       "[('Diamond Princess', 'US', datetime.datetime(2021, 1, 12, 5, 30, 28), None, None, 49, 0, None, Decimal('49.0'), Decimal('88888.0'), None, None, None, Decimal('0.0'), Decimal('84088888.0'), 'USA', None, None, 52, 670)]"
      ]
     },
     "execution_count": 81,
     "metadata": {},
     "output_type": "execute_result"
    }
   ],
   "source": [
    "%%sql\n",
    "select * from casesdeath\n",
    "limit 1"
   ]
  },
  {
   "cell_type": "code",
   "execution_count": 82,
   "id": "cafbc678-4fe3-47e9-a5d5-50ebf0163be6",
   "metadata": {},
   "outputs": [
    {
     "name": "stdout",
     "output_type": "stream",
     "text": [
      " * postgresql://student@/ves\n",
      "1 rows affected.\n"
     ]
    },
    {
     "data": {
      "text/html": [
       "<table>\n",
       "    <thead>\n",
       "        <tr>\n",
       "            <th>key</th>\n",
       "            <th>full_time</th>\n",
       "            <th>full_date</th>\n",
       "            <th>year</th>\n",
       "            <th>month</th>\n",
       "            <th>day</th>\n",
       "        </tr>\n",
       "    </thead>\n",
       "    <tbody>\n",
       "        <tr>\n",
       "            <td>1</td>\n",
       "            <td>2021-07-24 04:00:00</td>\n",
       "            <td>2021-07-24</td>\n",
       "            <td>2021</td>\n",
       "            <td>7</td>\n",
       "            <td>24</td>\n",
       "        </tr>\n",
       "    </tbody>\n",
       "</table>"
      ],
      "text/plain": [
       "[(1, '2021-07-24 04:00:00', '2021-07-24', 2021, 7, 24)]"
      ]
     },
     "execution_count": 82,
     "metadata": {},
     "output_type": "execute_result"
    }
   ],
   "source": [
    "%%sql\n",
    "select * from date\n",
    "limit 1"
   ]
  },
  {
   "cell_type": "code",
   "execution_count": 83,
   "id": "0300e9ec-44c3-4801-9ed8-3fa9d00f82d6",
   "metadata": {},
   "outputs": [
    {
     "name": "stdout",
     "output_type": "stream",
     "text": [
      " * postgresql://student@/ves\n",
      "1 rows affected.\n"
     ]
    },
    {
     "data": {
      "text/html": [
       "<table>\n",
       "    <thead>\n",
       "        <tr>\n",
       "            <th>key</th>\n",
       "            <th>state</th>\n",
       "        </tr>\n",
       "    </thead>\n",
       "    <tbody>\n",
       "        <tr>\n",
       "            <td>1</td>\n",
       "            <td>Nevada</td>\n",
       "        </tr>\n",
       "    </tbody>\n",
       "</table>"
      ],
      "text/plain": [
       "[(1, 'Nevada')]"
      ]
     },
     "execution_count": 83,
     "metadata": {},
     "output_type": "execute_result"
    }
   ],
   "source": [
    "%%sql\n",
    "select * from location\n",
    "limit 1"
   ]
  },
  {
   "cell_type": "code",
   "execution_count": 156,
   "id": "c281f55e-01c5-4f96-9862-fef94d2b00fe",
   "metadata": {
    "tags": []
   },
   "outputs": [
    {
     "name": "stdout",
     "output_type": "stream",
     "text": [
      " * postgresql://student@/ves\n",
      "Done.\n",
      "580 rows affected.\n"
     ]
    },
    {
     "data": {
      "text/plain": [
       "[]"
      ]
     },
     "execution_count": 156,
     "metadata": {},
     "output_type": "execute_result"
    }
   ],
   "source": [
    "%%sql\n",
    "drop table if exists mask;\n",
    "SELECT distinct location.state, date.full_date, sum(Confirmed) as ny_confirmed\n",
    "INTO mask\n",
    "FROM casesdeath, date, location\n",
    "WHERE location.state = 'New York' and location.state = casesdeath.province_state\n",
    "       and  TO_CHAR(casesdeath.last_update, 'YYYY-MM-DD HH24:00:00') = date.full_time\n",
    "       and date.full_date > '2020-04-14'\n",
    "GROUP BY location.state, date.full_date\n",
    "ORDER By ny_confirmed;"
   ]
  },
  {
   "cell_type": "code",
   "execution_count": 157,
   "id": "fdc47f86-79c6-439a-879e-a3f92b9bcfae",
   "metadata": {},
   "outputs": [
    {
     "name": "stdout",
     "output_type": "stream",
     "text": [
      " * postgresql://student@/ves\n",
      "5 rows affected.\n"
     ]
    },
    {
     "data": {
      "text/html": [
       "<table>\n",
       "    <thead>\n",
       "        <tr>\n",
       "            <th>state</th>\n",
       "            <th>full_date</th>\n",
       "            <th>ny_confirmed</th>\n",
       "        </tr>\n",
       "    </thead>\n",
       "    <tbody>\n",
       "        <tr>\n",
       "            <td>New York</td>\n",
       "            <td>2020-04-15</td>\n",
       "            <td>214454</td>\n",
       "        </tr>\n",
       "        <tr>\n",
       "            <td>New York</td>\n",
       "            <td>2020-04-16</td>\n",
       "            <td>223691</td>\n",
       "        </tr>\n",
       "        <tr>\n",
       "            <td>New York</td>\n",
       "            <td>2020-04-17</td>\n",
       "            <td>230597</td>\n",
       "        </tr>\n",
       "        <tr>\n",
       "            <td>New York</td>\n",
       "            <td>2020-04-18</td>\n",
       "            <td>241712</td>\n",
       "        </tr>\n",
       "        <tr>\n",
       "            <td>New York</td>\n",
       "            <td>2020-04-19</td>\n",
       "            <td>247815</td>\n",
       "        </tr>\n",
       "    </tbody>\n",
       "</table>"
      ],
      "text/plain": [
       "[('New York', '2020-04-15', 214454),\n",
       " ('New York', '2020-04-16', 223691),\n",
       " ('New York', '2020-04-17', 230597),\n",
       " ('New York', '2020-04-18', 241712),\n",
       " ('New York', '2020-04-19', 247815)]"
      ]
     },
     "execution_count": 157,
     "metadata": {},
     "output_type": "execute_result"
    }
   ],
   "source": [
    "%%sql\n",
    "select * from mask\n",
    "limit 5"
   ]
  },
  {
   "cell_type": "code",
   "execution_count": 140,
   "id": "0d236442-d622-499f-8899-d8e3e9abf78b",
   "metadata": {},
   "outputs": [
    {
     "name": "stdout",
     "output_type": "stream",
     "text": [
      " * postgresql://student@/ves\n",
      "0 rows affected.\n"
     ]
    },
    {
     "data": {
      "text/html": [
       "<table>\n",
       "    <thead>\n",
       "        <tr>\n",
       "        </tr>\n",
       "    </thead>\n",
       "    <tbody>\n",
       "    </tbody>\n",
       "</table>"
      ],
      "text/plain": [
       "[]"
      ]
     },
     "execution_count": 140,
     "metadata": {},
     "output_type": "execute_result"
    }
   ],
   "source": [
    "%%sql\n",
    "\\copy mask TO 'mask.csv' DELIMITER ',' CSV HEADER;"
   ]
  },
  {
   "cell_type": "code",
   "execution_count": 141,
   "id": "56df9dad-229b-471d-84cc-24aa4fd3ac61",
   "metadata": {},
   "outputs": [
    {
     "name": "stdout",
     "output_type": "stream",
     "text": [
      " * postgresql://student@/ves\n",
      "Done.\n",
      "580 rows affected.\n"
     ]
    },
    {
     "data": {
      "text/plain": [
       "[]"
      ]
     },
     "execution_count": 141,
     "metadata": {},
     "output_type": "execute_result"
    }
   ],
   "source": [
    "%%sql\n",
    "drop table if exists nomask;\n",
    "SELECT distinct location.state, date.full_date, sum(Confirmed) as tx_confirmed\n",
    "INTO nomask\n",
    "FROM casesdeath, date, location\n",
    "WHERE location.state = 'Texas' and location.state = casesdeath.province_state\n",
    "       and  TO_CHAR(casesdeath.last_update, 'YYYY-MM-DD HH24:00:00') = date.full_time\n",
    "       and date.full_date > '2020-04-14'\n",
    "GROUP BY location.state, date.full_date\n",
    "ORDER By tx_confirmed;"
   ]
  },
  {
   "cell_type": "code",
   "execution_count": 142,
   "id": "c7421021-8a91-4988-adf6-fa713f0169f1",
   "metadata": {},
   "outputs": [
    {
     "name": "stdout",
     "output_type": "stream",
     "text": [
      " * postgresql://student@/ves\n",
      "5 rows affected.\n"
     ]
    },
    {
     "data": {
      "text/html": [
       "<table>\n",
       "    <thead>\n",
       "        <tr>\n",
       "            <th>state</th>\n",
       "            <th>full_date</th>\n",
       "            <th>tx_confirmed</th>\n",
       "        </tr>\n",
       "    </thead>\n",
       "    <tbody>\n",
       "        <tr>\n",
       "            <td>Texas</td>\n",
       "            <td>2020-04-15</td>\n",
       "            <td>16044</td>\n",
       "        </tr>\n",
       "        <tr>\n",
       "            <td>Texas</td>\n",
       "            <td>2020-04-16</td>\n",
       "            <td>16985</td>\n",
       "        </tr>\n",
       "        <tr>\n",
       "            <td>Texas</td>\n",
       "            <td>2020-04-17</td>\n",
       "            <td>17925</td>\n",
       "        </tr>\n",
       "        <tr>\n",
       "            <td>Texas</td>\n",
       "            <td>2020-04-18</td>\n",
       "            <td>18724</td>\n",
       "        </tr>\n",
       "        <tr>\n",
       "            <td>Texas</td>\n",
       "            <td>2020-04-19</td>\n",
       "            <td>19282</td>\n",
       "        </tr>\n",
       "    </tbody>\n",
       "</table>"
      ],
      "text/plain": [
       "[('Texas', '2020-04-15', 16044),\n",
       " ('Texas', '2020-04-16', 16985),\n",
       " ('Texas', '2020-04-17', 17925),\n",
       " ('Texas', '2020-04-18', 18724),\n",
       " ('Texas', '2020-04-19', 19282)]"
      ]
     },
     "execution_count": 142,
     "metadata": {},
     "output_type": "execute_result"
    }
   ],
   "source": [
    "%%sql\n",
    "select * from nomask\n",
    "limit 5"
   ]
  },
  {
   "cell_type": "code",
   "execution_count": 143,
   "id": "bd74a54e-17fa-4314-9bd2-ffe0a1b37c18",
   "metadata": {},
   "outputs": [
    {
     "name": "stdout",
     "output_type": "stream",
     "text": [
      " * postgresql://student@/ves\n",
      "0 rows affected.\n"
     ]
    },
    {
     "data": {
      "text/html": [
       "<table>\n",
       "    <thead>\n",
       "        <tr>\n",
       "        </tr>\n",
       "    </thead>\n",
       "    <tbody>\n",
       "    </tbody>\n",
       "</table>"
      ],
      "text/plain": [
       "[]"
      ]
     },
     "execution_count": 143,
     "metadata": {},
     "output_type": "execute_result"
    }
   ],
   "source": [
    "%%sql\n",
    "\\copy nomask TO 'nomask.csv' DELIMITER ',' CSV HEADER;"
   ]
  },
  {
   "cell_type": "code",
   "execution_count": 145,
   "id": "78589e65-85ef-4365-a359-49672a660af9",
   "metadata": {},
   "outputs": [],
   "source": [
    "mask = pd.read_csv(\"mask.csv\")\n",
    "nomask = pd.read_csv(\"nomask.csv\")"
   ]
  },
  {
   "cell_type": "code",
   "execution_count": 146,
   "id": "f78184d3-2004-4660-bcdd-6c6a48337556",
   "metadata": {},
   "outputs": [
    {
     "data": {
      "text/plain": [
       "<AxesSubplot:>"
      ]
     },
     "execution_count": 146,
     "metadata": {},
     "output_type": "execute_result"
    },
    {
     "data": {
      "image/png": "[encoded data removed]",
      "text/plain": [
       "<Figure size 432x288 with 1 Axes>"
      ]
     },
     "metadata": {
      "needs_background": "light"
     },
     "output_type": "display_data"
    }
   ],
   "source": [
    "sns.lineplot(data=mask)"
   ]
  },
  {
   "cell_type": "code",
   "execution_count": 147,
   "id": "f9ff27f9-5cd0-4e92-990e-c3290dd5d92d",
   "metadata": {},
   "outputs": [
    {
     "data": {
      "text/plain": [
       "<AxesSubplot:>"
      ]
     },
     "execution_count": 147,
     "metadata": {},
     "output_type": "execute_result"
    },
    {
     "data": {
      "image/png": "[encoded data removed]",
      "text/plain": [
       "<Figure size 432x288 with 1 Axes>"
      ]
     },
     "metadata": {
      "needs_background": "light"
     },
     "output_type": "display_data"
    }
   ],
   "source": [
    "sns.lineplot(data=nomask)"
   ]
  },
  {
   "cell_type": "code",
   "execution_count": 154,
   "id": "dd876607-46bc-4513-9fef-21e80e51299c",
   "metadata": {},
   "outputs": [
    {
     "name": "stdout",
     "output_type": "stream",
     "text": [
      " * postgresql://student@/ves\n",
      "Done.\n"
     ]
    },
    {
     "data": {
      "text/plain": [
       "[]"
      ]
     },
     "execution_count": 154,
     "metadata": {},
     "output_type": "execute_result"
    }
   ],
   "source": [
    "%%sql\n",
    "ALTER table mask\n",
    "drop column state"
   ]
  },
  {
   "cell_type": "code",
   "execution_count": 158,
   "id": "47508d73-7b2c-4ee8-aeea-608cc7d53b5d",
   "metadata": {},
   "outputs": [
    {
     "name": "stdout",
     "output_type": "stream",
     "text": [
      " * postgresql://student@/ves\n",
      "5 rows affected.\n"
     ]
    },
    {
     "data": {
      "text/html": [
       "<table>\n",
       "    <thead>\n",
       "        <tr>\n",
       "            <th>state</th>\n",
       "            <th>full_date</th>\n",
       "            <th>ny_confirmed</th>\n",
       "        </tr>\n",
       "    </thead>\n",
       "    <tbody>\n",
       "        <tr>\n",
       "            <td>New York</td>\n",
       "            <td>2020-04-15</td>\n",
       "            <td>214454</td>\n",
       "        </tr>\n",
       "        <tr>\n",
       "            <td>New York</td>\n",
       "            <td>2020-04-16</td>\n",
       "            <td>223691</td>\n",
       "        </tr>\n",
       "        <tr>\n",
       "            <td>New York</td>\n",
       "            <td>2020-04-17</td>\n",
       "            <td>230597</td>\n",
       "        </tr>\n",
       "        <tr>\n",
       "            <td>New York</td>\n",
       "            <td>2020-04-18</td>\n",
       "            <td>241712</td>\n",
       "        </tr>\n",
       "        <tr>\n",
       "            <td>New York</td>\n",
       "            <td>2020-04-19</td>\n",
       "            <td>247815</td>\n",
       "        </tr>\n",
       "    </tbody>\n",
       "</table>"
      ],
      "text/plain": [
       "[('New York', '2020-04-15', 214454),\n",
       " ('New York', '2020-04-16', 223691),\n",
       " ('New York', '2020-04-17', 230597),\n",
       " ('New York', '2020-04-18', 241712),\n",
       " ('New York', '2020-04-19', 247815)]"
      ]
     },
     "execution_count": 158,
     "metadata": {},
     "output_type": "execute_result"
    }
   ],
   "source": [
    "%%sql\n",
    "Select * from mask\n",
    "limit 5"
   ]
  },
  {
   "cell_type": "code",
   "execution_count": 152,
   "id": "90c729e4-d564-423e-bb3a-c5df629fa98e",
   "metadata": {
    "tags": []
   },
   "outputs": [
    {
     "name": "stdout",
     "output_type": "stream",
     "text": [
      " * postgresql://student@/ves\n",
      "5 rows affected.\n"
     ]
    },
    {
     "data": {
      "text/html": [
       "<table>\n",
       "    <thead>\n",
       "        <tr>\n",
       "            <th>state</th>\n",
       "            <th>full_date</th>\n",
       "            <th>ny_confirmed</th>\n",
       "            <th>tx_confirmed</th>\n",
       "        </tr>\n",
       "    </thead>\n",
       "    <tbody>\n",
       "        <tr>\n",
       "            <td>New York</td>\n",
       "            <td>2020-04-15</td>\n",
       "            <td>214454</td>\n",
       "            <td>16044</td>\n",
       "        </tr>\n",
       "        <tr>\n",
       "            <td>New York</td>\n",
       "            <td>2020-04-16</td>\n",
       "            <td>223691</td>\n",
       "            <td>16985</td>\n",
       "        </tr>\n",
       "        <tr>\n",
       "            <td>New York</td>\n",
       "            <td>2020-04-17</td>\n",
       "            <td>230597</td>\n",
       "            <td>17925</td>\n",
       "        </tr>\n",
       "        <tr>\n",
       "            <td>New York</td>\n",
       "            <td>2020-04-18</td>\n",
       "            <td>241712</td>\n",
       "            <td>18724</td>\n",
       "        </tr>\n",
       "        <tr>\n",
       "            <td>New York</td>\n",
       "            <td>2020-04-19</td>\n",
       "            <td>247815</td>\n",
       "            <td>19282</td>\n",
       "        </tr>\n",
       "    </tbody>\n",
       "</table>"
      ],
      "text/plain": [
       "[('New York', '2020-04-15', 214454, 16044),\n",
       " ('New York', '2020-04-16', 223691, 16985),\n",
       " ('New York', '2020-04-17', 230597, 17925),\n",
       " ('New York', '2020-04-18', 241712, 18724),\n",
       " ('New York', '2020-04-19', 247815, 19282)]"
      ]
     },
     "execution_count": 166,
     "metadata": {},
     "output_type": "execute_result"
    }
   ],
   "source": [
    "%%sql\n",
    "Select mask.*, nomask.tx_confirmed\n",
    "from mask\n",
    "LEFT JOIN nomask\n",
    "ON mask.full_date=nomask.full_date\n",
    "limit 5"
   ]
  },
  {
   "cell_type": "code",
   "execution_count": 187,
   "id": "5e70f4d2-878a-4df2-ad8a-e59c0187486e",
   "metadata": {},
   "outputs": [
    {
     "name": "stdout",
     "output_type": "stream",
     "text": [
      " * postgresql://student@/ves\n",
      "Done.\n",
      "329 rows affected.\n"
     ]
    },
    {
     "data": {
      "text/plain": [
       "[]"
      ]
     },
     "execution_count": 187,
     "metadata": {},
     "output_type": "execute_result"
    }
   ],
   "source": [
    "%%sql\n",
    "drop table if exists mask_policy;\n",
    "SELECT distinct mask.full_date, mask.ny_confirmed,nomask.tx_confirmed\n",
    "INTO mask_policy\n",
    "FROM mask,nomask\n",
    "WHERE mask.full_date=nomask.full_date and mask.full_date < '2021-03-11'"
   ]
  },
  {
   "cell_type": "code",
   "execution_count": 188,
   "id": "3c328577-e24c-4142-958c-00d8ffe2c0a9",
   "metadata": {},
   "outputs": [
    {
     "name": "stdout",
     "output_type": "stream",
     "text": [
      " * postgresql://student@/ves\n",
      "5 rows affected.\n"
     ]
    },
    {
     "data": {
      "text/html": [
       "<table>\n",
       "    <thead>\n",
       "        <tr>\n",
       "            <th>full_date</th>\n",
       "            <th>ny_confirmed</th>\n",
       "            <th>tx_confirmed</th>\n",
       "        </tr>\n",
       "    </thead>\n",
       "    <tbody>\n",
       "        <tr>\n",
       "            <td>2020-07-02</td>\n",
       "            <td>394079</td>\n",
       "            <td>172859</td>\n",
       "        </tr>\n",
       "        <tr>\n",
       "            <td>2020-08-29</td>\n",
       "            <td>432767</td>\n",
       "            <td>625053</td>\n",
       "        </tr>\n",
       "        <tr>\n",
       "            <td>2021-02-04</td>\n",
       "            <td>1443942</td>\n",
       "            <td>2449535</td>\n",
       "        </tr>\n",
       "        <tr>\n",
       "            <td>2020-12-12</td>\n",
       "            <td>763228</td>\n",
       "            <td>1460691</td>\n",
       "        </tr>\n",
       "        <tr>\n",
       "            <td>2020-12-20</td>\n",
       "            <td>847778</td>\n",
       "            <td>1585167</td>\n",
       "        </tr>\n",
       "    </tbody>\n",
       "</table>"
      ],
      "text/plain": [
       "[('2020-07-02', 394079, 172859),\n",
       " ('2020-08-29', 432767, 625053),\n",
       " ('2021-02-04', 1443942, 2449535),\n",
       " ('2020-12-12', 763228, 1460691),\n",
       " ('2020-12-20', 847778, 1585167)]"
      ]
     },
     "execution_count": 188,
     "metadata": {},
     "output_type": "execute_result"
    }
   ],
   "source": [
    "%%sql\n",
    "select * from mask_policy\n",
    "limit 5"
   ]
  },
  {
   "cell_type": "code",
   "execution_count": 189,
   "id": "4bc33e4d-aa9a-4a1f-a25f-f83763e961b9",
   "metadata": {},
   "outputs": [
    {
     "name": "stdout",
     "output_type": "stream",
     "text": [
      " * postgresql://student@/ves\n",
      "0 rows affected.\n"
     ]
    },
    {
     "data": {
      "text/html": [
       "<table>\n",
       "    <thead>\n",
       "        <tr>\n",
       "        </tr>\n",
       "    </thead>\n",
       "    <tbody>\n",
       "    </tbody>\n",
       "</table>"
      ],
      "text/plain": [
       "[]"
      ]
     },
     "execution_count": 189,
     "metadata": {},
     "output_type": "execute_result"
    }
   ],
   "source": [
    "%%sql\n",
    "\\copy mask_policy TO 'mask_policy.csv' DELIMITER ',' CSV HEADER;"
   ]
  },
  {
   "cell_type": "code",
   "execution_count": 190,
   "id": "2d4a3dae-e228-4008-af28-ca59bd2ba5cd",
   "metadata": {},
   "outputs": [],
   "source": [
    "mask_policy = pd.read_csv(\"mask_policy.csv\")"
   ]
  },
  {
   "cell_type": "code",
   "execution_count": 191,
   "id": "90cbe83d-2912-4903-a508-4d6d4a2c3c5d",
   "metadata": {},
   "outputs": [
    {
     "data": {
      "text/plain": [
       "<AxesSubplot:>"
      ]
     },
     "execution_count": 191,
     "metadata": {},
     "output_type": "execute_result"
    },
    {
     "data": {
      "image/png": "[encoded data removed]",
      "text/plain": [
       "<Figure size 432x288 with 1 Axes>"
      ]
     },
     "metadata": {
      "needs_background": "light"
     },
     "output_type": "display_data"
    }
   ],
   "source": [
    "sns.lineplot(data=mask_policy)"
   ]
  },
  {
   "cell_type": "markdown",
   "id": "d782b35e-dfac-4c9a-adcb-f84e5d9fdd92",
   "metadata": {},
   "source": [
    "#### Findings: With these three plots, we can see how the outdoor mask mandate policy affect the New York state covid spread, after 4/15/2020. Even New York has a higher population density than Texas, the increasing trend of new confirmed cases is still lower than Texas. Since Texas doesn't have any mask mandate until 3/10/2021."
   ]
  },
  {
   "cell_type": "code",
   "execution_count": null,
   "id": "b7dae7ed-b7af-465b-8848-cb30b130d0c0",
   "metadata": {},
   "outputs": [],
   "source": []
  },
  {
   "cell_type": "markdown",
   "id": "2aa1ddfd-ca17-4017-a10f-855d7287879b",
   "metadata": {},
   "source": [
    "# This is the end of 6305 group project by group 5."
   ]
  }
 ],
 "metadata": {
  "kernelspec": {
   "display_name": "Python 3 (ipykernel)",
   "language": "python",
   "name": "python3"
  },
  "language_info": {
   "codemirror_mode": {
    "name": "ipython",
    "version": 3
   },
   "file_extension": ".py",
   "mimetype": "text/x-python",
   "name": "python",
   "nbconvert_exporter": "python",
   "pygments_lexer": "ipython3",
   "version": "3.9.7"
  }
 },
 "nbformat": 4,
 "nbformat_minor": 5
}
